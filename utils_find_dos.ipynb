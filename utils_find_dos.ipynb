{
 "cells": [
  {
   "cell_type": "markdown",
   "metadata": {},
   "source": [
    "## Calculate degree of separation for DUD-E proteins and ligands\n",
    "\n",
    "This notebook calculates the degree of separation (and associated statistics)\n",
    "for proteins and ligands stored in the PyTorch `Data` format."
   ]
  },
  {
   "cell_type": "code",
   "execution_count": 1,
   "metadata": {},
   "outputs": [
    {
     "data": {
      "application/javascript": [
       "\n",
       "            setTimeout(function() {\n",
       "                var nbb_cell_id = 1;\n",
       "                var nbb_unformatted_code = \"# Delete the following:\\n%load_ext nb_black\";\n",
       "                var nbb_formatted_code = \"# Delete the following:\\n%load_ext nb_black\";\n",
       "                var nbb_cells = Jupyter.notebook.get_cells();\n",
       "                for (var i = 0; i < nbb_cells.length; ++i) {\n",
       "                    if (nbb_cells[i].input_prompt_number == nbb_cell_id) {\n",
       "                        if (nbb_cells[i].get_text() == nbb_unformatted_code) {\n",
       "                             nbb_cells[i].set_text(nbb_formatted_code);\n",
       "                        }\n",
       "                        break;\n",
       "                    }\n",
       "                }\n",
       "            }, 500);\n",
       "            "
      ],
      "text/plain": [
       "<IPython.core.display.Javascript object>"
      ]
     },
     "metadata": {},
     "output_type": "display_data"
    }
   ],
   "source": [
    "# Delete the following:\n",
    "%load_ext nb_black"
   ]
  },
  {
   "cell_type": "code",
   "execution_count": 2,
   "metadata": {},
   "outputs": [
    {
     "data": {
      "application/javascript": [
       "\n",
       "            setTimeout(function() {\n",
       "                var nbb_cell_id = 2;\n",
       "                var nbb_unformatted_code = \"import heapq\\nimport numpy as np\\nimport pandas as pd\\nimport matplotlib.pyplot as plt\\nfrom progressbar import progressbar\\nfrom torch_geometric.data import Data\";\n",
       "                var nbb_formatted_code = \"import heapq\\nimport numpy as np\\nimport pandas as pd\\nimport matplotlib.pyplot as plt\\nfrom progressbar import progressbar\\nfrom torch_geometric.data import Data\";\n",
       "                var nbb_cells = Jupyter.notebook.get_cells();\n",
       "                for (var i = 0; i < nbb_cells.length; ++i) {\n",
       "                    if (nbb_cells[i].input_prompt_number == nbb_cell_id) {\n",
       "                        if (nbb_cells[i].get_text() == nbb_unformatted_code) {\n",
       "                             nbb_cells[i].set_text(nbb_formatted_code);\n",
       "                        }\n",
       "                        break;\n",
       "                    }\n",
       "                }\n",
       "            }, 500);\n",
       "            "
      ],
      "text/plain": [
       "<IPython.core.display.Javascript object>"
      ]
     },
     "metadata": {},
     "output_type": "display_data"
    }
   ],
   "source": [
    "import heapq\n",
    "import numpy as np\n",
    "import pandas as pd\n",
    "import matplotlib.pyplot as plt\n",
    "from progressbar import progressbar\n",
    "from torch_geometric.data import Data"
   ]
  },
  {
   "cell_type": "markdown",
   "metadata": {},
   "source": [
    "### Function definitions"
   ]
  },
  {
   "cell_type": "code",
   "execution_count": 3,
   "metadata": {},
   "outputs": [
    {
     "data": {
      "application/javascript": [
       "\n",
       "            setTimeout(function() {\n",
       "                var nbb_cell_id = 3;\n",
       "                var nbb_unformatted_code = \"# get_distances_vertex implementation from\\n# https://bradfieldcs.com/algos/graphs/dijkstras-algorithm/\\n# Retrieved and modified on 17/12/2020.\\n\\n\\ndef get_distances_vertex(graph, starting_vertex, filter_natural=True):\\n    \\\"\\\"\\\"Get the shortest distances from the starting vertex to every other.\\\"\\\"\\\"\\n    # Initialize all distances as infinity, except for that between the\\n    # starting vertex and itself.\\n    distances = {vertex: float(\\\"infinity\\\") for vertex in graph}\\n    distances[starting_vertex] = 0\\n\\n    # Initialize the priority queue with the vertex we start the path from.\\n    pq = [(0, starting_vertex)]\\n    while len(pq) > 0:\\n        # Pop out the \\\"most promising\\\" vertex to next visit.\\n        current_distance, current_vertex = heapq.heappop(pq)\\n\\n        # Nodes can get added to the priority queue multiple times. We only\\n        # process a vertex the first time we remove it from the priority queue.\\n        if current_distance > distances[current_vertex]:\\n            continue\\n\\n        # Consider visiting the neighbors of the current vertex in consideration.\\n        for neighbor, weight in graph[current_vertex].items():\\n            distance = current_distance + weight\\n\\n            # Only consider this new path if it's better than any path we've\\n            # already found.\\n            if distance < distances[neighbor]:\\n                # Update the shortest distance to this neighbor.\\n                distances[neighbor] = distance\\n                heapq.heappush(pq, (distance, neighbor))\\n\\n    # Filter out all infinite distance entries (i.e., the vertex isn't reachable\\n    # from starting_vertex), and the entry for the starting_vertex itself.\\n    if filter_natural:\\n        return {\\n            vertex: distance\\n            for vertex, distance in distances.items()\\n            if vertex != starting_vertex and not np.isinf(distance)\\n        }\\n    return distances\\n\\n\\ndef get_distances_all(graph):\\n    \\\"\\\"\\\"Get the shortest distances towards every vertex in the graph from every other.\\\"\\\"\\\"\\n    all_distances = []\\n    for i in range(len(graph.keys())):\\n        all_distances.append(get_distances_vertex(graph, i))\\n    return all_distances\";\n",
       "                var nbb_formatted_code = \"# get_distances_vertex implementation from\\n# https://bradfieldcs.com/algos/graphs/dijkstras-algorithm/\\n# Retrieved and modified on 17/12/2020.\\n\\n\\ndef get_distances_vertex(graph, starting_vertex, filter_natural=True):\\n    \\\"\\\"\\\"Get the shortest distances from the starting vertex to every other.\\\"\\\"\\\"\\n    # Initialize all distances as infinity, except for that between the\\n    # starting vertex and itself.\\n    distances = {vertex: float(\\\"infinity\\\") for vertex in graph}\\n    distances[starting_vertex] = 0\\n\\n    # Initialize the priority queue with the vertex we start the path from.\\n    pq = [(0, starting_vertex)]\\n    while len(pq) > 0:\\n        # Pop out the \\\"most promising\\\" vertex to next visit.\\n        current_distance, current_vertex = heapq.heappop(pq)\\n\\n        # Nodes can get added to the priority queue multiple times. We only\\n        # process a vertex the first time we remove it from the priority queue.\\n        if current_distance > distances[current_vertex]:\\n            continue\\n\\n        # Consider visiting the neighbors of the current vertex in consideration.\\n        for neighbor, weight in graph[current_vertex].items():\\n            distance = current_distance + weight\\n\\n            # Only consider this new path if it's better than any path we've\\n            # already found.\\n            if distance < distances[neighbor]:\\n                # Update the shortest distance to this neighbor.\\n                distances[neighbor] = distance\\n                heapq.heappush(pq, (distance, neighbor))\\n\\n    # Filter out all infinite distance entries (i.e., the vertex isn't reachable\\n    # from starting_vertex), and the entry for the starting_vertex itself.\\n    if filter_natural:\\n        return {\\n            vertex: distance\\n            for vertex, distance in distances.items()\\n            if vertex != starting_vertex and not np.isinf(distance)\\n        }\\n    return distances\\n\\n\\ndef get_distances_all(graph):\\n    \\\"\\\"\\\"Get the shortest distances towards every vertex in the graph from every other.\\\"\\\"\\\"\\n    all_distances = []\\n    for i in range(len(graph.keys())):\\n        all_distances.append(get_distances_vertex(graph, i))\\n    return all_distances\";\n",
       "                var nbb_cells = Jupyter.notebook.get_cells();\n",
       "                for (var i = 0; i < nbb_cells.length; ++i) {\n",
       "                    if (nbb_cells[i].input_prompt_number == nbb_cell_id) {\n",
       "                        if (nbb_cells[i].get_text() == nbb_unformatted_code) {\n",
       "                             nbb_cells[i].set_text(nbb_formatted_code);\n",
       "                        }\n",
       "                        break;\n",
       "                    }\n",
       "                }\n",
       "            }, 500);\n",
       "            "
      ],
      "text/plain": [
       "<IPython.core.display.Javascript object>"
      ]
     },
     "metadata": {},
     "output_type": "display_data"
    }
   ],
   "source": [
    "# get_distances_vertex implementation from\n",
    "# https://bradfieldcs.com/algos/graphs/dijkstras-algorithm/\n",
    "# Retrieved and modified on 17/12/2020.\n",
    "\n",
    "\n",
    "def get_distances_vertex(graph, starting_vertex, filter_natural=True):\n",
    "    \"\"\"Get the shortest distances from the starting vertex to every other.\"\"\"\n",
    "    # Initialize all distances as infinity, except for that between the\n",
    "    # starting vertex and itself.\n",
    "    distances = {vertex: float(\"infinity\") for vertex in graph}\n",
    "    distances[starting_vertex] = 0\n",
    "\n",
    "    # Initialize the priority queue with the vertex we start the path from.\n",
    "    pq = [(0, starting_vertex)]\n",
    "    while len(pq) > 0:\n",
    "        # Pop out the \"most promising\" vertex to next visit.\n",
    "        current_distance, current_vertex = heapq.heappop(pq)\n",
    "\n",
    "        # Nodes can get added to the priority queue multiple times. We only\n",
    "        # process a vertex the first time we remove it from the priority queue.\n",
    "        if current_distance > distances[current_vertex]:\n",
    "            continue\n",
    "\n",
    "        # Consider visiting the neighbors of the current vertex in consideration.\n",
    "        for neighbor, weight in graph[current_vertex].items():\n",
    "            distance = current_distance + weight\n",
    "\n",
    "            # Only consider this new path if it's better than any path we've\n",
    "            # already found.\n",
    "            if distance < distances[neighbor]:\n",
    "                # Update the shortest distance to this neighbor.\n",
    "                distances[neighbor] = distance\n",
    "                heapq.heappush(pq, (distance, neighbor))\n",
    "\n",
    "    # Filter out all infinite distance entries (i.e., the vertex isn't reachable\n",
    "    # from starting_vertex), and the entry for the starting_vertex itself.\n",
    "    if filter_natural:\n",
    "        return {\n",
    "            vertex: distance\n",
    "            for vertex, distance in distances.items()\n",
    "            if vertex != starting_vertex and not np.isinf(distance)\n",
    "        }\n",
    "    return distances\n",
    "\n",
    "\n",
    "def get_distances_all(graph):\n",
    "    \"\"\"Get the shortest distances towards every vertex in the graph from every other.\"\"\"\n",
    "    all_distances = []\n",
    "    for i in range(len(graph.keys())):\n",
    "        all_distances.append(get_distances_vertex(graph, i))\n",
    "    return all_distances"
   ]
  },
  {
   "cell_type": "markdown",
   "metadata": {},
   "source": [
    "### Application: proteins"
   ]
  },
  {
   "cell_type": "code",
   "execution_count": 4,
   "metadata": {},
   "outputs": [
    {
     "data": {
      "application/javascript": [
       "\n",
       "            setTimeout(function() {\n",
       "                var nbb_cell_id = 4;\n",
       "                var nbb_unformatted_code = \"# Get the list of target names.\\nall_targets = pd.read_csv(\\\"../data/dud-e_targets.csv\\\").target_name.tolist()\\nall_targets = [target.lower() for target in all_targets]\\n\\n# Temporary removal -- bond information not available.\\nall_targets.remove(\\\"aa2ar\\\")\\nall_targets.remove(\\\"drd3\\\")\";\n",
       "                var nbb_formatted_code = \"# Get the list of target names.\\nall_targets = pd.read_csv(\\\"../data/dud-e_targets.csv\\\").target_name.tolist()\\nall_targets = [target.lower() for target in all_targets]\\n\\n# Temporary removal -- bond information not available.\\nall_targets.remove(\\\"aa2ar\\\")\\nall_targets.remove(\\\"drd3\\\")\";\n",
       "                var nbb_cells = Jupyter.notebook.get_cells();\n",
       "                for (var i = 0; i < nbb_cells.length; ++i) {\n",
       "                    if (nbb_cells[i].input_prompt_number == nbb_cell_id) {\n",
       "                        if (nbb_cells[i].get_text() == nbb_unformatted_code) {\n",
       "                             nbb_cells[i].set_text(nbb_formatted_code);\n",
       "                        }\n",
       "                        break;\n",
       "                    }\n",
       "                }\n",
       "            }, 500);\n",
       "            "
      ],
      "text/plain": [
       "<IPython.core.display.Javascript object>"
      ]
     },
     "metadata": {},
     "output_type": "display_data"
    }
   ],
   "source": [
    "# Get the list of target names.\n",
    "all_targets = pd.read_csv(\"../data/dud-e_targets.csv\").target_name.tolist()\n",
    "all_targets = [target.lower() for target in all_targets]\n",
    "\n",
    "# Temporary removal -- bond information not available.\n",
    "all_targets.remove(\"aa2ar\")\n",
    "all_targets.remove(\"drd3\")"
   ]
  },
  {
   "cell_type": "code",
   "execution_count": 5,
   "metadata": {},
   "outputs": [
    {
     "data": {
      "application/javascript": [
       "\n",
       "            setTimeout(function() {\n",
       "                var nbb_cell_id = 5;\n",
       "                var nbb_unformatted_code = \"def get_data(target, cutoff):\\n    # cutoff refers to the cutoff used to filter the protein PDB.\\n    # More details in 00_protein_processing.ipynb.\\n    return pd.read_pickle(f\\\"../data/raw/{cutoff}_{target}.pkl\\\")\\n\\n\\ndef data_to_dict(data):\\n    \\\"\\\"\\\"Convert the Data to the dictionary graph representation.\\\"\\\"\\\"\\n    edge_indices = data.edge_index.numpy()\\n    graph_dict = dict()\\n    # For each vertex in the graph, create a dictionary in graph_dict.\\n    for i in range(data.x.shape[0]):\\n        graph_dict[i] = dict()\\n    # For each edge, record it in graph_dict. In our use case,\\n    # the weight of each bond is \\\"1\\\", although this notebook can be used\\n    # otherwise.\\n    for i in range(len(edge_indices[0])):\\n        graph_dict[edge_indices[0][i]][edge_indices[1][i]] = 1\\n    return graph_dict\";\n",
       "                var nbb_formatted_code = \"def get_data(target, cutoff):\\n    # cutoff refers to the cutoff used to filter the protein PDB.\\n    # More details in 00_protein_processing.ipynb.\\n    return pd.read_pickle(f\\\"../data/raw/{cutoff}_{target}.pkl\\\")\\n\\n\\ndef data_to_dict(data):\\n    \\\"\\\"\\\"Convert the Data to the dictionary graph representation.\\\"\\\"\\\"\\n    edge_indices = data.edge_index.numpy()\\n    graph_dict = dict()\\n    # For each vertex in the graph, create a dictionary in graph_dict.\\n    for i in range(data.x.shape[0]):\\n        graph_dict[i] = dict()\\n    # For each edge, record it in graph_dict. In our use case,\\n    # the weight of each bond is \\\"1\\\", although this notebook can be used\\n    # otherwise.\\n    for i in range(len(edge_indices[0])):\\n        graph_dict[edge_indices[0][i]][edge_indices[1][i]] = 1\\n    return graph_dict\";\n",
       "                var nbb_cells = Jupyter.notebook.get_cells();\n",
       "                for (var i = 0; i < nbb_cells.length; ++i) {\n",
       "                    if (nbb_cells[i].input_prompt_number == nbb_cell_id) {\n",
       "                        if (nbb_cells[i].get_text() == nbb_unformatted_code) {\n",
       "                             nbb_cells[i].set_text(nbb_formatted_code);\n",
       "                        }\n",
       "                        break;\n",
       "                    }\n",
       "                }\n",
       "            }, 500);\n",
       "            "
      ],
      "text/plain": [
       "<IPython.core.display.Javascript object>"
      ]
     },
     "metadata": {},
     "output_type": "display_data"
    }
   ],
   "source": [
    "def get_data(target, cutoff):\n",
    "    # cutoff refers to the cutoff used to filter the protein PDB.\n",
    "    # More details in 00_protein_processing.ipynb.\n",
    "    return pd.read_pickle(f\"../data/raw/{cutoff}_{target}.pkl\")\n",
    "\n",
    "\n",
    "def data_to_dict(data):\n",
    "    \"\"\"Convert the Data to the dictionary graph representation.\"\"\"\n",
    "    edge_indices = data.edge_index.numpy()\n",
    "    graph_dict = dict()\n",
    "    # For each vertex in the graph, create a dictionary in graph_dict.\n",
    "    for i in range(data.x.shape[0]):\n",
    "        graph_dict[i] = dict()\n",
    "    # For each edge, record it in graph_dict. In our use case,\n",
    "    # the weight of each bond is \"1\", although this notebook can be used\n",
    "    # otherwise.\n",
    "    for i in range(len(edge_indices[0])):\n",
    "        graph_dict[edge_indices[0][i]][edge_indices[1][i]] = 1\n",
    "    return graph_dict"
   ]
  },
  {
   "cell_type": "code",
   "execution_count": 6,
   "metadata": {},
   "outputs": [
    {
     "data": {
      "application/javascript": [
       "\n",
       "            setTimeout(function() {\n",
       "                var nbb_cell_id = 6;\n",
       "                var nbb_unformatted_code = \"# Get the dictionary of target graph dictionaries.\\nall_targets_dict = dict(\\n    zip(all_targets, [data_to_dict(get_data(target, 10)) for target in all_targets])\\n)\";\n",
       "                var nbb_formatted_code = \"# Get the dictionary of target graph dictionaries.\\nall_targets_dict = dict(\\n    zip(all_targets, [data_to_dict(get_data(target, 10)) for target in all_targets])\\n)\";\n",
       "                var nbb_cells = Jupyter.notebook.get_cells();\n",
       "                for (var i = 0; i < nbb_cells.length; ++i) {\n",
       "                    if (nbb_cells[i].input_prompt_number == nbb_cell_id) {\n",
       "                        if (nbb_cells[i].get_text() == nbb_unformatted_code) {\n",
       "                             nbb_cells[i].set_text(nbb_formatted_code);\n",
       "                        }\n",
       "                        break;\n",
       "                    }\n",
       "                }\n",
       "            }, 500);\n",
       "            "
      ],
      "text/plain": [
       "<IPython.core.display.Javascript object>"
      ]
     },
     "metadata": {},
     "output_type": "display_data"
    }
   ],
   "source": [
    "# Get the dictionary of target graph dictionaries.\n",
    "all_targets_dict = dict(\n",
    "    zip(all_targets, [data_to_dict(get_data(target, 10)) for target in all_targets])\n",
    ")"
   ]
  },
  {
   "cell_type": "code",
   "execution_count": 21,
   "metadata": {},
   "outputs": [
    {
     "data": {
      "application/javascript": [
       "\n",
       "            setTimeout(function() {\n",
       "                var nbb_cell_id = 21;\n",
       "                var nbb_unformatted_code = \"# Calculate the degree of separatedness for each target graph.\\nprotein_all_distances = dict(zip(all_targets, [\\n    get_distances_all(all_targets_dict[target]) for target in all_targets\\n]))\";\n",
       "                var nbb_formatted_code = \"# Calculate the degree of separatedness for each target graph.\\nprotein_all_distances = dict(\\n    zip(\\n        all_targets,\\n        [get_distances_all(all_targets_dict[target]) for target in all_targets],\\n    )\\n)\";\n",
       "                var nbb_cells = Jupyter.notebook.get_cells();\n",
       "                for (var i = 0; i < nbb_cells.length; ++i) {\n",
       "                    if (nbb_cells[i].input_prompt_number == nbb_cell_id) {\n",
       "                        if (nbb_cells[i].get_text() == nbb_unformatted_code) {\n",
       "                             nbb_cells[i].set_text(nbb_formatted_code);\n",
       "                        }\n",
       "                        break;\n",
       "                    }\n",
       "                }\n",
       "            }, 500);\n",
       "            "
      ],
      "text/plain": [
       "<IPython.core.display.Javascript object>"
      ]
     },
     "metadata": {},
     "output_type": "display_data"
    }
   ],
   "source": [
    "# Calculate the degree of separatedness for each target graph.\n",
    "protein_all_distances = dict(\n",
    "    zip(\n",
    "        all_targets,\n",
    "        [get_distances_all(all_targets_dict[target]) for target in all_targets],\n",
    "    )\n",
    ")"
   ]
  },
  {
   "cell_type": "markdown",
   "metadata": {},
   "source": [
    "### Application: ligands\n",
    "\n",
    "Repeat a similar process for ligands, which are organized under the target they are tested on."
   ]
  },
  {
   "cell_type": "code",
   "execution_count": 8,
   "metadata": {},
   "outputs": [
    {
     "data": {
      "application/javascript": [
       "\n",
       "            setTimeout(function() {\n",
       "                var nbb_cell_id = 8;\n",
       "                var nbb_unformatted_code = \"def load_ligands(target, sample):\\n    \\\"\\\"\\\"Get the ligand graph dictionaries relating to the target.\\\"\\\"\\\"\\n    target_data_dict = pd.read_pickle(f\\\"../data/raw/{target}_ligand_dict.pkl\\\")\\n    # If sampling, randomly select only\\n    if sample is not None:\\n        selected_ligands = np.random.choice(\\n            list(target_data_dict.keys()), size=sample, replace=False\\n        )\\n    # Repurpose data_to_dict() from the proteins section, since\\n    # ligands are also stored as Data objects.\\n    return {\\n        ligand_code: data_to_dict(ligand_data)\\n        for ligand_code, ligand_data in target_data_dict.items()\\n        if ligand_code in selected_ligands\\n    }\\n\\n\\ndef get_ligand_distances(target, sample=None):\\n    \\\"\\\"\\\"Get vertex-vertex shortest distances for each ligand for the target.\\\"\\\"\\\"\\n    target_data_dict = load_ligands(target, sample)\\n    return {\\n        ligand_code: get_distances_all(ligand_graph_dict)\\n        for ligand_code, ligand_graph_dict in target_data_dict.items()\\n    }\";\n",
       "                var nbb_formatted_code = \"def load_ligands(target, sample):\\n    \\\"\\\"\\\"Get the ligand graph dictionaries relating to the target.\\\"\\\"\\\"\\n    target_data_dict = pd.read_pickle(f\\\"../data/raw/{target}_ligand_dict.pkl\\\")\\n    # If sampling, randomly select only\\n    if sample is not None:\\n        selected_ligands = np.random.choice(\\n            list(target_data_dict.keys()), size=sample, replace=False\\n        )\\n    # Repurpose data_to_dict() from the proteins section, since\\n    # ligands are also stored as Data objects.\\n    return {\\n        ligand_code: data_to_dict(ligand_data)\\n        for ligand_code, ligand_data in target_data_dict.items()\\n        if ligand_code in selected_ligands\\n    }\\n\\n\\ndef get_ligand_distances(target, sample=None):\\n    \\\"\\\"\\\"Get vertex-vertex shortest distances for each ligand for the target.\\\"\\\"\\\"\\n    target_data_dict = load_ligands(target, sample)\\n    return {\\n        ligand_code: get_distances_all(ligand_graph_dict)\\n        for ligand_code, ligand_graph_dict in target_data_dict.items()\\n    }\";\n",
       "                var nbb_cells = Jupyter.notebook.get_cells();\n",
       "                for (var i = 0; i < nbb_cells.length; ++i) {\n",
       "                    if (nbb_cells[i].input_prompt_number == nbb_cell_id) {\n",
       "                        if (nbb_cells[i].get_text() == nbb_unformatted_code) {\n",
       "                             nbb_cells[i].set_text(nbb_formatted_code);\n",
       "                        }\n",
       "                        break;\n",
       "                    }\n",
       "                }\n",
       "            }, 500);\n",
       "            "
      ],
      "text/plain": [
       "<IPython.core.display.Javascript object>"
      ]
     },
     "metadata": {},
     "output_type": "display_data"
    }
   ],
   "source": [
    "def load_ligands(target, sample):\n",
    "    \"\"\"Get the ligand graph dictionaries relating to the target.\"\"\"\n",
    "    target_data_dict = pd.read_pickle(f\"../data/raw/{target}_ligand_dict.pkl\")\n",
    "    # If sampling, randomly select only\n",
    "    if sample is not None:\n",
    "        selected_ligands = np.random.choice(\n",
    "            list(target_data_dict.keys()), size=sample, replace=False\n",
    "        )\n",
    "    # Repurpose data_to_dict() from the proteins section, since\n",
    "    # ligands are also stored as Data objects.\n",
    "    return {\n",
    "        ligand_code: data_to_dict(ligand_data)\n",
    "        for ligand_code, ligand_data in target_data_dict.items()\n",
    "        if ligand_code in selected_ligands\n",
    "    }\n",
    "\n",
    "\n",
    "def get_ligand_distances(target, sample=None):\n",
    "    \"\"\"Get vertex-vertex shortest distances for each ligand for the target.\"\"\"\n",
    "    target_data_dict = load_ligands(target, sample)\n",
    "    return {\n",
    "        ligand_code: get_distances_all(ligand_graph_dict)\n",
    "        for ligand_code, ligand_graph_dict in target_data_dict.items()\n",
    "    }"
   ]
  },
  {
   "cell_type": "code",
   "execution_count": 9,
   "metadata": {},
   "outputs": [
    {
     "name": "stderr",
     "output_type": "stream",
     "text": [
      "100% (100 of 100) |######################| Elapsed Time: 0:11:13 Time:  0:11:13\n"
     ]
    },
    {
     "data": {
      "application/javascript": [
       "\n",
       "            setTimeout(function() {\n",
       "                var nbb_cell_id = 9;\n",
       "                var nbb_unformatted_code = \"# Get vertex-vertex shortest path distances for all ligands.\\nnp.random.seed(1)\\nligand_all_distances = dict()\\nfor target in progressbar(all_targets):\\n    ligand_all_distances[target] = get_ligand_distances(target, sample=400)\";\n",
       "                var nbb_formatted_code = \"# Get vertex-vertex shortest path distances for all ligands.\\nnp.random.seed(1)\\nligand_all_distances = dict()\\nfor target in progressbar(all_targets):\\n    ligand_all_distances[target] = get_ligand_distances(target, sample=400)\";\n",
       "                var nbb_cells = Jupyter.notebook.get_cells();\n",
       "                for (var i = 0; i < nbb_cells.length; ++i) {\n",
       "                    if (nbb_cells[i].input_prompt_number == nbb_cell_id) {\n",
       "                        if (nbb_cells[i].get_text() == nbb_unformatted_code) {\n",
       "                             nbb_cells[i].set_text(nbb_formatted_code);\n",
       "                        }\n",
       "                        break;\n",
       "                    }\n",
       "                }\n",
       "            }, 500);\n",
       "            "
      ],
      "text/plain": [
       "<IPython.core.display.Javascript object>"
      ]
     },
     "metadata": {},
     "output_type": "display_data"
    }
   ],
   "source": [
    "# Get vertex-vertex shortest path distances for all ligands.\n",
    "np.random.seed(1)\n",
    "ligand_all_distances = dict()\n",
    "for target in progressbar(all_targets):\n",
    "    ligand_all_distances[target] = get_ligand_distances(target, sample=400)"
   ]
  },
  {
   "cell_type": "markdown",
   "metadata": {},
   "source": [
    "### Descriptive statistics"
   ]
  },
  {
   "cell_type": "markdown",
   "metadata": {},
   "source": [
    "##### Proteins"
   ]
  },
  {
   "cell_type": "markdown",
   "metadata": {},
   "source": [
    "The below representative example shows the separatedness of vertices from each other in protein graphs, which are generally fractured. Most vertices are isolated from others. This has large implications on learnability of useful vertex representations through graph convolutional networks, and suggests the use of graph power-based methods to increase connectivity. An alternative to increase connectivity is to use a nearest-neighbor based method to determine edges. Currently, edges exist only if a chemical bond does."
   ]
  },
  {
   "cell_type": "code",
   "execution_count": 22,
   "metadata": {},
   "outputs": [
    {
     "data": {
      "text/plain": [
       "[{},\n",
       " {2: 1},\n",
       " {1: 1},\n",
       " {},\n",
       " {},\n",
       " {9: 1},\n",
       " {},\n",
       " {10: 1, 11: 1},\n",
       " {12: 1, 13: 1},\n",
       " {5: 1},\n",
       " {7: 1, 11: 2},\n",
       " {7: 1, 10: 2},\n",
       " {8: 1, 13: 2},\n",
       " {8: 1, 12: 2},\n",
       " {},\n",
       " {},\n",
       " {},\n",
       " {},\n",
       " {},\n",
       " {},\n",
       " {},\n",
       " {25: 1},\n",
       " {},\n",
       " {},\n",
       " {},\n",
       " {21: 1},\n",
       " {37: 1},\n",
       " {},\n",
       " {},\n",
       " {},\n",
       " {},\n",
       " {},\n",
       " {},\n",
       " {},\n",
       " {},\n",
       " {},\n",
       " {},\n",
       " {26: 1},\n",
       " {46: 1},\n",
       " {},\n",
       " {},\n",
       " {},\n",
       " {},\n",
       " {},\n",
       " {},\n",
       " {},\n",
       " {38: 1},\n",
       " {63: 1},\n",
       " {},\n",
       " {},\n",
       " {},\n",
       " {},\n",
       " {},\n",
       " {},\n",
       " {58: 1},\n",
       " {},\n",
       " {59: 1, 60: 1},\n",
       " {61: 1, 62: 1},\n",
       " {54: 1},\n",
       " {56: 1, 60: 2},\n",
       " {56: 1, 59: 2},\n",
       " {57: 1, 62: 2},\n",
       " {57: 1, 61: 2},\n",
       " {47: 1},\n",
       " {72: 1},\n",
       " {},\n",
       " {},\n",
       " {},\n",
       " {},\n",
       " {},\n",
       " {},\n",
       " {},\n",
       " {64: 1},\n",
       " {81: 1},\n",
       " {},\n",
       " {},\n",
       " {},\n",
       " {},\n",
       " {},\n",
       " {},\n",
       " {},\n",
       " {73: 1},\n",
       " {},\n",
       " {},\n",
       " {},\n",
       " {},\n",
       " {},\n",
       " {},\n",
       " {89: 1, 90: 1},\n",
       " {88: 1, 90: 2},\n",
       " {88: 1, 89: 2},\n",
       " {94: 1},\n",
       " {},\n",
       " {},\n",
       " {91: 1},\n",
       " {},\n",
       " {},\n",
       " {},\n",
       " {102: 1},\n",
       " {},\n",
       " {},\n",
       " {},\n",
       " {98: 1},\n",
       " {},\n",
       " {},\n",
       " {},\n",
       " {},\n",
       " {},\n",
       " {112: 1},\n",
       " {},\n",
       " {},\n",
       " {},\n",
       " {108: 1},\n",
       " {120: 1},\n",
       " {},\n",
       " {},\n",
       " {},\n",
       " {},\n",
       " {119: 1},\n",
       " {118: 1},\n",
       " {113: 1},\n",
       " {122: 1},\n",
       " {121: 1},\n",
       " {},\n",
       " {},\n",
       " {},\n",
       " {},\n",
       " {},\n",
       " {},\n",
       " {},\n",
       " {},\n",
       " {},\n",
       " {},\n",
       " {},\n",
       " {},\n",
       " {},\n",
       " {},\n",
       " {},\n",
       " {145: 1},\n",
       " {},\n",
       " {},\n",
       " {},\n",
       " {},\n",
       " {},\n",
       " {},\n",
       " {138: 1},\n",
       " {154: 1},\n",
       " {},\n",
       " {},\n",
       " {},\n",
       " {},\n",
       " {},\n",
       " {},\n",
       " {},\n",
       " {146: 1},\n",
       " {156: 1},\n",
       " {155: 1}]"
      ]
     },
     "execution_count": 22,
     "metadata": {},
     "output_type": "execute_result"
    },
    {
     "data": {
      "application/javascript": [
       "\n",
       "            setTimeout(function() {\n",
       "                var nbb_cell_id = 22;\n",
       "                var nbb_unformatted_code = \"protein_all_distances[\\\"pur2\\\"]\";\n",
       "                var nbb_formatted_code = \"protein_all_distances[\\\"pur2\\\"]\";\n",
       "                var nbb_cells = Jupyter.notebook.get_cells();\n",
       "                for (var i = 0; i < nbb_cells.length; ++i) {\n",
       "                    if (nbb_cells[i].input_prompt_number == nbb_cell_id) {\n",
       "                        if (nbb_cells[i].get_text() == nbb_unformatted_code) {\n",
       "                             nbb_cells[i].set_text(nbb_formatted_code);\n",
       "                        }\n",
       "                        break;\n",
       "                    }\n",
       "                }\n",
       "            }, 500);\n",
       "            "
      ],
      "text/plain": [
       "<IPython.core.display.Javascript object>"
      ]
     },
     "metadata": {},
     "output_type": "display_data"
    }
   ],
   "source": [
    "protein_all_distances[\"pur2\"]"
   ]
  },
  {
   "cell_type": "markdown",
   "metadata": {},
   "source": [
    "##### Ligands"
   ]
  },
  {
   "cell_type": "code",
   "execution_count": 14,
   "metadata": {},
   "outputs": [
    {
     "data": {
      "application/javascript": [
       "\n",
       "            setTimeout(function() {\n",
       "                var nbb_cell_id = 14;\n",
       "                var nbb_unformatted_code = \"def get_dos_list(distances_dict):\\n    return np.array([value for subdict in distances_dict for value in subdict.values()])\\n\\n\\ndef get_per_ligand_mean_dos(target):\\n    curr_dict = ligand_all_distances[target]\\n    ligand_means = []\\n    for ligand_code in curr_dict.keys():\\n        ligand_means.append(get_dos_list(curr_dict[ligand_code]).mean())\\n    return ligand_means\";\n",
       "                var nbb_formatted_code = \"def get_dos_list(distances_dict):\\n    return np.array([value for subdict in distances_dict for value in subdict.values()])\\n\\n\\ndef get_per_ligand_mean_dos(target):\\n    curr_dict = ligand_all_distances[target]\\n    ligand_means = []\\n    for ligand_code in curr_dict.keys():\\n        ligand_means.append(get_dos_list(curr_dict[ligand_code]).mean())\\n    return ligand_means\";\n",
       "                var nbb_cells = Jupyter.notebook.get_cells();\n",
       "                for (var i = 0; i < nbb_cells.length; ++i) {\n",
       "                    if (nbb_cells[i].input_prompt_number == nbb_cell_id) {\n",
       "                        if (nbb_cells[i].get_text() == nbb_unformatted_code) {\n",
       "                             nbb_cells[i].set_text(nbb_formatted_code);\n",
       "                        }\n",
       "                        break;\n",
       "                    }\n",
       "                }\n",
       "            }, 500);\n",
       "            "
      ],
      "text/plain": [
       "<IPython.core.display.Javascript object>"
      ]
     },
     "metadata": {},
     "output_type": "display_data"
    }
   ],
   "source": [
    "def get_dos_list(distances_dict):\n",
    "    return np.array([value for subdict in distances_dict for value in subdict.values()])\n",
    "\n",
    "\n",
    "def get_per_ligand_mean_dos(target):\n",
    "    curr_dict = ligand_all_distances[target]\n",
    "    ligand_means = []\n",
    "    for ligand_code in curr_dict.keys():\n",
    "        ligand_means.append(get_dos_list(curr_dict[ligand_code]).mean())\n",
    "    return ligand_means"
   ]
  },
  {
   "cell_type": "code",
   "execution_count": 15,
   "metadata": {},
   "outputs": [
    {
     "name": "stderr",
     "output_type": "stream",
     "text": [
      "100% (100 of 100) |######################| Elapsed Time: 0:00:11 Time:  0:00:11\n"
     ]
    },
    {
     "data": {
      "application/javascript": [
       "\n",
       "            setTimeout(function() {\n",
       "                var nbb_cell_id = 15;\n",
       "                var nbb_unformatted_code = \"all_per_ligand_means = []\\nall_per_target_means = []\\nfor target in progressbar(all_targets):\\n    curr_per_ligand_mean_dos = get_per_ligand_mean_dos(target)\\n    all_per_ligand_means += curr_per_ligand_mean_dos\\n    all_per_target_means.append(np.mean(curr_per_ligand_mean_dos))\";\n",
       "                var nbb_formatted_code = \"all_per_ligand_means = []\\nall_per_target_means = []\\nfor target in progressbar(all_targets):\\n    curr_per_ligand_mean_dos = get_per_ligand_mean_dos(target)\\n    all_per_ligand_means += curr_per_ligand_mean_dos\\n    all_per_target_means.append(np.mean(curr_per_ligand_mean_dos))\";\n",
       "                var nbb_cells = Jupyter.notebook.get_cells();\n",
       "                for (var i = 0; i < nbb_cells.length; ++i) {\n",
       "                    if (nbb_cells[i].input_prompt_number == nbb_cell_id) {\n",
       "                        if (nbb_cells[i].get_text() == nbb_unformatted_code) {\n",
       "                             nbb_cells[i].set_text(nbb_formatted_code);\n",
       "                        }\n",
       "                        break;\n",
       "                    }\n",
       "                }\n",
       "            }, 500);\n",
       "            "
      ],
      "text/plain": [
       "<IPython.core.display.Javascript object>"
      ]
     },
     "metadata": {},
     "output_type": "display_data"
    }
   ],
   "source": [
    "all_per_ligand_means = []\n",
    "all_per_target_means = []\n",
    "for target in progressbar(all_targets):\n",
    "    curr_per_ligand_mean_dos = get_per_ligand_mean_dos(target)\n",
    "    all_per_ligand_means += curr_per_ligand_mean_dos\n",
    "    all_per_target_means.append(np.mean(curr_per_ligand_mean_dos))"
   ]
  },
  {
   "cell_type": "code",
   "execution_count": 16,
   "metadata": {},
   "outputs": [
    {
     "data": {
      "application/javascript": [
       "\n",
       "            setTimeout(function() {\n",
       "                var nbb_cell_id = 16;\n",
       "                var nbb_unformatted_code = \"def plot_histogram(x, title):\\n    n, bins, patches = plt.hist(\\n        x=x, bins=\\\"auto\\\", color=\\\"#0504aa\\\", alpha=0.7, rwidth=0.85\\n    )\\n    plt.grid(axis=\\\"y\\\", alpha=0.75)\\n    plt.xlabel(\\\"DoS\\\")\\n    plt.ylabel(\\\"Frequency\\\")\\n    plt.title(title)\\n    plt.axvline(x=np.mean(x), color=\\\"red\\\", linestyle=\\\"--\\\")\\n    maxfreq = n.max()\\n    plt.ylim(ymax=np.ceil(maxfreq / 10) * 10 if maxfreq % 10 else maxfreq + 10)\";\n",
       "                var nbb_formatted_code = \"def plot_histogram(x, title):\\n    n, bins, patches = plt.hist(\\n        x=x, bins=\\\"auto\\\", color=\\\"#0504aa\\\", alpha=0.7, rwidth=0.85\\n    )\\n    plt.grid(axis=\\\"y\\\", alpha=0.75)\\n    plt.xlabel(\\\"DoS\\\")\\n    plt.ylabel(\\\"Frequency\\\")\\n    plt.title(title)\\n    plt.axvline(x=np.mean(x), color=\\\"red\\\", linestyle=\\\"--\\\")\\n    maxfreq = n.max()\\n    plt.ylim(ymax=np.ceil(maxfreq / 10) * 10 if maxfreq % 10 else maxfreq + 10)\";\n",
       "                var nbb_cells = Jupyter.notebook.get_cells();\n",
       "                for (var i = 0; i < nbb_cells.length; ++i) {\n",
       "                    if (nbb_cells[i].input_prompt_number == nbb_cell_id) {\n",
       "                        if (nbb_cells[i].get_text() == nbb_unformatted_code) {\n",
       "                             nbb_cells[i].set_text(nbb_formatted_code);\n",
       "                        }\n",
       "                        break;\n",
       "                    }\n",
       "                }\n",
       "            }, 500);\n",
       "            "
      ],
      "text/plain": [
       "<IPython.core.display.Javascript object>"
      ]
     },
     "metadata": {},
     "output_type": "display_data"
    }
   ],
   "source": [
    "def plot_histogram(x, title):\n",
    "    n, bins, patches = plt.hist(\n",
    "        x=x, bins=\"auto\", color=\"#0504aa\", alpha=0.7, rwidth=0.85\n",
    "    )\n",
    "    plt.grid(axis=\"y\", alpha=0.75)\n",
    "    plt.xlabel(\"DoS\")\n",
    "    plt.ylabel(\"Frequency\")\n",
    "    plt.title(title)\n",
    "    plt.axvline(x=np.mean(x), color=\"red\", linestyle=\"--\")\n",
    "    maxfreq = n.max()\n",
    "    plt.ylim(ymax=np.ceil(maxfreq / 10) * 10 if maxfreq % 10 else maxfreq + 10)"
   ]
  },
  {
   "cell_type": "code",
   "execution_count": 17,
   "metadata": {},
   "outputs": [
    {
     "data": {
      "image/png": "[encoded data removed]",
      "text/plain": [
       "<Figure size 432x288 with 1 Axes>"
      ]
     },
     "metadata": {
      "needs_background": "light"
     },
     "output_type": "display_data"
    },
    {
     "data": {
      "application/javascript": [
       "\n",
       "            setTimeout(function() {\n",
       "                var nbb_cell_id = 17;\n",
       "                var nbb_unformatted_code = \"plot_histogram(all_per_ligand_means, \\\"Per-ligand mean DoS\\\")\";\n",
       "                var nbb_formatted_code = \"plot_histogram(all_per_ligand_means, \\\"Per-ligand mean DoS\\\")\";\n",
       "                var nbb_cells = Jupyter.notebook.get_cells();\n",
       "                for (var i = 0; i < nbb_cells.length; ++i) {\n",
       "                    if (nbb_cells[i].input_prompt_number == nbb_cell_id) {\n",
       "                        if (nbb_cells[i].get_text() == nbb_unformatted_code) {\n",
       "                             nbb_cells[i].set_text(nbb_formatted_code);\n",
       "                        }\n",
       "                        break;\n",
       "                    }\n",
       "                }\n",
       "            }, 500);\n",
       "            "
      ],
      "text/plain": [
       "<IPython.core.display.Javascript object>"
      ]
     },
     "metadata": {},
     "output_type": "display_data"
    }
   ],
   "source": [
    "plot_histogram(all_per_ligand_means, \"Per-ligand mean DoS\")"
   ]
  },
  {
   "cell_type": "code",
   "execution_count": 18,
   "metadata": {},
   "outputs": [
    {
     "data": {
      "image/png": "[encoded data removed]",
      "text/plain": [
       "<Figure size 432x288 with 1 Axes>"
      ]
     },
     "metadata": {
      "needs_background": "light"
     },
     "output_type": "display_data"
    },
    {
     "data": {
      "application/javascript": [
       "\n",
       "            setTimeout(function() {\n",
       "                var nbb_cell_id = 18;\n",
       "                var nbb_unformatted_code = \"plot_histogram(all_per_target_means, \\\"Per-target mean DoS\\\")\";\n",
       "                var nbb_formatted_code = \"plot_histogram(all_per_target_means, \\\"Per-target mean DoS\\\")\";\n",
       "                var nbb_cells = Jupyter.notebook.get_cells();\n",
       "                for (var i = 0; i < nbb_cells.length; ++i) {\n",
       "                    if (nbb_cells[i].input_prompt_number == nbb_cell_id) {\n",
       "                        if (nbb_cells[i].get_text() == nbb_unformatted_code) {\n",
       "                             nbb_cells[i].set_text(nbb_formatted_code);\n",
       "                        }\n",
       "                        break;\n",
       "                    }\n",
       "                }\n",
       "            }, 500);\n",
       "            "
      ],
      "text/plain": [
       "<IPython.core.display.Javascript object>"
      ]
     },
     "metadata": {},
     "output_type": "display_data"
    }
   ],
   "source": [
    "plot_histogram(all_per_target_means, \"Per-target mean DoS\")"
   ]
  },
  {
   "cell_type": "markdown",
   "metadata": {},
   "source": [
    "The case with ligands differs significantly:\n",
    "1. The \"fracturing\" seen in protein graphs does not exist for ligand graphs, and vertices are generally 6-7 \"hops\" from each other.\n",
    "2. The separatedness of verices is consistent across targets; i.e. the ligands associated with one target do not differ significantly in their separatedness from that of other targets."
   ]
  }
 ],
 "metadata": {
  "kernelspec": {
   "display_name": "Python 3",
   "language": "python",
   "name": "python3"
  },
  "language_info": {
   "codemirror_mode": {
    "name": "ipython",
    "version": 3
   },
   "file_extension": ".py",
   "mimetype": "text/x-python",
   "name": "python",
   "nbconvert_exporter": "python",
   "pygments_lexer": "ipython3",
   "version": "3.8.5"
  }
 },
 "nbformat": 4,
 "nbformat_minor": 4
}
