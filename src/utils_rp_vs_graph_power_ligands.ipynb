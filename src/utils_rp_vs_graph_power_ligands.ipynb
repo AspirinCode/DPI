{
 "cells": [
  {
   "cell_type": "markdown",
   "metadata": {},
   "source": [
    "## Relation between DoS and Receptive Field\n",
    "\n",
    "This notebook calculates the degrees of separation and receptive fields\n",
    "for DUD-E ligands and proteins stored in the PyTorch `Data` format."
   ]
  },
  {
   "cell_type": "code",
   "execution_count": 1,
   "metadata": {},
   "outputs": [
    {
     "data": {
      "application/javascript": [
       "\n",
       "            setTimeout(function() {\n",
       "                var nbb_cell_id = 1;\n",
       "                var nbb_unformatted_code = \"%load_ext nb_black\";\n",
       "                var nbb_formatted_code = \"%load_ext nb_black\";\n",
       "                var nbb_cells = Jupyter.notebook.get_cells();\n",
       "                for (var i = 0; i < nbb_cells.length; ++i) {\n",
       "                    if (nbb_cells[i].input_prompt_number == nbb_cell_id) {\n",
       "                        if (nbb_cells[i].get_text() == nbb_unformatted_code) {\n",
       "                             nbb_cells[i].set_text(nbb_formatted_code);\n",
       "                        }\n",
       "                        break;\n",
       "                    }\n",
       "                }\n",
       "            }, 500);\n",
       "            "
      ],
      "text/plain": [
       "<IPython.core.display.Javascript object>"
      ]
     },
     "metadata": {},
     "output_type": "display_data"
    }
   ],
   "source": [
    "%load_ext nb_black"
   ]
  },
  {
   "cell_type": "code",
   "execution_count": 2,
   "metadata": {},
   "outputs": [
    {
     "data": {
      "application/javascript": [
       "\n",
       "            setTimeout(function() {\n",
       "                var nbb_cell_id = 2;\n",
       "                var nbb_unformatted_code = \"import heapq\\nimport csaps\\nimport pickle\\nimport numpy as np\\nimport pandas as pd\\nimport matplotlib.pyplot as plt\\nfrom progressbar import progressbar\\nfrom torch_geometric.data import Data\";\n",
       "                var nbb_formatted_code = \"import heapq\\nimport csaps\\nimport pickle\\nimport numpy as np\\nimport pandas as pd\\nimport matplotlib.pyplot as plt\\nfrom progressbar import progressbar\\nfrom torch_geometric.data import Data\";\n",
       "                var nbb_cells = Jupyter.notebook.get_cells();\n",
       "                for (var i = 0; i < nbb_cells.length; ++i) {\n",
       "                    if (nbb_cells[i].input_prompt_number == nbb_cell_id) {\n",
       "                        if (nbb_cells[i].get_text() == nbb_unformatted_code) {\n",
       "                             nbb_cells[i].set_text(nbb_formatted_code);\n",
       "                        }\n",
       "                        break;\n",
       "                    }\n",
       "                }\n",
       "            }, 500);\n",
       "            "
      ],
      "text/plain": [
       "<IPython.core.display.Javascript object>"
      ]
     },
     "metadata": {},
     "output_type": "display_data"
    }
   ],
   "source": [
    "import heapq\n",
    "import csaps\n",
    "import pickle\n",
    "import numpy as np\n",
    "import pandas as pd\n",
    "import matplotlib.pyplot as plt\n",
    "from progressbar import progressbar\n",
    "from torch_geometric.data import Data"
   ]
  },
  {
   "cell_type": "markdown",
   "metadata": {},
   "source": [
    "### Function definitions"
   ]
  },
  {
   "cell_type": "markdown",
   "metadata": {},
   "source": [
    "#### Loading data"
   ]
  },
  {
   "cell_type": "code",
   "execution_count": 3,
   "metadata": {},
   "outputs": [
    {
     "data": {
      "application/javascript": [
       "\n",
       "            setTimeout(function() {\n",
       "                var nbb_cell_id = 3;\n",
       "                var nbb_unformatted_code = \"def process_data(data):\\n    \\\"\\\"\\\"Convert the Data to the dictionary graph representation, and bond list.\\\"\\\"\\\"\\n    edge_indices = data.edge_index.numpy()\\n    graph_dict = dict()\\n    # For each vertex in the graph, create a dictionary in graph_dict.\\n    for i in range(data.x.shape[0]):\\n        graph_dict[i] = dict()\\n    # For each edge, record it in graph_dict. In our use case,\\n    # the weight of each bond is \\\"1\\\", although this notebook can be used\\n    # otherwise.\\n    # Additionally, record all the bonds in a list of pairs.\\n    bonds = []\\n    for i in range(len(edge_indices[0])):\\n        graph_dict[edge_indices[0][i]][edge_indices[1][i]] = 1\\n        bonds.append([edge_indices[0][i], edge_indices[1][i]])\\n    return graph_dict, bonds\\n\\n\\ndef load_ligands(target, sample):\\n    \\\"\\\"\\\"Get the ligand graph dictionaries and bonds relating to the target.\\\"\\\"\\\"\\n    target_data_dict = pd.read_pickle(f\\\"../data/raw/{target}_ligand_dict.pkl\\\")\\n    # If sampling, randomly select only \\\"sample\\\" of the lignds\\n    # associated with the target.\\n    if sample is not None:\\n        selected_ligands = np.random.choice(\\n            list(target_data_dict.keys()), size=sample, replace=False\\n        )\\n    else:\\n        selected_ligands = target_data_dict.keys()\\n    return {\\n        ligand_code: process_data(ligand_data)\\n        for ligand_code, ligand_data in target_data_dict.items()\\n        if ligand_code in selected_ligands\\n    }\\n\\n\\ndef load_target(target, protein_cutoff=10, bond_mode=\\\"bond_cutoff\\\", bond_cutoff=5):\\n    \\\"\\\"\\\"Get the protein graph's dictionary and bonds.\\\"\\\"\\\"\\n    target_data = pd.read_pickle(\\n        f\\\"../data/raw/{protein_cutoff}_{bond_mode}_{bond_cutoff}_{target}.pkl\\\"\\n    )\\n    return process_data(target_data)\";\n",
       "                var nbb_formatted_code = \"def process_data(data):\\n    \\\"\\\"\\\"Convert the Data to the dictionary graph representation, and bond list.\\\"\\\"\\\"\\n    edge_indices = data.edge_index.numpy()\\n    graph_dict = dict()\\n    # For each vertex in the graph, create a dictionary in graph_dict.\\n    for i in range(data.x.shape[0]):\\n        graph_dict[i] = dict()\\n    # For each edge, record it in graph_dict. In our use case,\\n    # the weight of each bond is \\\"1\\\", although this notebook can be used\\n    # otherwise.\\n    # Additionally, record all the bonds in a list of pairs.\\n    bonds = []\\n    for i in range(len(edge_indices[0])):\\n        graph_dict[edge_indices[0][i]][edge_indices[1][i]] = 1\\n        bonds.append([edge_indices[0][i], edge_indices[1][i]])\\n    return graph_dict, bonds\\n\\n\\ndef load_ligands(target, sample):\\n    \\\"\\\"\\\"Get the ligand graph dictionaries and bonds relating to the target.\\\"\\\"\\\"\\n    target_data_dict = pd.read_pickle(f\\\"../data/raw/{target}_ligand_dict.pkl\\\")\\n    # If sampling, randomly select only \\\"sample\\\" of the lignds\\n    # associated with the target.\\n    if sample is not None:\\n        selected_ligands = np.random.choice(\\n            list(target_data_dict.keys()), size=sample, replace=False\\n        )\\n    else:\\n        selected_ligands = target_data_dict.keys()\\n    return {\\n        ligand_code: process_data(ligand_data)\\n        for ligand_code, ligand_data in target_data_dict.items()\\n        if ligand_code in selected_ligands\\n    }\\n\\n\\ndef load_target(target, protein_cutoff=10, bond_mode=\\\"bond_cutoff\\\", bond_cutoff=5):\\n    \\\"\\\"\\\"Get the protein graph's dictionary and bonds.\\\"\\\"\\\"\\n    target_data = pd.read_pickle(\\n        f\\\"../data/raw/{protein_cutoff}_{bond_mode}_{bond_cutoff}_{target}.pkl\\\"\\n    )\\n    return process_data(target_data)\";\n",
       "                var nbb_cells = Jupyter.notebook.get_cells();\n",
       "                for (var i = 0; i < nbb_cells.length; ++i) {\n",
       "                    if (nbb_cells[i].input_prompt_number == nbb_cell_id) {\n",
       "                        if (nbb_cells[i].get_text() == nbb_unformatted_code) {\n",
       "                             nbb_cells[i].set_text(nbb_formatted_code);\n",
       "                        }\n",
       "                        break;\n",
       "                    }\n",
       "                }\n",
       "            }, 500);\n",
       "            "
      ],
      "text/plain": [
       "<IPython.core.display.Javascript object>"
      ]
     },
     "metadata": {},
     "output_type": "display_data"
    }
   ],
   "source": [
    "def process_data(data):\n",
    "    \"\"\"Convert the Data to the dictionary graph representation, and bond list.\"\"\"\n",
    "    edge_indices = data.edge_index.numpy()\n",
    "    graph_dict = dict()\n",
    "    # For each vertex in the graph, create a dictionary in graph_dict.\n",
    "    for i in range(data.x.shape[0]):\n",
    "        graph_dict[i] = dict()\n",
    "    # For each edge, record it in graph_dict. In our use case,\n",
    "    # the weight of each bond is \"1\", although this notebook can be used\n",
    "    # otherwise.\n",
    "    # Additionally, record all the bonds in a list of pairs.\n",
    "    bonds = []\n",
    "    for i in range(len(edge_indices[0])):\n",
    "        graph_dict[edge_indices[0][i]][edge_indices[1][i]] = 1\n",
    "        bonds.append([edge_indices[0][i], edge_indices[1][i]])\n",
    "    return graph_dict, bonds\n",
    "\n",
    "\n",
    "def load_ligands(target, sample):\n",
    "    \"\"\"Get the ligand graph dictionaries and bonds relating to the target.\"\"\"\n",
    "    target_data_dict = pd.read_pickle(f\"../data/raw/{target}_ligand_dict.pkl\")\n",
    "    # If sampling, randomly select only \"sample\" of the lignds\n",
    "    # associated with the target.\n",
    "    if sample is not None:\n",
    "        selected_ligands = np.random.choice(\n",
    "            list(target_data_dict.keys()), size=sample, replace=False\n",
    "        )\n",
    "    else:\n",
    "        selected_ligands = target_data_dict.keys()\n",
    "    return {\n",
    "        ligand_code: process_data(ligand_data)\n",
    "        for ligand_code, ligand_data in target_data_dict.items()\n",
    "        if ligand_code in selected_ligands\n",
    "    }\n",
    "\n",
    "\n",
    "def load_target(target, protein_cutoff=10, bond_mode=\"bond_cutoff\", bond_cutoff=5):\n",
    "    \"\"\"Get the protein graph's dictionary and bonds.\"\"\"\n",
    "    target_data = pd.read_pickle(\n",
    "        f\"../data/raw/{protein_cutoff}_{bond_mode}_{bond_cutoff}_{target}.pkl\"\n",
    "    )\n",
    "    return process_data(target_data)"
   ]
  },
  {
   "cell_type": "markdown",
   "metadata": {},
   "source": [
    "#### Getting DoSes"
   ]
  },
  {
   "cell_type": "code",
   "execution_count": 4,
   "metadata": {},
   "outputs": [
    {
     "data": {
      "application/javascript": [
       "\n",
       "            setTimeout(function() {\n",
       "                var nbb_cell_id = 4;\n",
       "                var nbb_unformatted_code = \"# get_distances_vertex implementation from\\n# https://bradfieldcs.com/algos/graphs/dijkstras-algorithm/\\n# Retrieved and modified on 17/12/2020.\\n\\n\\ndef get_distances_vertex(graph, starting_vertex, filter_natural=False):\\n    \\\"\\\"\\\"Get the shortest distances from the starting vertex to every other.\\\"\\\"\\\"\\n    # Initialize all distances as infinity, except for that between the\\n    # starting vertex and itself.\\n    distances = {vertex: float(\\\"infinity\\\") for vertex in graph}\\n    distances[starting_vertex] = 0\\n\\n    # Initialize the priority queue with the vertex we start the path from.\\n    pq = [(0, starting_vertex)]\\n    while len(pq) > 0:\\n        # Pop out the \\\"most promising\\\" vertex to next visit.\\n        current_distance, current_vertex = heapq.heappop(pq)\\n\\n        # Nodes can get added to the priority queue multiple times. We only\\n        # process a vertex the first time we remove it from the priority queue.\\n        if current_distance > distances[current_vertex]:\\n            continue\\n\\n        # Consider visiting the neighbors of the current vertex in consideration.\\n        for neighbor, weight in graph[current_vertex].items():\\n            distance = current_distance + weight\\n\\n            # Only consider this new path if it's better than any path we've\\n            # already found.\\n            if distance < distances[neighbor]:\\n                # Update the shortest distance to this neighbor.\\n                distances[neighbor] = distance\\n                heapq.heappush(pq, (distance, neighbor))\\n\\n    # Filter out all infinite distance entries (i.e., the vertex isn't reachable\\n    # from starting_vertex), and the entry for the starting_vertex itself.\\n    if filter_natural:\\n        return {\\n            vertex: distance\\n            for vertex, distance in distances.items()\\n            if vertex != starting_vertex and not np.isinf(distance)\\n        }\\n    return {\\n        vertex: distance\\n        for vertex, distance in distances.items()\\n        if vertex != starting_vertex\\n    }\";\n",
       "                var nbb_formatted_code = \"# get_distances_vertex implementation from\\n# https://bradfieldcs.com/algos/graphs/dijkstras-algorithm/\\n# Retrieved and modified on 17/12/2020.\\n\\n\\ndef get_distances_vertex(graph, starting_vertex, filter_natural=False):\\n    \\\"\\\"\\\"Get the shortest distances from the starting vertex to every other.\\\"\\\"\\\"\\n    # Initialize all distances as infinity, except for that between the\\n    # starting vertex and itself.\\n    distances = {vertex: float(\\\"infinity\\\") for vertex in graph}\\n    distances[starting_vertex] = 0\\n\\n    # Initialize the priority queue with the vertex we start the path from.\\n    pq = [(0, starting_vertex)]\\n    while len(pq) > 0:\\n        # Pop out the \\\"most promising\\\" vertex to next visit.\\n        current_distance, current_vertex = heapq.heappop(pq)\\n\\n        # Nodes can get added to the priority queue multiple times. We only\\n        # process a vertex the first time we remove it from the priority queue.\\n        if current_distance > distances[current_vertex]:\\n            continue\\n\\n        # Consider visiting the neighbors of the current vertex in consideration.\\n        for neighbor, weight in graph[current_vertex].items():\\n            distance = current_distance + weight\\n\\n            # Only consider this new path if it's better than any path we've\\n            # already found.\\n            if distance < distances[neighbor]:\\n                # Update the shortest distance to this neighbor.\\n                distances[neighbor] = distance\\n                heapq.heappush(pq, (distance, neighbor))\\n\\n    # Filter out all infinite distance entries (i.e., the vertex isn't reachable\\n    # from starting_vertex), and the entry for the starting_vertex itself.\\n    if filter_natural:\\n        return {\\n            vertex: distance\\n            for vertex, distance in distances.items()\\n            if vertex != starting_vertex and not np.isinf(distance)\\n        }\\n    return {\\n        vertex: distance\\n        for vertex, distance in distances.items()\\n        if vertex != starting_vertex\\n    }\";\n",
       "                var nbb_cells = Jupyter.notebook.get_cells();\n",
       "                for (var i = 0; i < nbb_cells.length; ++i) {\n",
       "                    if (nbb_cells[i].input_prompt_number == nbb_cell_id) {\n",
       "                        if (nbb_cells[i].get_text() == nbb_unformatted_code) {\n",
       "                             nbb_cells[i].set_text(nbb_formatted_code);\n",
       "                        }\n",
       "                        break;\n",
       "                    }\n",
       "                }\n",
       "            }, 500);\n",
       "            "
      ],
      "text/plain": [
       "<IPython.core.display.Javascript object>"
      ]
     },
     "metadata": {},
     "output_type": "display_data"
    }
   ],
   "source": [
    "# get_distances_vertex implementation from\n",
    "# https://bradfieldcs.com/algos/graphs/dijkstras-algorithm/\n",
    "# Retrieved and modified on 17/12/2020.\n",
    "\n",
    "\n",
    "def get_distances_vertex(graph, starting_vertex, filter_natural=False):\n",
    "    \"\"\"Get the shortest distances from the starting vertex to every other.\"\"\"\n",
    "    # Initialize all distances as infinity, except for that between the\n",
    "    # starting vertex and itself.\n",
    "    distances = {vertex: float(\"infinity\") for vertex in graph}\n",
    "    distances[starting_vertex] = 0\n",
    "\n",
    "    # Initialize the priority queue with the vertex we start the path from.\n",
    "    pq = [(0, starting_vertex)]\n",
    "    while len(pq) > 0:\n",
    "        # Pop out the \"most promising\" vertex to next visit.\n",
    "        current_distance, current_vertex = heapq.heappop(pq)\n",
    "\n",
    "        # Nodes can get added to the priority queue multiple times. We only\n",
    "        # process a vertex the first time we remove it from the priority queue.\n",
    "        if current_distance > distances[current_vertex]:\n",
    "            continue\n",
    "\n",
    "        # Consider visiting the neighbors of the current vertex in consideration.\n",
    "        for neighbor, weight in graph[current_vertex].items():\n",
    "            distance = current_distance + weight\n",
    "\n",
    "            # Only consider this new path if it's better than any path we've\n",
    "            # already found.\n",
    "            if distance < distances[neighbor]:\n",
    "                # Update the shortest distance to this neighbor.\n",
    "                distances[neighbor] = distance\n",
    "                heapq.heappush(pq, (distance, neighbor))\n",
    "\n",
    "    # Filter out all infinite distance entries (i.e., the vertex isn't reachable\n",
    "    # from starting_vertex), and the entry for the starting_vertex itself.\n",
    "    if filter_natural:\n",
    "        return {\n",
    "            vertex: distance\n",
    "            for vertex, distance in distances.items()\n",
    "            if vertex != starting_vertex and not np.isinf(distance)\n",
    "        }\n",
    "    return {\n",
    "        vertex: distance\n",
    "        for vertex, distance in distances.items()\n",
    "        if vertex != starting_vertex\n",
    "    }"
   ]
  },
  {
   "cell_type": "code",
   "execution_count": 5,
   "metadata": {},
   "outputs": [
    {
     "data": {
      "application/javascript": [
       "\n",
       "            setTimeout(function() {\n",
       "                var nbb_cell_id = 5;\n",
       "                var nbb_unformatted_code = \"def get_distances_all(graph):\\n    \\\"\\\"\\\"Get the shortest distances towards every vertex in the graph from every other.\\\"\\\"\\\"\\n    all_distances = []\\n    for i in range(len(graph.keys())):\\n        all_distances.append(get_distances_vertex(graph, i))\\n    # This is a list of dictionaries of length of the number of atoms\\n    # in the graph.\\n    return all_distances\";\n",
       "                var nbb_formatted_code = \"def get_distances_all(graph):\\n    \\\"\\\"\\\"Get the shortest distances towards every vertex in the graph from every other.\\\"\\\"\\\"\\n    all_distances = []\\n    for i in range(len(graph.keys())):\\n        all_distances.append(get_distances_vertex(graph, i))\\n    # This is a list of dictionaries of length of the number of atoms\\n    # in the graph.\\n    return all_distances\";\n",
       "                var nbb_cells = Jupyter.notebook.get_cells();\n",
       "                for (var i = 0; i < nbb_cells.length; ++i) {\n",
       "                    if (nbb_cells[i].input_prompt_number == nbb_cell_id) {\n",
       "                        if (nbb_cells[i].get_text() == nbb_unformatted_code) {\n",
       "                             nbb_cells[i].set_text(nbb_formatted_code);\n",
       "                        }\n",
       "                        break;\n",
       "                    }\n",
       "                }\n",
       "            }, 500);\n",
       "            "
      ],
      "text/plain": [
       "<IPython.core.display.Javascript object>"
      ]
     },
     "metadata": {},
     "output_type": "display_data"
    }
   ],
   "source": [
    "def get_distances_all(graph):\n",
    "    \"\"\"Get the shortest distances towards every vertex in the graph from every other.\"\"\"\n",
    "    all_distances = []\n",
    "    for i in range(len(graph.keys())):\n",
    "        all_distances.append(get_distances_vertex(graph, i))\n",
    "    # This is a list of dictionaries of length of the number of atoms\n",
    "    # in the graph.\n",
    "    return all_distances"
   ]
  },
  {
   "cell_type": "code",
   "execution_count": 6,
   "metadata": {},
   "outputs": [
    {
     "data": {
      "application/javascript": [
       "\n",
       "            setTimeout(function() {\n",
       "                var nbb_cell_id = 6;\n",
       "                var nbb_unformatted_code = \"def get_ligand_distances(target_data_dict):\\n    \\\"\\\"\\\"Get vertex-vertex shortest distances for each ligand for the target.\\\"\\\"\\\"\\n    # This dictionary is of the form str : list of dicts.\\n    return {\\n        ligand_code: get_distances_all(processed_ligand_data[0])\\n        for ligand_code, processed_ligand_data in target_data_dict.items()\\n    }\\n\\n\\ndef get_mean_dos_ligand(subdict_list):\\n    return np.mean([np.mean(list(subdict.values())) for subdict in subdict_list])\\n\\n\\ndef get_target_distances(target_graph):\\n    pass\";\n",
       "                var nbb_formatted_code = \"def get_ligand_distances(target_data_dict):\\n    \\\"\\\"\\\"Get vertex-vertex shortest distances for each ligand for the target.\\\"\\\"\\\"\\n    # This dictionary is of the form str : list of dicts.\\n    return {\\n        ligand_code: get_distances_all(processed_ligand_data[0])\\n        for ligand_code, processed_ligand_data in target_data_dict.items()\\n    }\\n\\n\\ndef get_mean_dos_ligand(subdict_list):\\n    return np.mean([np.mean(list(subdict.values())) for subdict in subdict_list])\\n\\n\\ndef get_target_distances(target_graph):\\n    pass\";\n",
       "                var nbb_cells = Jupyter.notebook.get_cells();\n",
       "                for (var i = 0; i < nbb_cells.length; ++i) {\n",
       "                    if (nbb_cells[i].input_prompt_number == nbb_cell_id) {\n",
       "                        if (nbb_cells[i].get_text() == nbb_unformatted_code) {\n",
       "                             nbb_cells[i].set_text(nbb_formatted_code);\n",
       "                        }\n",
       "                        break;\n",
       "                    }\n",
       "                }\n",
       "            }, 500);\n",
       "            "
      ],
      "text/plain": [
       "<IPython.core.display.Javascript object>"
      ]
     },
     "metadata": {},
     "output_type": "display_data"
    }
   ],
   "source": [
    "def get_ligand_distances(target_data_dict):\n",
    "    \"\"\"Get vertex-vertex shortest distances for each ligand for the target.\"\"\"\n",
    "    # This dictionary is of the form str : list of dicts.\n",
    "    return {\n",
    "        ligand_code: get_distances_all(processed_ligand_data[0])\n",
    "        for ligand_code, processed_ligand_data in target_data_dict.items()\n",
    "    }\n",
    "\n",
    "\n",
    "def get_mean_dos_ligand(subdict_list):\n",
    "    return np.mean([np.mean(list(subdict.values())) for subdict in subdict_list])\n",
    "\n",
    "\n",
    "def get_target_distances(target_graph):\n",
    "    pass"
   ]
  },
  {
   "cell_type": "markdown",
   "metadata": {},
   "source": [
    "#### Receptive field"
   ]
  },
  {
   "cell_type": "code",
   "execution_count": 7,
   "metadata": {},
   "outputs": [
    {
     "data": {
      "application/javascript": [
       "\n",
       "            setTimeout(function() {\n",
       "                var nbb_cell_id = 7;\n",
       "                var nbb_unformatted_code = \"def get_receptive_fields_ligand(num_atoms, chemical_bonds):\\n    \\\"\\\"\\\"Get the receptive field proportion path for each atom.\\\"\\\"\\\"\\n    # Create the dictionary of chemical bonds of the form\\n    # key atom -> each atom in the value dict.\\n    chemical_bonds_dict = dict()\\n    for i in range(len(chemical_bonds)):\\n        try:\\n            chemical_bonds_dict[chemical_bonds[i][0]].append(chemical_bonds[i][1])\\n        except:\\n            chemical_bonds_dict[chemical_bonds[i][0]] = [chemical_bonds[i][1]]\\n\\n    # Create a list of lists of length num_atoms. Each sublist\\n    # describes the receptive field proportion as the graph power\\n    # is increased, corresponding to the index in the sublist.\\n    all_rf_prop_paths = []\\n    for atom_index in range(num_atoms):\\n        all_rf_prop_paths.append([])\\n        # The list of all neighbors of the atom, after graph power.\\n        all_neighbors = []\\n        # The atoms whose neighbors we will consider in the next\\n        # graph power. We initialize this list with the immediate\\n        # neighbors.\\n        neighbors_to_explore = chemical_bonds_dict[atom_index]\\n        while True:\\n            # The set of immediate neighbors of the neighbors to explore.\\n            new_neighbors = set()\\n            for neighbor_atom_index in neighbors_to_explore:\\n                new_neighbors.update(chemical_bonds_dict[neighbor_atom_index])\\n            # Add the explored neighbors to all_neighbors, and remove duplicates.\\n            all_neighbors += neighbors_to_explore\\n            all_neighbors = list(set(all_neighbors))\\n            # The neighbors to now explore are the neighbors just found.\\n            neighbors_to_explore = list(new_neighbors)\\n            # Get the receptive field proportion.\\n            curr_rf_prop = len(all_neighbors) / num_atoms\\n            # If there are no new neighbors found, break out of the loop.\\n            # This will occur if:\\n            # 1. The RF proportion is 1, or\\n            # 2. only isolated nodes are left unreached.\\n            try:\\n                if all_rf_prop_paths[atom_index][-1] == curr_rf_prop:\\n                    break\\n            except:\\n                pass\\n            all_rf_prop_paths[atom_index].append(curr_rf_prop)\\n    return all_rf_prop_paths\";\n",
       "                var nbb_formatted_code = \"def get_receptive_fields_ligand(num_atoms, chemical_bonds):\\n    \\\"\\\"\\\"Get the receptive field proportion path for each atom.\\\"\\\"\\\"\\n    # Create the dictionary of chemical bonds of the form\\n    # key atom -> each atom in the value dict.\\n    chemical_bonds_dict = dict()\\n    for i in range(len(chemical_bonds)):\\n        try:\\n            chemical_bonds_dict[chemical_bonds[i][0]].append(chemical_bonds[i][1])\\n        except:\\n            chemical_bonds_dict[chemical_bonds[i][0]] = [chemical_bonds[i][1]]\\n\\n    # Create a list of lists of length num_atoms. Each sublist\\n    # describes the receptive field proportion as the graph power\\n    # is increased, corresponding to the index in the sublist.\\n    all_rf_prop_paths = []\\n    for atom_index in range(num_atoms):\\n        all_rf_prop_paths.append([])\\n        # The list of all neighbors of the atom, after graph power.\\n        all_neighbors = []\\n        # The atoms whose neighbors we will consider in the next\\n        # graph power. We initialize this list with the immediate\\n        # neighbors.\\n        neighbors_to_explore = chemical_bonds_dict[atom_index]\\n        while True:\\n            # The set of immediate neighbors of the neighbors to explore.\\n            new_neighbors = set()\\n            for neighbor_atom_index in neighbors_to_explore:\\n                new_neighbors.update(chemical_bonds_dict[neighbor_atom_index])\\n            # Add the explored neighbors to all_neighbors, and remove duplicates.\\n            all_neighbors += neighbors_to_explore\\n            all_neighbors = list(set(all_neighbors))\\n            # The neighbors to now explore are the neighbors just found.\\n            neighbors_to_explore = list(new_neighbors)\\n            # Get the receptive field proportion.\\n            curr_rf_prop = len(all_neighbors) / num_atoms\\n            # If there are no new neighbors found, break out of the loop.\\n            # This will occur if:\\n            # 1. The RF proportion is 1, or\\n            # 2. only isolated nodes are left unreached.\\n            try:\\n                if all_rf_prop_paths[atom_index][-1] == curr_rf_prop:\\n                    break\\n            except:\\n                pass\\n            all_rf_prop_paths[atom_index].append(curr_rf_prop)\\n    return all_rf_prop_paths\";\n",
       "                var nbb_cells = Jupyter.notebook.get_cells();\n",
       "                for (var i = 0; i < nbb_cells.length; ++i) {\n",
       "                    if (nbb_cells[i].input_prompt_number == nbb_cell_id) {\n",
       "                        if (nbb_cells[i].get_text() == nbb_unformatted_code) {\n",
       "                             nbb_cells[i].set_text(nbb_formatted_code);\n",
       "                        }\n",
       "                        break;\n",
       "                    }\n",
       "                }\n",
       "            }, 500);\n",
       "            "
      ],
      "text/plain": [
       "<IPython.core.display.Javascript object>"
      ]
     },
     "metadata": {},
     "output_type": "display_data"
    }
   ],
   "source": [
    "def get_receptive_fields_ligand(num_atoms, chemical_bonds):\n",
    "    \"\"\"Get the receptive field proportion path for each atom.\"\"\"\n",
    "    # Create the dictionary of chemical bonds of the form\n",
    "    # key atom -> each atom in the value dict.\n",
    "    chemical_bonds_dict = dict()\n",
    "    for i in range(len(chemical_bonds)):\n",
    "        try:\n",
    "            chemical_bonds_dict[chemical_bonds[i][0]].append(chemical_bonds[i][1])\n",
    "        except:\n",
    "            chemical_bonds_dict[chemical_bonds[i][0]] = [chemical_bonds[i][1]]\n",
    "\n",
    "    # Create a list of lists of length num_atoms. Each sublist\n",
    "    # describes the receptive field proportion as the graph power\n",
    "    # is increased, corresponding to the index in the sublist.\n",
    "    all_rf_prop_paths = []\n",
    "    for atom_index in range(num_atoms):\n",
    "        all_rf_prop_paths.append([])\n",
    "        # The list of all neighbors of the atom, after graph power.\n",
    "        all_neighbors = []\n",
    "        # The atoms whose neighbors we will consider in the next\n",
    "        # graph power. We initialize this list with the immediate\n",
    "        # neighbors.\n",
    "        neighbors_to_explore = chemical_bonds_dict[atom_index]\n",
    "        while True:\n",
    "            # The set of immediate neighbors of the neighbors to explore.\n",
    "            new_neighbors = set()\n",
    "            for neighbor_atom_index in neighbors_to_explore:\n",
    "                new_neighbors.update(chemical_bonds_dict[neighbor_atom_index])\n",
    "            # Add the explored neighbors to all_neighbors, and remove duplicates.\n",
    "            all_neighbors += neighbors_to_explore\n",
    "            all_neighbors = list(set(all_neighbors))\n",
    "            # The neighbors to now explore are the neighbors just found.\n",
    "            neighbors_to_explore = list(new_neighbors)\n",
    "            # Get the receptive field proportion.\n",
    "            curr_rf_prop = len(all_neighbors) / num_atoms\n",
    "            # If there are no new neighbors found, break out of the loop.\n",
    "            # This will occur if:\n",
    "            # 1. The RF proportion is 1, or\n",
    "            # 2. only isolated nodes are left unreached.\n",
    "            try:\n",
    "                if all_rf_prop_paths[atom_index][-1] == curr_rf_prop:\n",
    "                    break\n",
    "            except:\n",
    "                pass\n",
    "            all_rf_prop_paths[atom_index].append(curr_rf_prop)\n",
    "    return all_rf_prop_paths"
   ]
  },
  {
   "cell_type": "code",
   "execution_count": 8,
   "metadata": {},
   "outputs": [
    {
     "data": {
      "application/javascript": [
       "\n",
       "            setTimeout(function() {\n",
       "                var nbb_cell_id = 8;\n",
       "                var nbb_unformatted_code = \"def get_init_rf_props_ligand(all_rf_prop_paths):\\n    \\\"\\\"\\\"Get the initial average RF proportion for the ligand.\\\"\\\"\\\"\\n    return np.mean([path[0] for path in all_rf_prop_paths])\\n\\n\\ndef get_avg_full_len_ligand(all_rf_prop_paths):\\n    \\\"\\\"\\\"Get the average full RF proportion power for the ligand.\\\"\\\"\\\"\\n    return np.mean([len(path) for path in all_rf_prop_paths])\\n\\n\\ndef get_receptive_fields_target(target_data_dict):\\n    \\\"\\\"\\\"Get each vertex's receptive field path for each ligand for the target.\\\"\\\"\\\"\\n    # Dictionary of the form ligand code: each vertex's RF proportion path.\\n    rf_paths_dict = {\\n        ligand_code: get_receptive_fields_ligand(\\n            len(processed_ligand_data[0]), processed_ligand_data[1]\\n        )\\n        for ligand_code, processed_ligand_data in target_data_dict.items()\\n    }\\n    # Return also the average initial RF proportion of each ligand, and\\n    # the number of\\n    return (\\n        rf_paths_dict,\\n        {\\n            ligand_code: get_init_rf_props_ligand(all_rf_prop_paths)\\n            for ligand_code, all_rf_prop_paths in rf_paths_dict.items()\\n        },\\n        {\\n            ligand_code: get_avg_full_len_ligand(all_rf_prop_paths)\\n            for ligand_code, all_rf_prop_paths in rf_paths_dict.items()\\n        },\\n    )\\n\\n\\ndef get_average_path_ligand(rf_paths):\\n    \\\"\\\"\\\"Get average RF proportion for each graph power.\\\"\\\"\\\"\\n\\n    def pad(path):\\n        return path + [path[-1]] * (max_path_len - len(path))\\n\\n    max_path_len = np.max([len(path) for path in rf_paths])\\n    rf_paths = np.array([pad(path) for path in rf_paths])\\n    return rf_paths.mean(0).tolist()\";\n",
       "                var nbb_formatted_code = \"def get_init_rf_props_ligand(all_rf_prop_paths):\\n    \\\"\\\"\\\"Get the initial average RF proportion for the ligand.\\\"\\\"\\\"\\n    return np.mean([path[0] for path in all_rf_prop_paths])\\n\\n\\ndef get_avg_full_len_ligand(all_rf_prop_paths):\\n    \\\"\\\"\\\"Get the average full RF proportion power for the ligand.\\\"\\\"\\\"\\n    return np.mean([len(path) for path in all_rf_prop_paths])\\n\\n\\ndef get_receptive_fields_target(target_data_dict):\\n    \\\"\\\"\\\"Get each vertex's receptive field path for each ligand for the target.\\\"\\\"\\\"\\n    # Dictionary of the form ligand code: each vertex's RF proportion path.\\n    rf_paths_dict = {\\n        ligand_code: get_receptive_fields_ligand(\\n            len(processed_ligand_data[0]), processed_ligand_data[1]\\n        )\\n        for ligand_code, processed_ligand_data in target_data_dict.items()\\n    }\\n    # Return also the average initial RF proportion of each ligand, and\\n    # the number of\\n    return (\\n        rf_paths_dict,\\n        {\\n            ligand_code: get_init_rf_props_ligand(all_rf_prop_paths)\\n            for ligand_code, all_rf_prop_paths in rf_paths_dict.items()\\n        },\\n        {\\n            ligand_code: get_avg_full_len_ligand(all_rf_prop_paths)\\n            for ligand_code, all_rf_prop_paths in rf_paths_dict.items()\\n        },\\n    )\\n\\n\\ndef get_average_path_ligand(rf_paths):\\n    \\\"\\\"\\\"Get average RF proportion for each graph power.\\\"\\\"\\\"\\n\\n    def pad(path):\\n        return path + [path[-1]] * (max_path_len - len(path))\\n\\n    max_path_len = np.max([len(path) for path in rf_paths])\\n    rf_paths = np.array([pad(path) for path in rf_paths])\\n    return rf_paths.mean(0).tolist()\";\n",
       "                var nbb_cells = Jupyter.notebook.get_cells();\n",
       "                for (var i = 0; i < nbb_cells.length; ++i) {\n",
       "                    if (nbb_cells[i].input_prompt_number == nbb_cell_id) {\n",
       "                        if (nbb_cells[i].get_text() == nbb_unformatted_code) {\n",
       "                             nbb_cells[i].set_text(nbb_formatted_code);\n",
       "                        }\n",
       "                        break;\n",
       "                    }\n",
       "                }\n",
       "            }, 500);\n",
       "            "
      ],
      "text/plain": [
       "<IPython.core.display.Javascript object>"
      ]
     },
     "metadata": {},
     "output_type": "display_data"
    }
   ],
   "source": [
    "def get_init_rf_props_ligand(all_rf_prop_paths):\n",
    "    \"\"\"Get the initial average RF proportion for the ligand.\"\"\"\n",
    "    return np.mean([path[0] for path in all_rf_prop_paths])\n",
    "\n",
    "\n",
    "def get_avg_full_len_ligand(all_rf_prop_paths):\n",
    "    \"\"\"Get the average full RF proportion power for the ligand.\"\"\"\n",
    "    return np.mean([len(path) for path in all_rf_prop_paths])\n",
    "\n",
    "\n",
    "def get_receptive_fields_target(target_data_dict):\n",
    "    \"\"\"Get each vertex's receptive field path for each ligand for the target.\"\"\"\n",
    "    # Dictionary of the form ligand code: each vertex's RF proportion path.\n",
    "    rf_paths_dict = {\n",
    "        ligand_code: get_receptive_fields_ligand(\n",
    "            len(processed_ligand_data[0]), processed_ligand_data[1]\n",
    "        )\n",
    "        for ligand_code, processed_ligand_data in target_data_dict.items()\n",
    "    }\n",
    "    # Return also the average initial RF proportion of each ligand, and\n",
    "    # the number of\n",
    "    return (\n",
    "        rf_paths_dict,\n",
    "        {\n",
    "            ligand_code: get_init_rf_props_ligand(all_rf_prop_paths)\n",
    "            for ligand_code, all_rf_prop_paths in rf_paths_dict.items()\n",
    "        },\n",
    "        {\n",
    "            ligand_code: get_avg_full_len_ligand(all_rf_prop_paths)\n",
    "            for ligand_code, all_rf_prop_paths in rf_paths_dict.items()\n",
    "        },\n",
    "    )\n",
    "\n",
    "\n",
    "def get_average_path_ligand(rf_paths):\n",
    "    \"\"\"Get average RF proportion for each graph power.\"\"\"\n",
    "\n",
    "    def pad(path):\n",
    "        return path + [path[-1]] * (max_path_len - len(path))\n",
    "\n",
    "    max_path_len = np.max([len(path) for path in rf_paths])\n",
    "    rf_paths = np.array([pad(path) for path in rf_paths])\n",
    "    return rf_paths.mean(0).tolist()"
   ]
  },
  {
   "cell_type": "markdown",
   "metadata": {},
   "source": [
    "#### Plotting"
   ]
  },
  {
   "cell_type": "code",
   "execution_count": 35,
   "metadata": {},
   "outputs": [
    {
     "data": {
      "application/javascript": [
       "\n",
       "            setTimeout(function() {\n",
       "                var nbb_cell_id = 35;\n",
       "                var nbb_unformatted_code = \"def plot_histogram(x, xlabel, title):\\n    n, bins, patches = plt.hist(\\n        x=x, bins=\\\"auto\\\", color=\\\"#0504aa\\\", alpha=0.7, rwidth=0.85\\n    )\\n    plt.grid(axis=\\\"y\\\", alpha=0.75)\\n    plt.xlabel(xlabel)\\n    plt.ylabel(\\\"Frequency\\\")\\n    plt.title(title)\\n    plt.axvline(x=np.mean(x), color=\\\"red\\\", linestyle=\\\"--\\\")\\n    maxfreq = n.max()\\n    plt.ylim(ymax=np.ceil(maxfreq / 10) * 10 if maxfreq % 10 else maxfreq + 10)\\n\\n\\ndef plot_relationship(x, y, xlabel, ylabel, title=\\\"\\\", show_spline=True):\\n    if not show_spline:\\n        plt.plot(x, y, \\\"o\\\", color=\\\"#0504aa\\\")\\n    else:\\n        smoothing_spline = csaps.CubicSmoothingSpline(x, y, smooth=0.85)\\n        x_inputs = np.linspace(np.min(x), np.max(x), 150)\\n        y_outputs = smoothing_spline(x_inputs)\\n        plt.plot(x, y, \\\"o\\\", x_inputs, y_outputs, \\\"-\\\", color=\\\"#0504aa\\\")\\n    plt.xlabel(xlabel)\\n    plt.ylabel(ylabel)\\n    plt.title(title)\\n    plt.show()\";\n",
       "                var nbb_formatted_code = \"def plot_histogram(x, xlabel, title):\\n    n, bins, patches = plt.hist(\\n        x=x, bins=\\\"auto\\\", color=\\\"#0504aa\\\", alpha=0.7, rwidth=0.85\\n    )\\n    plt.grid(axis=\\\"y\\\", alpha=0.75)\\n    plt.xlabel(xlabel)\\n    plt.ylabel(\\\"Frequency\\\")\\n    plt.title(title)\\n    plt.axvline(x=np.mean(x), color=\\\"red\\\", linestyle=\\\"--\\\")\\n    maxfreq = n.max()\\n    plt.ylim(ymax=np.ceil(maxfreq / 10) * 10 if maxfreq % 10 else maxfreq + 10)\\n\\n\\ndef plot_relationship(x, y, xlabel, ylabel, title=\\\"\\\", show_spline=True):\\n    if not show_spline:\\n        plt.plot(x, y, \\\"o\\\", color=\\\"#0504aa\\\")\\n    else:\\n        smoothing_spline = csaps.CubicSmoothingSpline(x, y, smooth=0.85)\\n        x_inputs = np.linspace(np.min(x), np.max(x), 150)\\n        y_outputs = smoothing_spline(x_inputs)\\n        plt.plot(x, y, \\\"o\\\", x_inputs, y_outputs, \\\"-\\\", color=\\\"#0504aa\\\")\\n    plt.xlabel(xlabel)\\n    plt.ylabel(ylabel)\\n    plt.title(title)\\n    plt.show()\";\n",
       "                var nbb_cells = Jupyter.notebook.get_cells();\n",
       "                for (var i = 0; i < nbb_cells.length; ++i) {\n",
       "                    if (nbb_cells[i].input_prompt_number == nbb_cell_id) {\n",
       "                        if (nbb_cells[i].get_text() == nbb_unformatted_code) {\n",
       "                             nbb_cells[i].set_text(nbb_formatted_code);\n",
       "                        }\n",
       "                        break;\n",
       "                    }\n",
       "                }\n",
       "            }, 500);\n",
       "            "
      ],
      "text/plain": [
       "<IPython.core.display.Javascript object>"
      ]
     },
     "metadata": {},
     "output_type": "display_data"
    }
   ],
   "source": [
    "def plot_histogram(x, xlabel, title):\n",
    "    n, bins, patches = plt.hist(\n",
    "        x=x, bins=\"auto\", color=\"#0504aa\", alpha=0.7, rwidth=0.85\n",
    "    )\n",
    "    plt.grid(axis=\"y\", alpha=0.75)\n",
    "    plt.xlabel(xlabel)\n",
    "    plt.ylabel(\"Frequency\")\n",
    "    plt.title(title)\n",
    "    plt.axvline(x=np.mean(x), color=\"red\", linestyle=\"--\")\n",
    "    maxfreq = n.max()\n",
    "    plt.ylim(ymax=np.ceil(maxfreq / 10) * 10 if maxfreq % 10 else maxfreq + 10)\n",
    "\n",
    "\n",
    "def plot_relationship(x, y, xlabel, ylabel, title=\"\", show_spline=True):\n",
    "    if not show_spline:\n",
    "        plt.plot(x, y, \"o\", color=\"#0504aa\")\n",
    "    else:\n",
    "        smoothing_spline = csaps.CubicSmoothingSpline(x, y, smooth=0.85)\n",
    "        x_inputs = np.linspace(np.min(x), np.max(x), 150)\n",
    "        y_outputs = smoothing_spline(x_inputs)\n",
    "        plt.plot(x, y, \"o\", x_inputs, y_outputs, \"-\", color=\"#0504aa\")\n",
    "    plt.xlabel(xlabel)\n",
    "    plt.ylabel(ylabel)\n",
    "    plt.title(title)\n",
    "    plt.show()"
   ]
  },
  {
   "cell_type": "markdown",
   "metadata": {},
   "source": [
    "### Application"
   ]
  },
  {
   "cell_type": "code",
   "execution_count": 10,
   "metadata": {},
   "outputs": [
    {
     "data": {
      "application/javascript": [
       "\n",
       "            setTimeout(function() {\n",
       "                var nbb_cell_id = 10;\n",
       "                var nbb_unformatted_code = \"# Get the list of target names.\\nall_targets = pd.read_csv(\\\"../data/dud-e_targets.csv\\\").target_name.tolist()\\nall_targets = [target.lower() for target in all_targets]\\n\\n# Temporary removal -- bond information not available.\\nall_targets.remove(\\\"aa2ar\\\")\\nall_targets.remove(\\\"drd3\\\")\";\n",
       "                var nbb_formatted_code = \"# Get the list of target names.\\nall_targets = pd.read_csv(\\\"../data/dud-e_targets.csv\\\").target_name.tolist()\\nall_targets = [target.lower() for target in all_targets]\\n\\n# Temporary removal -- bond information not available.\\nall_targets.remove(\\\"aa2ar\\\")\\nall_targets.remove(\\\"drd3\\\")\";\n",
       "                var nbb_cells = Jupyter.notebook.get_cells();\n",
       "                for (var i = 0; i < nbb_cells.length; ++i) {\n",
       "                    if (nbb_cells[i].input_prompt_number == nbb_cell_id) {\n",
       "                        if (nbb_cells[i].get_text() == nbb_unformatted_code) {\n",
       "                             nbb_cells[i].set_text(nbb_formatted_code);\n",
       "                        }\n",
       "                        break;\n",
       "                    }\n",
       "                }\n",
       "            }, 500);\n",
       "            "
      ],
      "text/plain": [
       "<IPython.core.display.Javascript object>"
      ]
     },
     "metadata": {},
     "output_type": "display_data"
    }
   ],
   "source": [
    "# Get the list of target names.\n",
    "all_targets = pd.read_csv(\"../data/dud-e_targets.csv\").target_name.tolist()\n",
    "all_targets = [target.lower() for target in all_targets]\n",
    "\n",
    "# Temporary removal -- bond information not available.\n",
    "all_targets.remove(\"aa2ar\")\n",
    "all_targets.remove(\"drd3\")"
   ]
  },
  {
   "cell_type": "markdown",
   "metadata": {},
   "source": [
    "#### Ligands"
   ]
  },
  {
   "cell_type": "code",
   "execution_count": 11,
   "metadata": {},
   "outputs": [
    {
     "data": {
      "application/javascript": [
       "\n",
       "            setTimeout(function() {\n",
       "                var nbb_cell_id = 11;\n",
       "                var nbb_unformatted_code = \"PRELOAD = 1\";\n",
       "                var nbb_formatted_code = \"PRELOAD = 1\";\n",
       "                var nbb_cells = Jupyter.notebook.get_cells();\n",
       "                for (var i = 0; i < nbb_cells.length; ++i) {\n",
       "                    if (nbb_cells[i].input_prompt_number == nbb_cell_id) {\n",
       "                        if (nbb_cells[i].get_text() == nbb_unformatted_code) {\n",
       "                             nbb_cells[i].set_text(nbb_formatted_code);\n",
       "                        }\n",
       "                        break;\n",
       "                    }\n",
       "                }\n",
       "            }, 500);\n",
       "            "
      ],
      "text/plain": [
       "<IPython.core.display.Javascript object>"
      ]
     },
     "metadata": {},
     "output_type": "display_data"
    }
   ],
   "source": [
    "PRELOAD = 1"
   ]
  },
  {
   "cell_type": "code",
   "execution_count": 12,
   "metadata": {},
   "outputs": [
    {
     "data": {
      "application/javascript": [
       "\n",
       "            setTimeout(function() {\n",
       "                var nbb_cell_id = 12;\n",
       "                var nbb_unformatted_code = \"if PRELOAD:\\n    all_ligand_data_dicts = pd.read_pickle(\\\"all_ligand_data_dicts.pkl\\\")\\nelse:\\n    np.random.seed(1)\\n    all_ligand_data_dicts = dict()\\n    for target in progressbar(all_targets):\\n        all_ligand_data_dicts[target] = load_ligands(target, 400)\\n    with open(\\\"all_ligand_data_dicts.pkl\\\", \\\"wb\\\") as f:\\n        pickle.dump(\\n            all_ligand_data_dicts,\\n            f,\\n        )\";\n",
       "                var nbb_formatted_code = \"if PRELOAD:\\n    all_ligand_data_dicts = pd.read_pickle(\\\"all_ligand_data_dicts.pkl\\\")\\nelse:\\n    np.random.seed(1)\\n    all_ligand_data_dicts = dict()\\n    for target in progressbar(all_targets):\\n        all_ligand_data_dicts[target] = load_ligands(target, 400)\\n    with open(\\\"all_ligand_data_dicts.pkl\\\", \\\"wb\\\") as f:\\n        pickle.dump(\\n            all_ligand_data_dicts,\\n            f,\\n        )\";\n",
       "                var nbb_cells = Jupyter.notebook.get_cells();\n",
       "                for (var i = 0; i < nbb_cells.length; ++i) {\n",
       "                    if (nbb_cells[i].input_prompt_number == nbb_cell_id) {\n",
       "                        if (nbb_cells[i].get_text() == nbb_unformatted_code) {\n",
       "                             nbb_cells[i].set_text(nbb_formatted_code);\n",
       "                        }\n",
       "                        break;\n",
       "                    }\n",
       "                }\n",
       "            }, 500);\n",
       "            "
      ],
      "text/plain": [
       "<IPython.core.display.Javascript object>"
      ]
     },
     "metadata": {},
     "output_type": "display_data"
    }
   ],
   "source": [
    "if PRELOAD:\n",
    "    all_ligand_data_dicts = pd.read_pickle(\"all_ligand_data_dicts.pkl\")\n",
    "else:\n",
    "    np.random.seed(1)\n",
    "    all_ligand_data_dicts = dict()\n",
    "    for target in progressbar(all_targets):\n",
    "        all_ligand_data_dicts[target] = load_ligands(target, 400)\n",
    "    with open(\"all_ligand_data_dicts.pkl\", \"wb\") as f:\n",
    "        pickle.dump(\n",
    "            all_ligand_data_dicts,\n",
    "            f,\n",
    "        )"
   ]
  },
  {
   "cell_type": "code",
   "execution_count": 13,
   "metadata": {
    "scrolled": true
   },
   "outputs": [
    {
     "data": {
      "application/javascript": [
       "\n",
       "            setTimeout(function() {\n",
       "                var nbb_cell_id = 13;\n",
       "                var nbb_unformatted_code = \"if PRELOAD:\\n    all_ligand_dos = pd.read_pickle(\\\"all_ligand_dos.pkl\\\")\\nelse:\\n    all_ligand_dos = []\\n    for target in progressbar(all_targets):\\n        curr_ligand_distance_dict = get_ligand_distances(all_ligand_data_dicts[target])\\n        all_ligand_dos += [\\n            get_mean_dos_ligand(subdict_list)\\n            for subdict_list in curr_ligand_distance_dict.values()\\n        ]\\n    with open(\\\"all_ligand_dos.pkl\\\", \\\"wb\\\") as f:\\n        pickle.dump(\\n            all_ligand_dos,\\n            f,\\n        )\";\n",
       "                var nbb_formatted_code = \"if PRELOAD:\\n    all_ligand_dos = pd.read_pickle(\\\"all_ligand_dos.pkl\\\")\\nelse:\\n    all_ligand_dos = []\\n    for target in progressbar(all_targets):\\n        curr_ligand_distance_dict = get_ligand_distances(all_ligand_data_dicts[target])\\n        all_ligand_dos += [\\n            get_mean_dos_ligand(subdict_list)\\n            for subdict_list in curr_ligand_distance_dict.values()\\n        ]\\n    with open(\\\"all_ligand_dos.pkl\\\", \\\"wb\\\") as f:\\n        pickle.dump(\\n            all_ligand_dos,\\n            f,\\n        )\";\n",
       "                var nbb_cells = Jupyter.notebook.get_cells();\n",
       "                for (var i = 0; i < nbb_cells.length; ++i) {\n",
       "                    if (nbb_cells[i].input_prompt_number == nbb_cell_id) {\n",
       "                        if (nbb_cells[i].get_text() == nbb_unformatted_code) {\n",
       "                             nbb_cells[i].set_text(nbb_formatted_code);\n",
       "                        }\n",
       "                        break;\n",
       "                    }\n",
       "                }\n",
       "            }, 500);\n",
       "            "
      ],
      "text/plain": [
       "<IPython.core.display.Javascript object>"
      ]
     },
     "metadata": {},
     "output_type": "display_data"
    }
   ],
   "source": [
    "if PRELOAD:\n",
    "    all_ligand_dos = pd.read_pickle(\"all_ligand_dos.pkl\")\n",
    "else:\n",
    "    all_ligand_dos = []\n",
    "    for target in progressbar(all_targets):\n",
    "        curr_ligand_distance_dict = get_ligand_distances(all_ligand_data_dicts[target])\n",
    "        all_ligand_dos += [\n",
    "            get_mean_dos_ligand(subdict_list)\n",
    "            for subdict_list in curr_ligand_distance_dict.values()\n",
    "        ]\n",
    "    with open(\"all_ligand_dos.pkl\", \"wb\") as f:\n",
    "        pickle.dump(\n",
    "            all_ligand_dos,\n",
    "            f,\n",
    "        )"
   ]
  },
  {
   "cell_type": "code",
   "execution_count": 15,
   "metadata": {},
   "outputs": [
    {
     "name": "stderr",
     "output_type": "stream",
     "text": [
      "100% (100 of 100) |######################| Elapsed Time: 0:03:56 Time:  0:03:56\n"
     ]
    },
    {
     "data": {
      "application/javascript": [
       "\n",
       "            setTimeout(function() {\n",
       "                var nbb_cell_id = 15;\n",
       "                var nbb_unformatted_code = \"if PRELOAD:\\n    all_ligand_rf_paths = pd.read_pickle(\\\"all_ligand_rf_paths.pkl\\\")\\n    all_ligand_avg_rf = pd.read_pickle(\\\"all_ligand_avg_rf.pkl\\\")\\n    all_ligand_full_lens = pd.read_pickle(\\\"all_ligand_full_lens.pkl\\\")\\nelse:\\n    all_ligand_rf_paths = []\\n    all_ligand_avg_rf = []\\n    all_ligand_full_lens = []\\n    for target in progressbar(all_targets):\\n        rf_paths_dict, init_rf_props, avg_full_lens = get_receptive_fields_target(\\n            all_ligand_data_dicts[target]\\n        )\\n        all_ligand_rf_paths += [\\n            get_average_path_ligand(rf_paths) for rf_paths in rf_paths_dict.values()\\n        ]\\n        all_ligand_avg_rf += list(init_rf_props.values())\\n        all_ligand_full_lens += list(avg_full_lens.values())\\n    all_ligand_rf_paths = get_average_path_ligand(all_ligand_rf_paths)\\n\\n    with open(\\\"all_ligand_avg_rf.pkl\\\", \\\"wb\\\") as f:\\n        pickle.dump(\\n            all_ligand_avg_rf,\\n            f,\\n        )\\n    with open(\\\"all_ligand_rf_paths.pkl\\\", \\\"wb\\\") as f:\\n        pickle.dump(\\n            all_ligand_rf_paths,\\n            f,\\n        )\\n    with open(\\\"all_ligand_full_lens.pkl\\\", \\\"wb\\\") as f:\\n        pickle.dump(\\n            all_ligand_full_lens,\\n            f,\\n        )\";\n",
       "                var nbb_formatted_code = \"if PRELOAD:\\n    all_ligand_rf_paths = pd.read_pickle(\\\"all_ligand_rf_paths.pkl\\\")\\n    all_ligand_avg_rf = pd.read_pickle(\\\"all_ligand_avg_rf.pkl\\\")\\n    all_ligand_full_lens = pd.read_pickle(\\\"all_ligand_full_lens.pkl\\\")\\nelse:\\n    all_ligand_rf_paths = []\\n    all_ligand_avg_rf = []\\n    all_ligand_full_lens = []\\n    for target in progressbar(all_targets):\\n        rf_paths_dict, init_rf_props, avg_full_lens = get_receptive_fields_target(\\n            all_ligand_data_dicts[target]\\n        )\\n        all_ligand_rf_paths += [\\n            get_average_path_ligand(rf_paths) for rf_paths in rf_paths_dict.values()\\n        ]\\n        all_ligand_avg_rf += list(init_rf_props.values())\\n        all_ligand_full_lens += list(avg_full_lens.values())\\n    all_ligand_rf_paths = get_average_path_ligand(all_ligand_rf_paths)\\n\\n    with open(\\\"all_ligand_avg_rf.pkl\\\", \\\"wb\\\") as f:\\n        pickle.dump(\\n            all_ligand_avg_rf,\\n            f,\\n        )\\n    with open(\\\"all_ligand_rf_paths.pkl\\\", \\\"wb\\\") as f:\\n        pickle.dump(\\n            all_ligand_rf_paths,\\n            f,\\n        )\\n    with open(\\\"all_ligand_full_lens.pkl\\\", \\\"wb\\\") as f:\\n        pickle.dump(\\n            all_ligand_full_lens,\\n            f,\\n        )\";\n",
       "                var nbb_cells = Jupyter.notebook.get_cells();\n",
       "                for (var i = 0; i < nbb_cells.length; ++i) {\n",
       "                    if (nbb_cells[i].input_prompt_number == nbb_cell_id) {\n",
       "                        if (nbb_cells[i].get_text() == nbb_unformatted_code) {\n",
       "                             nbb_cells[i].set_text(nbb_formatted_code);\n",
       "                        }\n",
       "                        break;\n",
       "                    }\n",
       "                }\n",
       "            }, 500);\n",
       "            "
      ],
      "text/plain": [
       "<IPython.core.display.Javascript object>"
      ]
     },
     "metadata": {},
     "output_type": "display_data"
    }
   ],
   "source": [
    "if PRELOAD:\n",
    "    all_ligand_rf_paths = pd.read_pickle(\"all_ligand_rf_paths.pkl\")\n",
    "    all_ligand_avg_rf = pd.read_pickle(\"all_ligand_avg_rf.pkl\")\n",
    "    all_ligand_full_lens = pd.read_pickle(\"all_ligand_full_lens.pkl\")\n",
    "else:\n",
    "    all_ligand_rf_paths = []\n",
    "    all_ligand_avg_rf = []\n",
    "    all_ligand_full_lens = []\n",
    "    for target in progressbar(all_targets):\n",
    "        rf_paths_dict, init_rf_props, avg_full_lens = get_receptive_fields_target(\n",
    "            all_ligand_data_dicts[target]\n",
    "        )\n",
    "        all_ligand_rf_paths += [\n",
    "            get_average_path_ligand(rf_paths) for rf_paths in rf_paths_dict.values()\n",
    "        ]\n",
    "        all_ligand_avg_rf += list(init_rf_props.values())\n",
    "        all_ligand_full_lens += list(avg_full_lens.values())\n",
    "    all_ligand_rf_paths = get_average_path_ligand(all_ligand_rf_paths)\n",
    "\n",
    "    with open(\"all_ligand_avg_rf.pkl\", \"wb\") as f:\n",
    "        pickle.dump(\n",
    "            all_ligand_avg_rf,\n",
    "            f,\n",
    "        )\n",
    "    with open(\"all_ligand_rf_paths.pkl\", \"wb\") as f:\n",
    "        pickle.dump(\n",
    "            all_ligand_rf_paths,\n",
    "            f,\n",
    "        )\n",
    "    with open(\"all_ligand_full_lens.pkl\", \"wb\") as f:\n",
    "        pickle.dump(\n",
    "            all_ligand_full_lens,\n",
    "            f,\n",
    "        )"
   ]
  },
  {
   "cell_type": "code",
   "execution_count": 41,
   "metadata": {
    "scrolled": true
   },
   "outputs": [
    {
     "data": {
      "image/png": "[encoded data removed]",
      "text/plain": [
       "<Figure size 432x288 with 1 Axes>"
      ]
     },
     "metadata": {
      "needs_background": "light"
     },
     "output_type": "display_data"
    },
    {
     "data": {
      "application/javascript": [
       "\n",
       "            setTimeout(function() {\n",
       "                var nbb_cell_id = 41;\n",
       "                var nbb_unformatted_code = \"plot_histogram(all_ligand_dos, \\\"DoS\\\", \\\"\\\")\";\n",
       "                var nbb_formatted_code = \"plot_histogram(all_ligand_dos, \\\"DoS\\\", \\\"\\\")\";\n",
       "                var nbb_cells = Jupyter.notebook.get_cells();\n",
       "                for (var i = 0; i < nbb_cells.length; ++i) {\n",
       "                    if (nbb_cells[i].input_prompt_number == nbb_cell_id) {\n",
       "                        if (nbb_cells[i].get_text() == nbb_unformatted_code) {\n",
       "                             nbb_cells[i].set_text(nbb_formatted_code);\n",
       "                        }\n",
       "                        break;\n",
       "                    }\n",
       "                }\n",
       "            }, 500);\n",
       "            "
      ],
      "text/plain": [
       "<IPython.core.display.Javascript object>"
      ]
     },
     "metadata": {},
     "output_type": "display_data"
    }
   ],
   "source": [
    "plot_histogram(all_ligand_dos, \"DoS\", \"\")"
   ]
  },
  {
   "cell_type": "code",
   "execution_count": 48,
   "metadata": {},
   "outputs": [
    {
     "data": {
      "image/png": "[encoded data removed]",
      "text/plain": [
       "<Figure size 432x288 with 1 Axes>"
      ]
     },
     "metadata": {
      "needs_background": "light"
     },
     "output_type": "display_data"
    },
    {
     "data": {
      "application/javascript": [
       "\n",
       "            setTimeout(function() {\n",
       "                var nbb_cell_id = 48;\n",
       "                var nbb_unformatted_code = \"plot_histogram(\\n    all_ligand_avg_rf,\\n    \\\"Initial receptive field proportion\\\",\\n    \\\"\\\"\\n)\";\n",
       "                var nbb_formatted_code = \"plot_histogram(all_ligand_avg_rf, \\\"Initial receptive field proportion\\\", \\\"\\\")\";\n",
       "                var nbb_cells = Jupyter.notebook.get_cells();\n",
       "                for (var i = 0; i < nbb_cells.length; ++i) {\n",
       "                    if (nbb_cells[i].input_prompt_number == nbb_cell_id) {\n",
       "                        if (nbb_cells[i].get_text() == nbb_unformatted_code) {\n",
       "                             nbb_cells[i].set_text(nbb_formatted_code);\n",
       "                        }\n",
       "                        break;\n",
       "                    }\n",
       "                }\n",
       "            }, 500);\n",
       "            "
      ],
      "text/plain": [
       "<IPython.core.display.Javascript object>"
      ]
     },
     "metadata": {},
     "output_type": "display_data"
    }
   ],
   "source": [
    "plot_histogram(all_ligand_avg_rf, \"Initial receptive field proportion\", \"\")"
   ]
  },
  {
   "cell_type": "code",
   "execution_count": 42,
   "metadata": {},
   "outputs": [
    {
     "data": {
      "image/png": "[encoded data removed]",
      "text/plain": [
       "<Figure size 432x288 with 1 Axes>"
      ]
     },
     "metadata": {
      "needs_background": "light"
     },
     "output_type": "display_data"
    },
    {
     "data": {
      "application/javascript": [
       "\n",
       "            setTimeout(function() {\n",
       "                var nbb_cell_id = 42;\n",
       "                var nbb_unformatted_code = \"plot_histogram(\\n    all_ligand_full_lens, \\\"Graph power for complete connectivity\\\", \\\"\\\"\\n)\";\n",
       "                var nbb_formatted_code = \"plot_histogram(all_ligand_full_lens, \\\"Graph power for complete connectivity\\\", \\\"\\\")\";\n",
       "                var nbb_cells = Jupyter.notebook.get_cells();\n",
       "                for (var i = 0; i < nbb_cells.length; ++i) {\n",
       "                    if (nbb_cells[i].input_prompt_number == nbb_cell_id) {\n",
       "                        if (nbb_cells[i].get_text() == nbb_unformatted_code) {\n",
       "                             nbb_cells[i].set_text(nbb_formatted_code);\n",
       "                        }\n",
       "                        break;\n",
       "                    }\n",
       "                }\n",
       "            }, 500);\n",
       "            "
      ],
      "text/plain": [
       "<IPython.core.display.Javascript object>"
      ]
     },
     "metadata": {},
     "output_type": "display_data"
    }
   ],
   "source": [
    "plot_histogram(all_ligand_full_lens, \"Graph power for complete connectivity\", \"\")"
   ]
  },
  {
   "cell_type": "code",
   "execution_count": 47,
   "metadata": {},
   "outputs": [
    {
     "data": {
      "image/png": "[encoded data removed]",
      "text/plain": [
       "<Figure size 432x288 with 1 Axes>"
      ]
     },
     "metadata": {
      "needs_background": "light"
     },
     "output_type": "display_data"
    },
    {
     "data": {
      "application/javascript": [
       "\n",
       "            setTimeout(function() {\n",
       "                var nbb_cell_id = 47;\n",
       "                var nbb_unformatted_code = \"plot_relationship(\\n    np.array(all_ligand_dos)[np.argsort(all_ligand_dos)],\\n    np.array(all_ligand_avg_rf)[np.argsort(all_ligand_dos)],\\n    \\\"Average ligand DoS\\\",\\n    \\\"Average initial receptive field\\\",\\n    show_spline=0,\\n)\";\n",
       "                var nbb_formatted_code = \"plot_relationship(\\n    np.array(all_ligand_dos)[np.argsort(all_ligand_dos)],\\n    np.array(all_ligand_avg_rf)[np.argsort(all_ligand_dos)],\\n    \\\"Average ligand DoS\\\",\\n    \\\"Average initial receptive field\\\",\\n    show_spline=0,\\n)\";\n",
       "                var nbb_cells = Jupyter.notebook.get_cells();\n",
       "                for (var i = 0; i < nbb_cells.length; ++i) {\n",
       "                    if (nbb_cells[i].input_prompt_number == nbb_cell_id) {\n",
       "                        if (nbb_cells[i].get_text() == nbb_unformatted_code) {\n",
       "                             nbb_cells[i].set_text(nbb_formatted_code);\n",
       "                        }\n",
       "                        break;\n",
       "                    }\n",
       "                }\n",
       "            }, 500);\n",
       "            "
      ],
      "text/plain": [
       "<IPython.core.display.Javascript object>"
      ]
     },
     "metadata": {},
     "output_type": "display_data"
    }
   ],
   "source": [
    "plot_relationship(\n",
    "    np.array(all_ligand_dos)[np.argsort(all_ligand_dos)],\n",
    "    np.array(all_ligand_avg_rf)[np.argsort(all_ligand_dos)],\n",
    "    \"Average ligand DoS\",\n",
    "    \"Average initial receptive field\",\n",
    "    show_spline=0,\n",
    ")"
   ]
  },
  {
   "cell_type": "code",
   "execution_count": 40,
   "metadata": {},
   "outputs": [
    {
     "data": {
      "image/png": "[encoded data removed]",
      "text/plain": [
       "<Figure size 432x288 with 1 Axes>"
      ]
     },
     "metadata": {
      "needs_background": "light"
     },
     "output_type": "display_data"
    },
    {
     "data": {
      "application/javascript": [
       "\n",
       "            setTimeout(function() {\n",
       "                var nbb_cell_id = 40;\n",
       "                var nbb_unformatted_code = \"plot_relationship(\\n    list(range(1, len(all_ligand_rf_paths) + 1)),\\n    all_ligand_rf_paths,\\n    \\\"Graph power\\\",\\n    \\\"Receptive field proportion\\\",\\n    show_spline=False,\\n)\";\n",
       "                var nbb_formatted_code = \"plot_relationship(\\n    list(range(1, len(all_ligand_rf_paths) + 1)),\\n    all_ligand_rf_paths,\\n    \\\"Graph power\\\",\\n    \\\"Receptive field proportion\\\",\\n    show_spline=False,\\n)\";\n",
       "                var nbb_cells = Jupyter.notebook.get_cells();\n",
       "                for (var i = 0; i < nbb_cells.length; ++i) {\n",
       "                    if (nbb_cells[i].input_prompt_number == nbb_cell_id) {\n",
       "                        if (nbb_cells[i].get_text() == nbb_unformatted_code) {\n",
       "                             nbb_cells[i].set_text(nbb_formatted_code);\n",
       "                        }\n",
       "                        break;\n",
       "                    }\n",
       "                }\n",
       "            }, 500);\n",
       "            "
      ],
      "text/plain": [
       "<IPython.core.display.Javascript object>"
      ]
     },
     "metadata": {},
     "output_type": "display_data"
    }
   ],
   "source": [
    "plot_relationship(\n",
    "    list(range(1, len(all_ligand_rf_paths) + 1)),\n",
    "    all_ligand_rf_paths,\n",
    "    \"Graph power\",\n",
    "    \"Receptive field proportion\",\n",
    "    show_spline=False,\n",
    ")"
   ]
  },
  {
   "cell_type": "markdown",
   "metadata": {},
   "source": [
    "#### Proteins"
   ]
  },
  {
   "cell_type": "markdown",
   "metadata": {},
   "source": [
    "TBD"
   ]
  }
 ],
 "metadata": {
  "kernelspec": {
   "display_name": "Python 3",
   "language": "python",
   "name": "python3"
  },
  "language_info": {
   "codemirror_mode": {
    "name": "ipython",
    "version": 3
   },
   "file_extension": ".py",
   "mimetype": "text/x-python",
   "name": "python",
   "nbconvert_exporter": "python",
   "pygments_lexer": "ipython3",
   "version": "3.8.5"
  }
 },
 "nbformat": 4,
 "nbformat_minor": 4
}
