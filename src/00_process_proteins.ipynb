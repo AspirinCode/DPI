{
 "cells": [
  {
   "cell_type": "markdown",
   "metadata": {},
   "source": [
    "### Process proteins\n",
    "\n",
    "Process each of the DUD-E targets into the PyTorch `Data` objects saved to disk."
   ]
  },
  {
   "cell_type": "code",
   "execution_count": 2,
   "metadata": {},
   "outputs": [
    {
     "data": {
      "application/javascript": [
       "\n",
       "            setTimeout(function() {\n",
       "                var nbb_cell_id = 2;\n",
       "                var nbb_unformatted_code = \"import os\\nimport torch\\nimport pickle\\nimport numpy as np\\nimport pandas as pd\\nfrom scipy.spatial import cKDTree\\nfrom progressbar import progressbar\\nfrom biopandas.mol2 import PandasMol2\\nfrom torch_geometric.data import Data\";\n",
       "                var nbb_formatted_code = \"import os\\nimport torch\\nimport pickle\\nimport numpy as np\\nimport pandas as pd\\nfrom scipy.spatial import cKDTree\\nfrom progressbar import progressbar\\nfrom biopandas.mol2 import PandasMol2\\nfrom torch_geometric.data import Data\";\n",
       "                var nbb_cells = Jupyter.notebook.get_cells();\n",
       "                for (var i = 0; i < nbb_cells.length; ++i) {\n",
       "                    if (nbb_cells[i].input_prompt_number == nbb_cell_id) {\n",
       "                        if (nbb_cells[i].get_text() == nbb_unformatted_code) {\n",
       "                             nbb_cells[i].set_text(nbb_formatted_code);\n",
       "                        }\n",
       "                        break;\n",
       "                    }\n",
       "                }\n",
       "            }, 500);\n",
       "            "
      ],
      "text/plain": [
       "<IPython.core.display.Javascript object>"
      ]
     },
     "metadata": {},
     "output_type": "display_data"
    }
   ],
   "source": [
    "import os\n",
    "import torch\n",
    "import pickle\n",
    "import numpy as np\n",
    "import pandas as pd\n",
    "from scipy.spatial import cKDTree\n",
    "from progressbar import progressbar\n",
    "from biopandas.mol2 import PandasMol2\n",
    "from torch_geometric.data import Data"
   ]
  },
  {
   "cell_type": "code",
   "execution_count": 3,
   "metadata": {},
   "outputs": [
    {
     "data": {
      "application/javascript": [
       "\n",
       "            setTimeout(function() {\n",
       "                var nbb_cell_id = 3;\n",
       "                var nbb_unformatted_code = \"# We will write each of the target Data files to the\\n# \\\"raw\\\" directory.\\nif not os.path.exists(\\\"../data/raw\\\"):\\n    os.makedirs(\\\"../data/raw\\\")\";\n",
       "                var nbb_formatted_code = \"# We will write each of the target Data files to the\\n# \\\"raw\\\" directory.\\nif not os.path.exists(\\\"../data/raw\\\"):\\n    os.makedirs(\\\"../data/raw\\\")\";\n",
       "                var nbb_cells = Jupyter.notebook.get_cells();\n",
       "                for (var i = 0; i < nbb_cells.length; ++i) {\n",
       "                    if (nbb_cells[i].input_prompt_number == nbb_cell_id) {\n",
       "                        if (nbb_cells[i].get_text() == nbb_unformatted_code) {\n",
       "                             nbb_cells[i].set_text(nbb_formatted_code);\n",
       "                        }\n",
       "                        break;\n",
       "                    }\n",
       "                }\n",
       "            }, 500);\n",
       "            "
      ],
      "text/plain": [
       "<IPython.core.display.Javascript object>"
      ]
     },
     "metadata": {},
     "output_type": "display_data"
    }
   ],
   "source": [
    "# We will write each of the target Data files to the\n",
    "# \"raw\" directory.\n",
    "if not os.path.exists(\"../data/raw\"):\n",
    "    os.makedirs(\"../data/raw\")"
   ]
  },
  {
   "cell_type": "code",
   "execution_count": 4,
   "metadata": {},
   "outputs": [
    {
     "data": {
      "application/javascript": [
       "\n",
       "            setTimeout(function() {\n",
       "                var nbb_cell_id = 4;\n",
       "                var nbb_unformatted_code = \"# Load all of the DUD-E target names.\\nall_targets = pd.read_csv(\\\"../data/dud-e_targets.csv\\\").target_name.tolist()\\nall_targets = [target.lower() for target in all_targets]\";\n",
       "                var nbb_formatted_code = \"# Load all of the DUD-E target names.\\nall_targets = pd.read_csv(\\\"../data/dud-e_targets.csv\\\").target_name.tolist()\\nall_targets = [target.lower() for target in all_targets]\";\n",
       "                var nbb_cells = Jupyter.notebook.get_cells();\n",
       "                for (var i = 0; i < nbb_cells.length; ++i) {\n",
       "                    if (nbb_cells[i].input_prompt_number == nbb_cell_id) {\n",
       "                        if (nbb_cells[i].get_text() == nbb_unformatted_code) {\n",
       "                             nbb_cells[i].set_text(nbb_formatted_code);\n",
       "                        }\n",
       "                        break;\n",
       "                    }\n",
       "                }\n",
       "            }, 500);\n",
       "            "
      ],
      "text/plain": [
       "<IPython.core.display.Javascript object>"
      ]
     },
     "metadata": {},
     "output_type": "display_data"
    }
   ],
   "source": [
    "# Load all of the DUD-E target names.\n",
    "all_targets = pd.read_csv(\"../data/dud-e_targets.csv\").target_name.tolist()\n",
    "all_targets = [target.lower() for target in all_targets]"
   ]
  },
  {
   "cell_type": "markdown",
   "metadata": {},
   "source": [
    "#### Data quality checks"
   ]
  },
  {
   "cell_type": "code",
   "execution_count": 5,
   "metadata": {},
   "outputs": [
    {
     "data": {
      "application/javascript": [
       "\n",
       "            setTimeout(function() {\n",
       "                var nbb_cell_id = 5;\n",
       "                var nbb_unformatted_code = \"def read_in_file(target):\\n    \\\"\\\"\\\"Read in the target PDB into a list.\\\"\\\"\\\"\\n    with open(f\\\"../data/pdb/{target}.pdb\\\", \\\"r\\\") as f:\\n        return [entry.split() for entry in f.read().split(\\\"\\\\n\\\")][4:-3]\\n\\n\\ndef check_conect_e(target):\\n    \\\"\\\"\\\"Check if there is at least one bond recorded in the PDB.\\\"\\\"\\\"\\n    if not [entry for entry in read_in_file(target) if entry[0] == \\\"CONECT\\\"]:\\n        print(f\\\"{target} does not have bonds.\\\")\\n\\n\\ndef check_num_models(target):\\n    \\\"\\\"\\\"Check the number of models in the PDB.\\\"\\\"\\\"\\n    if len([entry for entry in read_in_file(target) if entry[0] == \\\"MODEL\\\"]) > 1:\\n        print(f\\\"{target} has more than one model.\\\")\";\n",
       "                var nbb_formatted_code = \"def read_in_file(target):\\n    \\\"\\\"\\\"Read in the target PDB into a list.\\\"\\\"\\\"\\n    with open(f\\\"../data/pdb/{target}.pdb\\\", \\\"r\\\") as f:\\n        return [entry.split() for entry in f.read().split(\\\"\\\\n\\\")][4:-3]\\n\\n\\ndef check_conect_e(target):\\n    \\\"\\\"\\\"Check if there is at least one bond recorded in the PDB.\\\"\\\"\\\"\\n    if not [entry for entry in read_in_file(target) if entry[0] == \\\"CONECT\\\"]:\\n        print(f\\\"{target} does not have bonds.\\\")\\n\\n\\ndef check_num_models(target):\\n    \\\"\\\"\\\"Check the number of models in the PDB.\\\"\\\"\\\"\\n    if len([entry for entry in read_in_file(target) if entry[0] == \\\"MODEL\\\"]) > 1:\\n        print(f\\\"{target} has more than one model.\\\")\";\n",
       "                var nbb_cells = Jupyter.notebook.get_cells();\n",
       "                for (var i = 0; i < nbb_cells.length; ++i) {\n",
       "                    if (nbb_cells[i].input_prompt_number == nbb_cell_id) {\n",
       "                        if (nbb_cells[i].get_text() == nbb_unformatted_code) {\n",
       "                             nbb_cells[i].set_text(nbb_formatted_code);\n",
       "                        }\n",
       "                        break;\n",
       "                    }\n",
       "                }\n",
       "            }, 500);\n",
       "            "
      ],
      "text/plain": [
       "<IPython.core.display.Javascript object>"
      ]
     },
     "metadata": {},
     "output_type": "display_data"
    }
   ],
   "source": [
    "def read_in_file(target):\n",
    "    \"\"\"Read in the target PDB into a list.\"\"\"\n",
    "    with open(f\"../data/pdb/{target}.pdb\", \"r\") as f:\n",
    "        return [entry.split() for entry in f.read().split(\"\\n\")][4:-3]\n",
    "\n",
    "\n",
    "def check_conect_e(target):\n",
    "    \"\"\"Check if there is at least one bond recorded in the PDB.\"\"\"\n",
    "    if not [entry for entry in read_in_file(target) if entry[0] == \"CONECT\"]:\n",
    "        print(f\"{target} does not have bonds.\")\n",
    "\n",
    "\n",
    "def check_num_models(target):\n",
    "    \"\"\"Check the number of models in the PDB.\"\"\"\n",
    "    if len([entry for entry in read_in_file(target) if entry[0] == \"MODEL\"]) > 1:\n",
    "        print(f\"{target} has more than one model.\")"
   ]
  },
  {
   "cell_type": "code",
   "execution_count": 6,
   "metadata": {},
   "outputs": [
    {
     "name": "stdout",
     "output_type": "stream",
     "text": [
      "aa2ar does not have bonds.\n",
      "drd3 does not have bonds.\n"
     ]
    },
    {
     "data": {
      "application/javascript": [
       "\n",
       "            setTimeout(function() {\n",
       "                var nbb_cell_id = 6;\n",
       "                var nbb_unformatted_code = \"for target in all_targets:\\n    check_conect_e(target)\\n    check_num_models(target)\";\n",
       "                var nbb_formatted_code = \"for target in all_targets:\\n    check_conect_e(target)\\n    check_num_models(target)\";\n",
       "                var nbb_cells = Jupyter.notebook.get_cells();\n",
       "                for (var i = 0; i < nbb_cells.length; ++i) {\n",
       "                    if (nbb_cells[i].input_prompt_number == nbb_cell_id) {\n",
       "                        if (nbb_cells[i].get_text() == nbb_unformatted_code) {\n",
       "                             nbb_cells[i].set_text(nbb_formatted_code);\n",
       "                        }\n",
       "                        break;\n",
       "                    }\n",
       "                }\n",
       "            }, 500);\n",
       "            "
      ],
      "text/plain": [
       "<IPython.core.display.Javascript object>"
      ]
     },
     "metadata": {},
     "output_type": "display_data"
    }
   ],
   "source": [
    "for target in all_targets:\n",
    "    check_conect_e(target)\n",
    "    check_num_models(target)"
   ]
  },
  {
   "cell_type": "markdown",
   "metadata": {},
   "source": [
    "Since we are not using the original `CONECT` records to determine bonds, we will\n",
    "not remove these two proteins from the `all_targets` list."
   ]
  },
  {
   "cell_type": "markdown",
   "metadata": {},
   "source": [
    "#### Atom and residue mappings\n",
    "\n",
    "Here, we create the mapping between atom and residue names, and integers.\n",
    "We need to encode these names before saving proteins in the `Data` format."
   ]
  },
  {
   "cell_type": "code",
   "execution_count": 7,
   "metadata": {},
   "outputs": [
    {
     "data": {
      "application/javascript": [
       "\n",
       "            setTimeout(function() {\n",
       "                var nbb_cell_id = 7;\n",
       "                var nbb_unformatted_code = \"def read_in_file(target):\\n    \\\"\\\"\\\"Get the atom and residue names in the target PDB.\\\"\\\"\\\"\\n    with open(f\\\"../data/pdb/{target}.pdb\\\", \\\"r\\\") as f:\\n        pdb_text = [entry.split() for entry in f.read().split(\\\"\\\\n\\\")][5:-3]\\n        atoms = [entry[3:] for entry in pdb_text if entry[0] == \\\"ATOM\\\"]\\n    return [entry[0] for entry in atoms], [entry[-1] for entry in atoms]\";\n",
       "                var nbb_formatted_code = \"def read_in_file(target):\\n    \\\"\\\"\\\"Get the atom and residue names in the target PDB.\\\"\\\"\\\"\\n    with open(f\\\"../data/pdb/{target}.pdb\\\", \\\"r\\\") as f:\\n        pdb_text = [entry.split() for entry in f.read().split(\\\"\\\\n\\\")][5:-3]\\n        atoms = [entry[3:] for entry in pdb_text if entry[0] == \\\"ATOM\\\"]\\n    return [entry[0] for entry in atoms], [entry[-1] for entry in atoms]\";\n",
       "                var nbb_cells = Jupyter.notebook.get_cells();\n",
       "                for (var i = 0; i < nbb_cells.length; ++i) {\n",
       "                    if (nbb_cells[i].input_prompt_number == nbb_cell_id) {\n",
       "                        if (nbb_cells[i].get_text() == nbb_unformatted_code) {\n",
       "                             nbb_cells[i].set_text(nbb_formatted_code);\n",
       "                        }\n",
       "                        break;\n",
       "                    }\n",
       "                }\n",
       "            }, 500);\n",
       "            "
      ],
      "text/plain": [
       "<IPython.core.display.Javascript object>"
      ]
     },
     "metadata": {},
     "output_type": "display_data"
    }
   ],
   "source": [
    "def read_in_file(target):\n",
    "    \"\"\"Get the atom and residue names in the target PDB.\"\"\"\n",
    "    with open(f\"../data/pdb/{target}.pdb\", \"r\") as f:\n",
    "        pdb_text = [entry.split() for entry in f.read().split(\"\\n\")][5:-3]\n",
    "        atoms = [entry[3:] for entry in pdb_text if entry[0] == \"ATOM\"]\n",
    "    return [entry[0] for entry in atoms], [entry[-1] for entry in atoms]"
   ]
  },
  {
   "cell_type": "code",
   "execution_count": 8,
   "metadata": {},
   "outputs": [
    {
     "data": {
      "application/javascript": [
       "\n",
       "            setTimeout(function() {\n",
       "                var nbb_cell_id = 8;\n",
       "                var nbb_unformatted_code = \"# Create a list of all the atom and residue names\\n# in all targets.\\nall_residues = []\\nall_atoms = []\\nfor target in all_targets:\\n    target_text = read_in_file(target)\\n    all_residues += target_text[0]\\n    all_atoms += target_text[1]\\n\\nall_residues = sorted(np.unique(all_residues).tolist())\\nall_atoms = sorted(np.unique(all_atoms).tolist())\";\n",
       "                var nbb_formatted_code = \"# Create a list of all the atom and residue names\\n# in all targets.\\nall_residues = []\\nall_atoms = []\\nfor target in all_targets:\\n    target_text = read_in_file(target)\\n    all_residues += target_text[0]\\n    all_atoms += target_text[1]\\n\\nall_residues = sorted(np.unique(all_residues).tolist())\\nall_atoms = sorted(np.unique(all_atoms).tolist())\";\n",
       "                var nbb_cells = Jupyter.notebook.get_cells();\n",
       "                for (var i = 0; i < nbb_cells.length; ++i) {\n",
       "                    if (nbb_cells[i].input_prompt_number == nbb_cell_id) {\n",
       "                        if (nbb_cells[i].get_text() == nbb_unformatted_code) {\n",
       "                             nbb_cells[i].set_text(nbb_formatted_code);\n",
       "                        }\n",
       "                        break;\n",
       "                    }\n",
       "                }\n",
       "            }, 500);\n",
       "            "
      ],
      "text/plain": [
       "<IPython.core.display.Javascript object>"
      ]
     },
     "metadata": {},
     "output_type": "display_data"
    }
   ],
   "source": [
    "# Create a list of all the atom and residue names\n",
    "# in all targets.\n",
    "all_residues = []\n",
    "all_atoms = []\n",
    "for target in all_targets:\n",
    "    target_text = read_in_file(target)\n",
    "    all_residues += target_text[0]\n",
    "    all_atoms += target_text[1]\n",
    "\n",
    "all_residues = sorted(np.unique(all_residues).tolist())\n",
    "all_atoms = sorted(np.unique(all_atoms).tolist())"
   ]
  },
  {
   "cell_type": "code",
   "execution_count": 9,
   "metadata": {},
   "outputs": [
    {
     "data": {
      "application/javascript": [
       "\n",
       "            setTimeout(function() {\n",
       "                var nbb_cell_id = 9;\n",
       "                var nbb_unformatted_code = \"# Create mapping dictionaries out of these lists.\\nresidue_mapping = dict(zip(all_residues, range(1, len(all_residues) + 1)))\\natom_mapping = dict(zip(all_atoms, range(1, len(all_atoms) + 1)))\";\n",
       "                var nbb_formatted_code = \"# Create mapping dictionaries out of these lists.\\nresidue_mapping = dict(zip(all_residues, range(1, len(all_residues) + 1)))\\natom_mapping = dict(zip(all_atoms, range(1, len(all_atoms) + 1)))\";\n",
       "                var nbb_cells = Jupyter.notebook.get_cells();\n",
       "                for (var i = 0; i < nbb_cells.length; ++i) {\n",
       "                    if (nbb_cells[i].input_prompt_number == nbb_cell_id) {\n",
       "                        if (nbb_cells[i].get_text() == nbb_unformatted_code) {\n",
       "                             nbb_cells[i].set_text(nbb_formatted_code);\n",
       "                        }\n",
       "                        break;\n",
       "                    }\n",
       "                }\n",
       "            }, 500);\n",
       "            "
      ],
      "text/plain": [
       "<IPython.core.display.Javascript object>"
      ]
     },
     "metadata": {},
     "output_type": "display_data"
    }
   ],
   "source": [
    "# Create mapping dictionaries out of these lists.\n",
    "residue_mapping = dict(zip(all_residues, range(1, len(all_residues) + 1)))\n",
    "atom_mapping = dict(zip(all_atoms, range(1, len(all_atoms) + 1)))"
   ]
  },
  {
   "cell_type": "markdown",
   "metadata": {},
   "source": [
    "#### Process proteins"
   ]
  },
  {
   "cell_type": "markdown",
   "metadata": {},
   "source": [
    "##### Bond-related methods"
   ]
  },
  {
   "cell_type": "code",
   "execution_count": 10,
   "metadata": {},
   "outputs": [
    {
     "data": {
      "application/javascript": [
       "\n",
       "            setTimeout(function() {\n",
       "                var nbb_cell_id = 10;\n",
       "                var nbb_unformatted_code = \"def get_bonds_cutoff(atom_coords, bond_cutoff, leafsize=32):\\n    \\\"\\\"\\\"Get bond list using the proximity-based method.\\\"\\\"\\\"\\n    # Create a KD tree out of the atoms - this will help\\n    # find an atom's nearest neighbors efficiently.\\n    KD_tree = cKDTree(atom_coords, leafsize=leafsize)\\n    processed_bonds = []\\n    # For each atom, find its neighbors within the cutoff,\\n    # and add the associated \\\"bonds\\\" to processed_bonds.\\n    for atom_index in range(atom_coords.shape[0]):\\n        index_atom_atom_coords = atom_coords[atom_index, :]\\n        neighbor_indices = KD_tree.query_ball_point(index_atom_atom_coords, bond_cutoff)\\n        # Remove the index of the current atom from the\\n        # neighbors list, to avoid inducing self-loops.\\n        neighbor_indices.remove(atom_index)\\n        # Add both \\\"directions\\\" of the bond to the list.\\n        processed_bonds += [\\n            [atom_index, neighbor_index] for neighbor_index in neighbor_indices\\n        ]\\n        processed_bonds += [\\n            [neighbor_index, atom_index] for neighbor_index in neighbor_indices\\n        ]\\n    return processed_bonds\\n\\n\\ndef get_bonds_power(num_atoms, chemical_bonds, graph_power):\\n    \\\"\\\"\\\"Get bond list using the graph power method.\\\"\\\"\\\"\\n    # We will append the bonds induced by graph power to\\n    # the processed_bonds list, instead of appending them to\\n    # chemical_bonds directly - that would result in mistakes.\\n    processed_bonds = chemical_bonds.copy()\\n    # Create a dictionary which maps each atom index to a list\\n    # with the indices of all of its neighbors.\\n    chemical_bonds_dict = dict()\\n    for i in range(len(chemical_bonds)):\\n        try:\\n            chemical_bonds_dict[chemical_bonds[i][0]].append(chemical_bonds[i][1])\\n        except:\\n            chemical_bonds_dict[chemical_bonds[i][0]] = [chemical_bonds[i][1]]\\n\\n    # For each atom, find its neighbors to the `graph_power`-th graph power.\\n    for atom_index in range(num_atoms):\\n        all_neighbors = []\\n        # First, we explore the neighbors of the atom's immediate\\n        # neighbors as the second graph-power neighbors. Next, we consider\\n        # their neighbors, and so on.\\n        neighbors_to_explore = chemical_bonds_dict[atom_index]\\n        for power in range(1, graph_power + 1):\\n            new_neighbors = set()\\n            for neighbor_atom_index in neighbors_to_explore:\\n                new_neighbors.update(chemical_bonds_dict[neighbor_atom_index])\\n            # Store the `power`-th graph power atom neighbors in the list.\\n            all_neighbors += neighbors_to_explore\\n            # Their neighbors are now the new neighbors to explore.\\n            neighbors_to_explore = list(new_neighbors)\\n            new_neighbors = set()\\n        all_neighbors = list(set(all_neighbors))\\n        # Add the associated bonds to the bonds list.\\n        processed_bonds += [\\n            [atom_index, neighbor_index] for neighbor_index in all_neighbors\\n        ]\\n    return processed_bonds\\n\\n\\ndef process_bonds(bonds):\\n    \\\"\\\"\\\"Get bonds list from processed CONECT record list.\\\"\\\"\\\"\\n    processed_bonds = []\\n    for i in range(len(bonds)):\\n        for j in range(1, len(bonds[i])):\\n            # Add both \\\"directions\\\" of the bond to the list, if\\n            # they do not already exist in it.\\n            if [bonds[i][0], bonds[i][j]] not in processed_bonds:\\n                processed_bonds.append([bonds[i][0], bonds[i][j]])\\n            if [bonds[i][j], bonds[i][0]] not in processed_bonds:\\n                processed_bonds.append([bonds[i][j], bonds[i][0]])\\n    return processed_bonds\\n\\n\\ndef get_edge_distances(processed_bonds, coords):\\n    \\\"\\\"\\\"Get L2 distance between each bond in processed bond list.\\\"\\\"\\\"\\n\\n    def get_distance(atom_a, atom_b):\\n        return np.linalg.norm(coords[atom_a, :] - coords[atom_b, :])\\n\\n    edge_distances = []\\n    for i in range(len(processed_bonds)):\\n        edge_distances.append([get_distance(*processed_bonds[i])])\\n    return edge_distances\\n\\n\\ndef get_edge_list(processed_bonds):\\n    \\\"\\\"\\\"Convert processed bond list to edge list.\\\"\\\"\\\"\\n    return np.hsplit(np.array(processed_bonds).transpose(), 1)[0]\";\n",
       "                var nbb_formatted_code = \"def get_bonds_cutoff(atom_coords, bond_cutoff, leafsize=32):\\n    \\\"\\\"\\\"Get bond list using the proximity-based method.\\\"\\\"\\\"\\n    # Create a KD tree out of the atoms - this will help\\n    # find an atom's nearest neighbors efficiently.\\n    KD_tree = cKDTree(atom_coords, leafsize=leafsize)\\n    processed_bonds = []\\n    # For each atom, find its neighbors within the cutoff,\\n    # and add the associated \\\"bonds\\\" to processed_bonds.\\n    for atom_index in range(atom_coords.shape[0]):\\n        index_atom_atom_coords = atom_coords[atom_index, :]\\n        neighbor_indices = KD_tree.query_ball_point(index_atom_atom_coords, bond_cutoff)\\n        # Remove the index of the current atom from the\\n        # neighbors list, to avoid inducing self-loops.\\n        neighbor_indices.remove(atom_index)\\n        # Add both \\\"directions\\\" of the bond to the list.\\n        processed_bonds += [\\n            [atom_index, neighbor_index] for neighbor_index in neighbor_indices\\n        ]\\n        processed_bonds += [\\n            [neighbor_index, atom_index] for neighbor_index in neighbor_indices\\n        ]\\n    return processed_bonds\\n\\n\\ndef get_bonds_power(num_atoms, chemical_bonds, graph_power):\\n    \\\"\\\"\\\"Get bond list using the graph power method.\\\"\\\"\\\"\\n    # We will append the bonds induced by graph power to\\n    # the processed_bonds list, instead of appending them to\\n    # chemical_bonds directly - that would result in mistakes.\\n    processed_bonds = chemical_bonds.copy()\\n    # Create a dictionary which maps each atom index to a list\\n    # with the indices of all of its neighbors.\\n    chemical_bonds_dict = dict()\\n    for i in range(len(chemical_bonds)):\\n        try:\\n            chemical_bonds_dict[chemical_bonds[i][0]].append(chemical_bonds[i][1])\\n        except:\\n            chemical_bonds_dict[chemical_bonds[i][0]] = [chemical_bonds[i][1]]\\n\\n    # For each atom, find its neighbors to the `graph_power`-th graph power.\\n    for atom_index in range(num_atoms):\\n        all_neighbors = []\\n        # First, we explore the neighbors of the atom's immediate\\n        # neighbors as the second graph-power neighbors. Next, we consider\\n        # their neighbors, and so on.\\n        neighbors_to_explore = chemical_bonds_dict[atom_index]\\n        for power in range(1, graph_power + 1):\\n            new_neighbors = set()\\n            for neighbor_atom_index in neighbors_to_explore:\\n                new_neighbors.update(chemical_bonds_dict[neighbor_atom_index])\\n            # Store the `power`-th graph power atom neighbors in the list.\\n            all_neighbors += neighbors_to_explore\\n            # Their neighbors are now the new neighbors to explore.\\n            neighbors_to_explore = list(new_neighbors)\\n            new_neighbors = set()\\n        all_neighbors = list(set(all_neighbors))\\n        # Add the associated bonds to the bonds list.\\n        processed_bonds += [\\n            [atom_index, neighbor_index] for neighbor_index in all_neighbors\\n        ]\\n    return processed_bonds\\n\\n\\ndef process_bonds(bonds):\\n    \\\"\\\"\\\"Get bonds list from processed CONECT record list.\\\"\\\"\\\"\\n    processed_bonds = []\\n    for i in range(len(bonds)):\\n        for j in range(1, len(bonds[i])):\\n            # Add both \\\"directions\\\" of the bond to the list, if\\n            # they do not already exist in it.\\n            if [bonds[i][0], bonds[i][j]] not in processed_bonds:\\n                processed_bonds.append([bonds[i][0], bonds[i][j]])\\n            if [bonds[i][j], bonds[i][0]] not in processed_bonds:\\n                processed_bonds.append([bonds[i][j], bonds[i][0]])\\n    return processed_bonds\\n\\n\\ndef get_edge_distances(processed_bonds, coords):\\n    \\\"\\\"\\\"Get L2 distance between each bond in processed bond list.\\\"\\\"\\\"\\n\\n    def get_distance(atom_a, atom_b):\\n        return np.linalg.norm(coords[atom_a, :] - coords[atom_b, :])\\n\\n    edge_distances = []\\n    for i in range(len(processed_bonds)):\\n        edge_distances.append([get_distance(*processed_bonds[i])])\\n    return edge_distances\\n\\n\\ndef get_edge_list(processed_bonds):\\n    \\\"\\\"\\\"Convert processed bond list to edge list.\\\"\\\"\\\"\\n    return np.hsplit(np.array(processed_bonds).transpose(), 1)[0]\";\n",
       "                var nbb_cells = Jupyter.notebook.get_cells();\n",
       "                for (var i = 0; i < nbb_cells.length; ++i) {\n",
       "                    if (nbb_cells[i].input_prompt_number == nbb_cell_id) {\n",
       "                        if (nbb_cells[i].get_text() == nbb_unformatted_code) {\n",
       "                             nbb_cells[i].set_text(nbb_formatted_code);\n",
       "                        }\n",
       "                        break;\n",
       "                    }\n",
       "                }\n",
       "            }, 500);\n",
       "            "
      ],
      "text/plain": [
       "<IPython.core.display.Javascript object>"
      ]
     },
     "metadata": {},
     "output_type": "display_data"
    }
   ],
   "source": [
    "def get_bonds_cutoff(atom_coords, bond_cutoff, leafsize=32):\n",
    "    \"\"\"Get bond list using the proximity-based method.\"\"\"\n",
    "    # Create a KD tree out of the atoms - this will help\n",
    "    # find an atom's nearest neighbors efficiently.\n",
    "    KD_tree = cKDTree(atom_coords, leafsize=leafsize)\n",
    "    processed_bonds = []\n",
    "    # For each atom, find its neighbors within the cutoff,\n",
    "    # and add the associated \"bonds\" to processed_bonds.\n",
    "    for atom_index in range(atom_coords.shape[0]):\n",
    "        index_atom_atom_coords = atom_coords[atom_index, :]\n",
    "        neighbor_indices = KD_tree.query_ball_point(index_atom_atom_coords, bond_cutoff)\n",
    "        # Remove the index of the current atom from the\n",
    "        # neighbors list, to avoid inducing self-loops.\n",
    "        neighbor_indices.remove(atom_index)\n",
    "        # Add both \"directions\" of the bond to the list.\n",
    "        processed_bonds += [\n",
    "            [atom_index, neighbor_index] for neighbor_index in neighbor_indices\n",
    "        ]\n",
    "        processed_bonds += [\n",
    "            [neighbor_index, atom_index] for neighbor_index in neighbor_indices\n",
    "        ]\n",
    "    return processed_bonds\n",
    "\n",
    "\n",
    "def get_bonds_power(num_atoms, chemical_bonds, graph_power):\n",
    "    \"\"\"Get bond list using the graph power method.\"\"\"\n",
    "    # We will append the bonds induced by graph power to\n",
    "    # the processed_bonds list, instead of appending them to\n",
    "    # chemical_bonds directly - that would result in mistakes.\n",
    "    processed_bonds = chemical_bonds.copy()\n",
    "    # Create a dictionary which maps each atom index to a list\n",
    "    # with the indices of all of its neighbors.\n",
    "    chemical_bonds_dict = dict()\n",
    "    for i in range(len(chemical_bonds)):\n",
    "        try:\n",
    "            chemical_bonds_dict[chemical_bonds[i][0]].append(chemical_bonds[i][1])\n",
    "        except:\n",
    "            chemical_bonds_dict[chemical_bonds[i][0]] = [chemical_bonds[i][1]]\n",
    "\n",
    "    # For each atom, find its neighbors to the `graph_power`-th graph power.\n",
    "    for atom_index in range(num_atoms):\n",
    "        all_neighbors = []\n",
    "        # First, we explore the neighbors of the atom's immediate\n",
    "        # neighbors as the second graph-power neighbors. Next, we consider\n",
    "        # their neighbors, and so on.\n",
    "        neighbors_to_explore = chemical_bonds_dict[atom_index]\n",
    "        for power in range(1, graph_power + 1):\n",
    "            new_neighbors = set()\n",
    "            for neighbor_atom_index in neighbors_to_explore:\n",
    "                new_neighbors.update(chemical_bonds_dict[neighbor_atom_index])\n",
    "            # Store the `power`-th graph power atom neighbors in the list.\n",
    "            all_neighbors += neighbors_to_explore\n",
    "            # Their neighbors are now the new neighbors to explore.\n",
    "            neighbors_to_explore = list(new_neighbors)\n",
    "            new_neighbors = set()\n",
    "        all_neighbors = list(set(all_neighbors))\n",
    "        try:\n",
    "            all_neighbors.remove(atom_index)\n",
    "        # Add the associated bonds to the bonds list.\n",
    "        processed_bonds += [\n",
    "            [atom_index, neighbor_index] for neighbor_index in all_neighbors\n",
    "        ]\n",
    "    return processed_bonds\n",
    "\n",
    "\n",
    "def process_bonds(bonds):\n",
    "    \"\"\"Get bonds list from processed CONECT record list.\"\"\"\n",
    "    processed_bonds = []\n",
    "    for i in range(len(bonds)):\n",
    "        for j in range(1, len(bonds[i])):\n",
    "            # Add both \"directions\" of the bond to the list, if\n",
    "            # they do not already exist in it.\n",
    "            if [bonds[i][0], bonds[i][j]] not in processed_bonds:\n",
    "                processed_bonds.append([bonds[i][0], bonds[i][j]])\n",
    "            if [bonds[i][j], bonds[i][0]] not in processed_bonds:\n",
    "                processed_bonds.append([bonds[i][j], bonds[i][0]])\n",
    "    return processed_bonds\n",
    "\n",
    "\n",
    "def get_edge_distances(processed_bonds, coords):\n",
    "    \"\"\"Get L2 distance between each bond in processed bond list.\"\"\"\n",
    "\n",
    "    def get_distance(atom_a, atom_b):\n",
    "        return np.linalg.norm(coords[atom_a, :] - coords[atom_b, :])\n",
    "\n",
    "    edge_distances = []\n",
    "    for i in range(len(processed_bonds)):\n",
    "        edge_distances.append([get_distance(*processed_bonds[i])])\n",
    "    return edge_distances\n",
    "\n",
    "\n",
    "def get_edge_list(processed_bonds):\n",
    "    \"\"\"Convert processed bond list to edge list.\"\"\"\n",
    "    return np.hsplit(np.array(processed_bonds).transpose(), 1)[0]"
   ]
  },
  {
   "cell_type": "markdown",
   "metadata": {},
   "source": [
    "##### Reduction-related methods"
   ]
  },
  {
   "cell_type": "code",
   "execution_count": 11,
   "metadata": {},
   "outputs": [
    {
     "data": {
      "application/javascript": [
       "\n",
       "            setTimeout(function() {\n",
       "                var nbb_cell_id = 11;\n",
       "                var nbb_unformatted_code = \"def get_ligand_coords(target):\\n    \\\"\\\"\\\"Get the coordinates of the crystal ligand.\\\"\\\"\\\"\\n    # Read in the DataFrame of the ligand, and return the\\n    # coordinates as a numpy array.\\n    ligand = PandasMol2().read_mol2(f\\\"../data/unproc/{target}/crystal_ligand.mol2\\\").df\\n    return ligand.iloc[:, 2:5].to_numpy()\\n\\n\\ndef get_pocket_indices(target, target_coords, protein_cutoff):\\n    \\\"\\\"\\\"Get the indices of target atoms that are within its pocket.\\\"\\\"\\\"\\n    ligand_centroid = get_ligand_coords(target).mean(0)\\n    dist_from_centroid = lambda target_atom_coords: np.linalg.norm(\\n        target_atom_coords - ligand_centroid\\n    )\\n    target_atom_dists = np.apply_along_axis(dist_from_centroid, 1, target_coords)\\n    # Return the indices of the target atoms that are less than\\n    # the cutoff away from the centroid of the crystal ligand.\\n    return np.where(target_atom_dists <= protein_cutoff)[0], ligand_centroid\\n\\n\\ndef filter_bonds(bonds, pocket_indices):\\n    \\\"\\\"\\\"Get the bond list of bonds between atoms in the target's pocket.\\\"\\\"\\\"\\n    # Keep only the bonds in the processed bonds list that are in the\\n    # target's pocket.\\n    filtered_bonds = [\\n        entry\\n        for entry in bonds\\n        if entry[0] in pocket_indices and entry[1] in pocket_indices\\n    ]\\n    # Remap the entry indices to be between 0-number of atoms remaining,\\n    # to correspond to their positions in the coordinates array.\\n    index_mapping = dict(zip(pocket_indices, range(len(pocket_indices))))\\n    return [\\n        [index_mapping[entry[0]], index_mapping[entry[1]]] for entry in filtered_bonds\\n    ]\";\n",
       "                var nbb_formatted_code = \"def get_ligand_coords(target):\\n    \\\"\\\"\\\"Get the coordinates of the crystal ligand.\\\"\\\"\\\"\\n    # Read in the DataFrame of the ligand, and return the\\n    # coordinates as a numpy array.\\n    ligand = PandasMol2().read_mol2(f\\\"../data/unproc/{target}/crystal_ligand.mol2\\\").df\\n    return ligand.iloc[:, 2:5].to_numpy()\\n\\n\\ndef get_pocket_indices(target, target_coords, protein_cutoff):\\n    \\\"\\\"\\\"Get the indices of target atoms that are within its pocket.\\\"\\\"\\\"\\n    ligand_centroid = get_ligand_coords(target).mean(0)\\n    dist_from_centroid = lambda target_atom_coords: np.linalg.norm(\\n        target_atom_coords - ligand_centroid\\n    )\\n    target_atom_dists = np.apply_along_axis(dist_from_centroid, 1, target_coords)\\n    # Return the indices of the target atoms that are less than\\n    # the cutoff away from the centroid of the crystal ligand.\\n    return np.where(target_atom_dists <= protein_cutoff)[0], ligand_centroid\\n\\n\\ndef filter_bonds(bonds, pocket_indices):\\n    \\\"\\\"\\\"Get the bond list of bonds between atoms in the target's pocket.\\\"\\\"\\\"\\n    # Keep only the bonds in the processed bonds list that are in the\\n    # target's pocket.\\n    filtered_bonds = [\\n        entry\\n        for entry in bonds\\n        if entry[0] in pocket_indices and entry[1] in pocket_indices\\n    ]\\n    # Remap the entry indices to be between 0-number of atoms remaining,\\n    # to correspond to their positions in the coordinates array.\\n    index_mapping = dict(zip(pocket_indices, range(len(pocket_indices))))\\n    return [\\n        [index_mapping[entry[0]], index_mapping[entry[1]]] for entry in filtered_bonds\\n    ]\";\n",
       "                var nbb_cells = Jupyter.notebook.get_cells();\n",
       "                for (var i = 0; i < nbb_cells.length; ++i) {\n",
       "                    if (nbb_cells[i].input_prompt_number == nbb_cell_id) {\n",
       "                        if (nbb_cells[i].get_text() == nbb_unformatted_code) {\n",
       "                             nbb_cells[i].set_text(nbb_formatted_code);\n",
       "                        }\n",
       "                        break;\n",
       "                    }\n",
       "                }\n",
       "            }, 500);\n",
       "            "
      ],
      "text/plain": [
       "<IPython.core.display.Javascript object>"
      ]
     },
     "metadata": {},
     "output_type": "display_data"
    }
   ],
   "source": [
    "def get_ligand_coords(target):\n",
    "    \"\"\"Get the coordinates of the crystal ligand.\"\"\"\n",
    "    # Read in the DataFrame of the ligand, and return the\n",
    "    # coordinates as a numpy array.\n",
    "    ligand = PandasMol2().read_mol2(f\"../data/unproc/{target}/crystal_ligand.mol2\").df\n",
    "    return ligand.iloc[:, 2:5].to_numpy()\n",
    "\n",
    "\n",
    "def get_pocket_indices(target, target_coords, protein_cutoff):\n",
    "    \"\"\"Get the indices of target atoms that are within its pocket.\"\"\"\n",
    "    ligand_centroid = get_ligand_coords(target).mean(0)\n",
    "    dist_from_centroid = lambda target_atom_coords: np.linalg.norm(\n",
    "        target_atom_coords - ligand_centroid\n",
    "    )\n",
    "    target_atom_dists = np.apply_along_axis(dist_from_centroid, 1, target_coords)\n",
    "    # Return the indices of the target atoms that are less than\n",
    "    # the cutoff away from the centroid of the crystal ligand.\n",
    "    return np.where(target_atom_dists <= protein_cutoff)[0], ligand_centroid\n",
    "\n",
    "\n",
    "def filter_bonds(bonds, pocket_indices):\n",
    "    \"\"\"Get the bond list of bonds between atoms in the target's pocket.\"\"\"\n",
    "    # Keep only the bonds in the processed bonds list that are in the\n",
    "    # target's pocket.\n",
    "    filtered_bonds = [\n",
    "        entry\n",
    "        for entry in bonds\n",
    "        if entry[0] in pocket_indices and entry[1] in pocket_indices\n",
    "    ]\n",
    "    # Remap the entry indices to be between 0-number of atoms remaining,\n",
    "    # to correspond to their positions in the coordinates array.\n",
    "    index_mapping = dict(zip(pocket_indices, range(len(pocket_indices))))\n",
    "    return [\n",
    "        [index_mapping[entry[0]], index_mapping[entry[1]]] for entry in filtered_bonds\n",
    "    ]"
   ]
  },
  {
   "cell_type": "code",
   "execution_count": 12,
   "metadata": {},
   "outputs": [
    {
     "data": {
      "application/javascript": [
       "\n",
       "            setTimeout(function() {\n",
       "                var nbb_cell_id = 12;\n",
       "                var nbb_unformatted_code = \"def get_dist_from_ligand_centroid(ligand_centroid, atom_coords, atom_index):\\n    return np.linalg.norm(ligand_centroid - atom_coords[atom_index, :])\";\n",
       "                var nbb_formatted_code = \"def get_dist_from_ligand_centroid(ligand_centroid, atom_coords, atom_index):\\n    return np.linalg.norm(ligand_centroid - atom_coords[atom_index, :])\";\n",
       "                var nbb_cells = Jupyter.notebook.get_cells();\n",
       "                for (var i = 0; i < nbb_cells.length; ++i) {\n",
       "                    if (nbb_cells[i].input_prompt_number == nbb_cell_id) {\n",
       "                        if (nbb_cells[i].get_text() == nbb_unformatted_code) {\n",
       "                             nbb_cells[i].set_text(nbb_formatted_code);\n",
       "                        }\n",
       "                        break;\n",
       "                    }\n",
       "                }\n",
       "            }, 500);\n",
       "            "
      ],
      "text/plain": [
       "<IPython.core.display.Javascript object>"
      ]
     },
     "metadata": {},
     "output_type": "display_data"
    }
   ],
   "source": [
    "def get_dist_from_ligand_centroid(ligand_centroid, atom_coords, atom_index):\n",
    "    return np.linalg.norm(ligand_centroid - atom_coords[atom_index, :])"
   ]
  },
  {
   "cell_type": "markdown",
   "metadata": {},
   "source": [
    "##### Putting it all together"
   ]
  },
  {
   "cell_type": "code",
   "execution_count": 13,
   "metadata": {},
   "outputs": [
    {
     "data": {
      "application/javascript": [
       "\n",
       "            setTimeout(function() {\n",
       "                var nbb_cell_id = 13;\n",
       "                var nbb_unformatted_code = \"def process_target(target, bond_mode, protein_cutoff, bond_cutoff, graph_power):\\n    \\\"\\\"\\\"Get a Data object after processing the target's PDB.\\\"\\\"\\\"\\n    # Open the target's PDB file and read in the lines in a list.\\n    with open(f\\\"../data/pdb/{target}.pdb\\\", \\\"r\\\") as f:\\n        pdb_text = [entry.split() for entry in f.read().split(\\\"\\\\n\\\")][5:-3]\\n    # Keep details on target atom elements and coordinates.\\n    atoms = np.array([entry[3:] for entry in pdb_text if entry[0] == \\\"ATOM\\\"])[\\n        :, [0, 2, 3, 4, 7]\\n    ]\\n    # Three atom attributes will be used, residue type, atom element type,\\n    # and distance from crystal ligand centroid. The third attribute will\\n    # be appended to this list after pocket indices are calculated.\\n    atom_attribs = atoms[:, [0, -1]]\\n    atom_attribs = [\\n        [residue_mapping[entry[0]], atom_mapping[entry[1]]]\\n        for entry in atom_attribs.tolist()\\n    ]\\n    atom_coords = np.array(atoms[:, [1, 2, 3]]).astype(float)\\n    # Get the bond list according to the bond_mode.\\n    if bond_mode in [\\\"chemical\\\", \\\"graph_power\\\"]:\\n        bonds = [entry[1:] for entry in pdb_text if entry[0] == \\\"CONECT\\\"]\\n        bonds = [[int(element) - 1 for element in entry] for entry in bonds]\\n        bonds = process_bonds(bonds)\\n        # Augment existing chemical bonds using graph power.\\n        if bond_mode == \\\"graph_power\\\":\\n            bonds = get_bonds_power(atom_coords.shape[0], bonds, graph_power)\\n    elif bond_mode == \\\"bond_cutoff\\\":\\n        bonds = get_bonds_cutoff(atom_coords, bond_cutoff)\\n    else:\\n        raise Exception(\\\"Invalid bond mode.\\\")\\n    pocket_indices, ligand_centroid = get_pocket_indices(\\n        target, atom_coords, protein_cutoff\\n    )\\n    # Filter out all non-pocket atom information from\\n    # atom_attribs and atom_coords.\\n    atom_attribs = (np.array(atom_attribs)[pocket_indices, :]).tolist()\\n    atom_coords = atom_coords[pocket_indices, :]\\n    # Update atom_attribs with the third attribute.\\n    atom_attribs = [\\n        atom_attribs[i] + [get_dist_from_ligand_centroid(ligand_centroid, atom_coords, i)]\\n        for i in range(atom_coords.shape[0])\\n    ]\\n    bonds = filter_bonds(bonds, pocket_indices)\\n    edge_attributes = get_edge_distances(bonds, atom_coords)\\n    edge_list = get_edge_list(bonds)\\n    return Data(\\n        x=torch.tensor(atom_attribs),\\n        edge_index=torch.LongTensor(edge_list),\\n        edge_attr=torch.tensor(edge_attributes),\\n    )\";\n",
       "                var nbb_formatted_code = \"def process_target(target, bond_mode, protein_cutoff, bond_cutoff, graph_power):\\n    \\\"\\\"\\\"Get a Data object after processing the target's PDB.\\\"\\\"\\\"\\n    # Open the target's PDB file and read in the lines in a list.\\n    with open(f\\\"../data/pdb/{target}.pdb\\\", \\\"r\\\") as f:\\n        pdb_text = [entry.split() for entry in f.read().split(\\\"\\\\n\\\")][5:-3]\\n    # Keep details on target atom elements and coordinates.\\n    atoms = np.array([entry[3:] for entry in pdb_text if entry[0] == \\\"ATOM\\\"])[\\n        :, [0, 2, 3, 4, 7]\\n    ]\\n    # Three atom attributes will be used, residue type, atom element type,\\n    # and distance from crystal ligand centroid. The third attribute will\\n    # be appended to this list after pocket indices are calculated.\\n    atom_attribs = atoms[:, [0, -1]]\\n    atom_attribs = [\\n        [residue_mapping[entry[0]], atom_mapping[entry[1]]]\\n        for entry in atom_attribs.tolist()\\n    ]\\n    atom_coords = np.array(atoms[:, [1, 2, 3]]).astype(float)\\n    # Get the bond list according to the bond_mode.\\n    if bond_mode in [\\\"chemical\\\", \\\"graph_power\\\"]:\\n        bonds = [entry[1:] for entry in pdb_text if entry[0] == \\\"CONECT\\\"]\\n        bonds = [[int(element) - 1 for element in entry] for entry in bonds]\\n        bonds = process_bonds(bonds)\\n        # Augment existing chemical bonds using graph power.\\n        if bond_mode == \\\"graph_power\\\":\\n            bonds = get_bonds_power(atom_coords.shape[0], bonds, graph_power)\\n    elif bond_mode == \\\"bond_cutoff\\\":\\n        bonds = get_bonds_cutoff(atom_coords, bond_cutoff)\\n    else:\\n        raise Exception(\\\"Invalid bond mode.\\\")\\n    pocket_indices, ligand_centroid = get_pocket_indices(\\n        target, atom_coords, protein_cutoff\\n    )\\n    # Filter out all non-pocket atom information from\\n    # atom_attribs and atom_coords.\\n    atom_attribs = (np.array(atom_attribs)[pocket_indices, :]).tolist()\\n    atom_coords = atom_coords[pocket_indices, :]\\n    # Update atom_attribs with the third attribute.\\n    atom_attribs = [\\n        atom_attribs[i]\\n        + [get_dist_from_ligand_centroid(ligand_centroid, atom_coords, i)]\\n        for i in range(atom_coords.shape[0])\\n    ]\\n    bonds = filter_bonds(bonds, pocket_indices)\\n    edge_attributes = get_edge_distances(bonds, atom_coords)\\n    edge_list = get_edge_list(bonds)\\n    return Data(\\n        x=torch.tensor(atom_attribs),\\n        edge_index=torch.LongTensor(edge_list),\\n        edge_attr=torch.tensor(edge_attributes),\\n    )\";\n",
       "                var nbb_cells = Jupyter.notebook.get_cells();\n",
       "                for (var i = 0; i < nbb_cells.length; ++i) {\n",
       "                    if (nbb_cells[i].input_prompt_number == nbb_cell_id) {\n",
       "                        if (nbb_cells[i].get_text() == nbb_unformatted_code) {\n",
       "                             nbb_cells[i].set_text(nbb_formatted_code);\n",
       "                        }\n",
       "                        break;\n",
       "                    }\n",
       "                }\n",
       "            }, 500);\n",
       "            "
      ],
      "text/plain": [
       "<IPython.core.display.Javascript object>"
      ]
     },
     "metadata": {},
     "output_type": "display_data"
    }
   ],
   "source": [
    "def process_target(target, bond_mode, protein_cutoff, bond_cutoff, graph_power):\n",
    "    \"\"\"Get a Data object after processing the target's PDB.\"\"\"\n",
    "    # Open the target's PDB file and read in the lines in a list.\n",
    "    with open(f\"../data/pdb/{target}.pdb\", \"r\") as f:\n",
    "        pdb_text = [entry.split() for entry in f.read().split(\"\\n\")][5:-3]\n",
    "    # Keep details on target atom elements and coordinates.\n",
    "    atoms = np.array([entry[3:] for entry in pdb_text if entry[0] == \"ATOM\"])[\n",
    "        :, [0, 2, 3, 4, 7]\n",
    "    ]\n",
    "    # Three atom attributes will be used, residue type, atom element type,\n",
    "    # and distance from crystal ligand centroid. The third attribute will\n",
    "    # be appended to this list after pocket indices are calculated.\n",
    "    atom_attribs = atoms[:, [0, -1]]\n",
    "    atom_attribs = [\n",
    "        [residue_mapping[entry[0]], atom_mapping[entry[1]]]\n",
    "        for entry in atom_attribs.tolist()\n",
    "    ]\n",
    "    atom_coords = np.array(atoms[:, [1, 2, 3]]).astype(float)\n",
    "    # Get the bond list according to the bond_mode.\n",
    "    if bond_mode in [\"chemical\", \"graph_power\"]:\n",
    "        bonds = [entry[1:] for entry in pdb_text if entry[0] == \"CONECT\"]\n",
    "        bonds = [[int(element) - 1 for element in entry] for entry in bonds]\n",
    "        bonds = process_bonds(bonds)\n",
    "        # Augment existing chemical bonds using graph power.\n",
    "        if bond_mode == \"graph_power\":\n",
    "            bonds = get_bonds_power(atom_coords.shape[0], bonds, graph_power)\n",
    "    elif bond_mode == \"bond_cutoff\":\n",
    "        bonds = get_bonds_cutoff(atom_coords, bond_cutoff)\n",
    "    else:\n",
    "        raise Exception(\"Invalid bond mode.\")\n",
    "    pocket_indices, ligand_centroid = get_pocket_indices(\n",
    "        target, atom_coords, protein_cutoff\n",
    "    )\n",
    "    # Filter out all non-pocket atom information from\n",
    "    # atom_attribs and atom_coords.\n",
    "    atom_attribs = (np.array(atom_attribs)[pocket_indices, :]).tolist()\n",
    "    atom_coords = atom_coords[pocket_indices, :]\n",
    "    # Update atom_attribs with the third attribute.\n",
    "    atom_attribs = [\n",
    "        atom_attribs[i]\n",
    "        + [get_dist_from_ligand_centroid(ligand_centroid, atom_coords, i)]\n",
    "        for i in range(atom_coords.shape[0])\n",
    "    ]\n",
    "    bonds = filter_bonds(bonds, pocket_indices)\n",
    "    edge_attributes = get_edge_distances(bonds, atom_coords)\n",
    "    edge_list = get_edge_list(bonds)\n",
    "    return Data(\n",
    "        x=torch.tensor(atom_attribs),\n",
    "        edge_index=torch.LongTensor(edge_list),\n",
    "        edge_attr=torch.tensor(edge_attributes),\n",
    "    )"
   ]
  },
  {
   "cell_type": "code",
   "execution_count": 14,
   "metadata": {},
   "outputs": [
    {
     "data": {
      "application/javascript": [
       "\n",
       "            setTimeout(function() {\n",
       "                var nbb_cell_id = 14;\n",
       "                var nbb_unformatted_code = \"def test_Data(target, fname):\\n    \\\"\\\"\\\"Test the target Data object for correctness.\\\"\\\"\\\"\\n    data = pd.read_pickle(fname)\\n    # The target's graph should neither be directed nor\\n    # contain self-loops.\\n    if data.is_directed():\\n        print(f\\\"{target} graph is directed.\\\")\\n    if data.contains_self_loops():\\n        print(f\\\"{target} has self-loops.\\\")\";\n",
       "                var nbb_formatted_code = \"def test_Data(target, fname):\\n    \\\"\\\"\\\"Test the target Data object for correctness.\\\"\\\"\\\"\\n    data = pd.read_pickle(fname)\\n    # The target's graph should neither be directed nor\\n    # contain self-loops.\\n    if data.is_directed():\\n        print(f\\\"{target} graph is directed.\\\")\\n    if data.contains_self_loops():\\n        print(f\\\"{target} has self-loops.\\\")\";\n",
       "                var nbb_cells = Jupyter.notebook.get_cells();\n",
       "                for (var i = 0; i < nbb_cells.length; ++i) {\n",
       "                    if (nbb_cells[i].input_prompt_number == nbb_cell_id) {\n",
       "                        if (nbb_cells[i].get_text() == nbb_unformatted_code) {\n",
       "                             nbb_cells[i].set_text(nbb_formatted_code);\n",
       "                        }\n",
       "                        break;\n",
       "                    }\n",
       "                }\n",
       "            }, 500);\n",
       "            "
      ],
      "text/plain": [
       "<IPython.core.display.Javascript object>"
      ]
     },
     "metadata": {},
     "output_type": "display_data"
    }
   ],
   "source": [
    "def test_Data(target, fname):\n",
    "    \"\"\"Test the target Data object for correctness.\"\"\"\n",
    "    data = pd.read_pickle(fname)\n",
    "    # The target's graph should neither be directed nor\n",
    "    # contain self-loops.\n",
    "    if data.is_directed():\n",
    "        print(f\"{target} graph is directed.\")\n",
    "    if data.contains_self_loops():\n",
    "        print(f\"{target} has self-loops.\")"
   ]
  },
  {
   "cell_type": "code",
   "execution_count": 15,
   "metadata": {},
   "outputs": [
    {
     "data": {
      "application/javascript": [
       "\n",
       "            setTimeout(function() {\n",
       "                var nbb_cell_id = 15;\n",
       "                var nbb_unformatted_code = \"def process_all_targets(\\n    all_targets, bond_mode, protein_cutoff=10, bond_cutoff=None, graph_power=None\\n):\\n    \\\"\\\"\\\"Save each target's Data object to disk, and check them for correctness.\\\"\\\"\\\"\\n    for target in progressbar(all_targets):\\n        # Set the filename of the Data object in accordance to the bond determination\\n        # method.\\n        if bond_mode == \\\"chemical\\\":\\n            fname = f\\\"../data/raw/{protein_cutoff}_{bond_mode}_{target}.pkl\\\"\\n        elif bond_mode == \\\"bond_cutoff\\\":\\n            fname = (\\n                f\\\"../data/raw/{protein_cutoff}_{bond_mode}_{bond_cutoff}_{target}.pkl\\\"\\n            )\\n        elif bond_mode == \\\"graph_power\\\":\\n            fname = (\\n                f\\\"../data/raw/{protein_cutoff}_{bond_mode}_{graph_power}_{target}.pkl\\\"\\n            )\\n        try:\\n            with open(fname, \\\"wb\\\") as f:\\n                pickle.dump(\\n                    process_target(\\n                        target, bond_mode, protein_cutoff, bond_cutoff, graph_power\\n                    ),\\n                    f,\\n                )\\n        except Exception as e:\\n            print(f\\\"{target} processing failed: {e}.\\\")\\n        # Test the written Data object for correctness.\\n        test_Data(target, fname)\";\n",
       "                var nbb_formatted_code = \"def process_all_targets(\\n    all_targets, bond_mode, protein_cutoff=10, bond_cutoff=None, graph_power=None\\n):\\n    \\\"\\\"\\\"Save each target's Data object to disk, and check them for correctness.\\\"\\\"\\\"\\n    for target in progressbar(all_targets):\\n        # Set the filename of the Data object in accordance to the bond determination\\n        # method.\\n        if bond_mode == \\\"chemical\\\":\\n            fname = f\\\"../data/raw/{protein_cutoff}_{bond_mode}_{target}.pkl\\\"\\n        elif bond_mode == \\\"bond_cutoff\\\":\\n            fname = (\\n                f\\\"../data/raw/{protein_cutoff}_{bond_mode}_{bond_cutoff}_{target}.pkl\\\"\\n            )\\n        elif bond_mode == \\\"graph_power\\\":\\n            fname = (\\n                f\\\"../data/raw/{protein_cutoff}_{bond_mode}_{graph_power}_{target}.pkl\\\"\\n            )\\n        try:\\n            with open(fname, \\\"wb\\\") as f:\\n                pickle.dump(\\n                    process_target(\\n                        target, bond_mode, protein_cutoff, bond_cutoff, graph_power\\n                    ),\\n                    f,\\n                )\\n        except Exception as e:\\n            print(f\\\"{target} processing failed: {e}.\\\")\\n        # Test the written Data object for correctness.\\n        test_Data(target, fname)\";\n",
       "                var nbb_cells = Jupyter.notebook.get_cells();\n",
       "                for (var i = 0; i < nbb_cells.length; ++i) {\n",
       "                    if (nbb_cells[i].input_prompt_number == nbb_cell_id) {\n",
       "                        if (nbb_cells[i].get_text() == nbb_unformatted_code) {\n",
       "                             nbb_cells[i].set_text(nbb_formatted_code);\n",
       "                        }\n",
       "                        break;\n",
       "                    }\n",
       "                }\n",
       "            }, 500);\n",
       "            "
      ],
      "text/plain": [
       "<IPython.core.display.Javascript object>"
      ]
     },
     "metadata": {},
     "output_type": "display_data"
    }
   ],
   "source": [
    "def process_all_targets(\n",
    "    all_targets, bond_mode, protein_cutoff=10, bond_cutoff=None, graph_power=None\n",
    "):\n",
    "    \"\"\"Save each target's Data object to disk, and check them for correctness.\"\"\"\n",
    "    for target in progressbar(all_targets):\n",
    "        # Set the filename of the Data object in accordance to the bond determination\n",
    "        # method.\n",
    "        if bond_mode == \"chemical\":\n",
    "            fname = f\"../data/raw/{protein_cutoff}_{bond_mode}_{target}.pkl\"\n",
    "        elif bond_mode == \"bond_cutoff\":\n",
    "            fname = (\n",
    "                f\"../data/raw/{protein_cutoff}_{bond_mode}_{bond_cutoff}_{target}.pkl\"\n",
    "            )\n",
    "        elif bond_mode == \"graph_power\":\n",
    "            fname = (\n",
    "                f\"../data/raw/{protein_cutoff}_{bond_mode}_{graph_power}_{target}.pkl\"\n",
    "            )\n",
    "        try:\n",
    "            with open(fname, \"wb\") as f:\n",
    "                pickle.dump(\n",
    "                    process_target(\n",
    "                        target, bond_mode, protein_cutoff, bond_cutoff, graph_power\n",
    "                    ),\n",
    "                    f,\n",
    "                )\n",
    "        except Exception as e:\n",
    "            print(f\"{target} processing failed: {e}.\")\n",
    "        # Test the written Data object for correctness.\n",
    "        test_Data(target, fname)"
   ]
  },
  {
   "cell_type": "code",
   "execution_count": 16,
   "metadata": {},
   "outputs": [
    {
     "name": "stderr",
     "output_type": "stream",
     "text": [
      "N/A% (0 of 102) |                        | Elapsed Time: 0:00:00 ETA:  --:--:--C:\\Users\\Nurmister\\.conda\\envs\\g-U-nets\\lib\\site-packages\\torch_sparse\\storage.py:382: UserWarning: This overload of nonzero is deprecated:\n",
      "\tnonzero()\n",
      "Consider using one of the following signatures instead:\n",
      "\tnonzero(*, bool as_tuple) (Triggered internally at  ..\\torch\\csrc\\utils\\python_arg_parser.cpp:882.)\n",
      "  ptr = mask.nonzero().flatten()\n",
      "100% (102 of 102) |######################| Elapsed Time: 0:01:39 Time:  0:01:39\n"
     ]
    },
    {
     "data": {
      "application/javascript": [
       "\n",
       "            setTimeout(function() {\n",
       "                var nbb_cell_id = 16;\n",
       "                var nbb_unformatted_code = \"process_all_targets(all_targets, bond_mode=\\\"bond_cutoff\\\", bond_cutoff=5)\";\n",
       "                var nbb_formatted_code = \"process_all_targets(all_targets, bond_mode=\\\"bond_cutoff\\\", bond_cutoff=5)\";\n",
       "                var nbb_cells = Jupyter.notebook.get_cells();\n",
       "                for (var i = 0; i < nbb_cells.length; ++i) {\n",
       "                    if (nbb_cells[i].input_prompt_number == nbb_cell_id) {\n",
       "                        if (nbb_cells[i].get_text() == nbb_unformatted_code) {\n",
       "                             nbb_cells[i].set_text(nbb_formatted_code);\n",
       "                        }\n",
       "                        break;\n",
       "                    }\n",
       "                }\n",
       "            }, 500);\n",
       "            "
      ],
      "text/plain": [
       "<IPython.core.display.Javascript object>"
      ]
     },
     "metadata": {},
     "output_type": "display_data"
    }
   ],
   "source": [
    "process_all_targets(all_targets, bond_mode=\"bond_cutoff\", bond_cutoff=5)"
   ]
  }
 ],
 "metadata": {
  "kernelspec": {
   "display_name": "Python 3",
   "language": "python",
   "name": "python3"
  },
  "language_info": {
   "codemirror_mode": {
    "name": "ipython",
    "version": 3
   },
   "file_extension": ".py",
   "mimetype": "text/x-python",
   "name": "python",
   "nbconvert_exporter": "python",
   "pygments_lexer": "ipython3",
   "version": "3.8.5"
  }
 },
 "nbformat": 4,
 "nbformat_minor": 4
}
