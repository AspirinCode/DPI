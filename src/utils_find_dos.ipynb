{
 "cells": [
  {
   "cell_type": "markdown",
   "metadata": {},
   "source": [
    "## Calculate degree of separation for DUD-E proteins and ligands\n",
    "\n",
    "This notebook calculates the degree of separation (and associated statistics)\n",
    "for proteins and ligands stored in the PyTorch `Data` format."
   ]
  },
  {
   "cell_type": "code",
   "execution_count": 2,
   "metadata": {},
   "outputs": [
    {
     "data": {
      "application/javascript": [
       "\n",
       "            setTimeout(function() {\n",
       "                var nbb_cell_id = 2;\n",
       "                var nbb_unformatted_code = \"import heapq\\nimport numpy as np\\nimport pandas as pd\\nimport matplotlib.pyplot as plt\\nfrom progressbar import progressbar\\nfrom torch_geometric.data import Data\";\n",
       "                var nbb_formatted_code = \"import heapq\\nimport numpy as np\\nimport pandas as pd\\nimport matplotlib.pyplot as plt\\nfrom progressbar import progressbar\\nfrom torch_geometric.data import Data\";\n",
       "                var nbb_cells = Jupyter.notebook.get_cells();\n",
       "                for (var i = 0; i < nbb_cells.length; ++i) {\n",
       "                    if (nbb_cells[i].input_prompt_number == nbb_cell_id) {\n",
       "                        if (nbb_cells[i].get_text() == nbb_unformatted_code) {\n",
       "                             nbb_cells[i].set_text(nbb_formatted_code);\n",
       "                        }\n",
       "                        break;\n",
       "                    }\n",
       "                }\n",
       "            }, 500);\n",
       "            "
      ],
      "text/plain": [
       "<IPython.core.display.Javascript object>"
      ]
     },
     "metadata": {},
     "output_type": "display_data"
    }
   ],
   "source": [
    "import heapq\n",
    "import numpy as np\n",
    "import pandas as pd\n",
    "import matplotlib.pyplot as plt\n",
    "from progressbar import progressbar\n",
    "from torch_geometric.data import Data"
   ]
  },
  {
   "cell_type": "markdown",
   "metadata": {},
   "source": [
    "### Function definitions"
   ]
  },
  {
   "cell_type": "code",
   "execution_count": 3,
   "metadata": {},
   "outputs": [
    {
     "data": {
      "application/javascript": [
       "\n",
       "            setTimeout(function() {\n",
       "                var nbb_cell_id = 3;\n",
       "                var nbb_unformatted_code = \"# get_distances_vertex implementation from\\n# https://bradfieldcs.com/algos/graphs/dijkstras-algorithm/\\n# Retrieved and modified on 17/12/2020.\\n\\n\\ndef get_distances_vertex(graph, starting_vertex, filter_natural=True):\\n    \\\"\\\"\\\"Get the shortest distances from the starting vertex to every other.\\\"\\\"\\\"\\n    # Initialize all distances as infinity, except for that between the\\n    # starting vertex and itself.\\n    distances = {vertex: float(\\\"infinity\\\") for vertex in graph}\\n    distances[starting_vertex] = 0\\n\\n    # Initialize the priority queue with the vertex we start the path from.\\n    pq = [(0, starting_vertex)]\\n    while len(pq) > 0:\\n        # Pop out the \\\"most promising\\\" vertex to next visit.\\n        current_distance, current_vertex = heapq.heappop(pq)\\n\\n        # Nodes can get added to the priority queue multiple times. We only\\n        # process a vertex the first time we remove it from the priority queue.\\n        if current_distance > distances[current_vertex]:\\n            continue\\n\\n        # Consider visiting the neighbors of the current vertex in consideration.\\n        for neighbor, weight in graph[current_vertex].items():\\n            distance = current_distance + weight\\n\\n            # Only consider this new path if it's better than any path we've\\n            # already found.\\n            if distance < distances[neighbor]:\\n                # Update the shortest distance to this neighbor.\\n                distances[neighbor] = distance\\n                heapq.heappush(pq, (distance, neighbor))\\n\\n    # Filter out all infinite distance entries (i.e., the vertex isn't reachable\\n    # from starting_vertex), and the entry for the starting_vertex itself.\\n    if filter_natural:\\n        return {\\n            vertex: distance\\n            for vertex, distance in distances.items()\\n            if vertex != starting_vertex and not np.isinf(distance)\\n        }\\n    return distances\\n\\n\\ndef get_distances_all(graph):\\n    \\\"\\\"\\\"Get the shortest distances towards every vertex in the graph from every other.\\\"\\\"\\\"\\n    all_distances = []\\n    for i in range(len(graph.keys())):\\n        all_distances.append(get_distances_vertex(graph, i, False))\\n    return all_distances\";\n",
       "                var nbb_formatted_code = \"# get_distances_vertex implementation from\\n# https://bradfieldcs.com/algos/graphs/dijkstras-algorithm/\\n# Retrieved and modified on 17/12/2020.\\n\\n\\ndef get_distances_vertex(graph, starting_vertex, filter_natural=True):\\n    \\\"\\\"\\\"Get the shortest distances from the starting vertex to every other.\\\"\\\"\\\"\\n    # Initialize all distances as infinity, except for that between the\\n    # starting vertex and itself.\\n    distances = {vertex: float(\\\"infinity\\\") for vertex in graph}\\n    distances[starting_vertex] = 0\\n\\n    # Initialize the priority queue with the vertex we start the path from.\\n    pq = [(0, starting_vertex)]\\n    while len(pq) > 0:\\n        # Pop out the \\\"most promising\\\" vertex to next visit.\\n        current_distance, current_vertex = heapq.heappop(pq)\\n\\n        # Nodes can get added to the priority queue multiple times. We only\\n        # process a vertex the first time we remove it from the priority queue.\\n        if current_distance > distances[current_vertex]:\\n            continue\\n\\n        # Consider visiting the neighbors of the current vertex in consideration.\\n        for neighbor, weight in graph[current_vertex].items():\\n            distance = current_distance + weight\\n\\n            # Only consider this new path if it's better than any path we've\\n            # already found.\\n            if distance < distances[neighbor]:\\n                # Update the shortest distance to this neighbor.\\n                distances[neighbor] = distance\\n                heapq.heappush(pq, (distance, neighbor))\\n\\n    # Filter out all infinite distance entries (i.e., the vertex isn't reachable\\n    # from starting_vertex), and the entry for the starting_vertex itself.\\n    if filter_natural:\\n        return {\\n            vertex: distance\\n            for vertex, distance in distances.items()\\n            if vertex != starting_vertex and not np.isinf(distance)\\n        }\\n    return distances\\n\\n\\ndef get_distances_all(graph):\\n    \\\"\\\"\\\"Get the shortest distances towards every vertex in the graph from every other.\\\"\\\"\\\"\\n    all_distances = []\\n    for i in range(len(graph.keys())):\\n        all_distances.append(get_distances_vertex(graph, i, False))\\n    return all_distances\";\n",
       "                var nbb_cells = Jupyter.notebook.get_cells();\n",
       "                for (var i = 0; i < nbb_cells.length; ++i) {\n",
       "                    if (nbb_cells[i].input_prompt_number == nbb_cell_id) {\n",
       "                        if (nbb_cells[i].get_text() == nbb_unformatted_code) {\n",
       "                             nbb_cells[i].set_text(nbb_formatted_code);\n",
       "                        }\n",
       "                        break;\n",
       "                    }\n",
       "                }\n",
       "            }, 500);\n",
       "            "
      ],
      "text/plain": [
       "<IPython.core.display.Javascript object>"
      ]
     },
     "metadata": {},
     "output_type": "display_data"
    }
   ],
   "source": [
    "# get_distances_vertex implementation from\n",
    "# https://bradfieldcs.com/algos/graphs/dijkstras-algorithm/\n",
    "# Retrieved and modified on 17/12/2020.\n",
    "\n",
    "\n",
    "def get_distances_vertex(graph, starting_vertex, filter_natural=True):\n",
    "    \"\"\"Get the shortest distances from the starting vertex to every other.\"\"\"\n",
    "    # Initialize all distances as infinity, except for that between the\n",
    "    # starting vertex and itself.\n",
    "    distances = {vertex: float(\"infinity\") for vertex in graph}\n",
    "    distances[starting_vertex] = 0\n",
    "\n",
    "    # Initialize the priority queue with the vertex we start the path from.\n",
    "    pq = [(0, starting_vertex)]\n",
    "    while len(pq) > 0:\n",
    "        # Pop out the \"most promising\" vertex to next visit.\n",
    "        current_distance, current_vertex = heapq.heappop(pq)\n",
    "\n",
    "        # Nodes can get added to the priority queue multiple times. We only\n",
    "        # process a vertex the first time we remove it from the priority queue.\n",
    "        if current_distance > distances[current_vertex]:\n",
    "            continue\n",
    "\n",
    "        # Consider visiting the neighbors of the current vertex in consideration.\n",
    "        for neighbor, weight in graph[current_vertex].items():\n",
    "            distance = current_distance + weight\n",
    "\n",
    "            # Only consider this new path if it's better than any path we've\n",
    "            # already found.\n",
    "            if distance < distances[neighbor]:\n",
    "                # Update the shortest distance to this neighbor.\n",
    "                distances[neighbor] = distance\n",
    "                heapq.heappush(pq, (distance, neighbor))\n",
    "\n",
    "    # Filter out all infinite distance entries (i.e., the vertex isn't reachable\n",
    "    # from starting_vertex), and the entry for the starting_vertex itself.\n",
    "    if filter_natural:\n",
    "        return {\n",
    "            vertex: distance\n",
    "            for vertex, distance in distances.items()\n",
    "            if vertex != starting_vertex and not np.isinf(distance)\n",
    "        }\n",
    "    return distances\n",
    "\n",
    "\n",
    "def get_distances_all(graph):\n",
    "    \"\"\"Get the shortest distances towards every vertex in the graph from every other.\"\"\"\n",
    "    all_distances = []\n",
    "    for i in range(len(graph.keys())):\n",
    "        all_distances.append(get_distances_vertex(graph, i, False))\n",
    "    return all_distances"
   ]
  },
  {
   "cell_type": "markdown",
   "metadata": {},
   "source": [
    "### Application: proteins"
   ]
  },
  {
   "cell_type": "code",
   "execution_count": 4,
   "metadata": {},
   "outputs": [
    {
     "data": {
      "application/javascript": [
       "\n",
       "            setTimeout(function() {\n",
       "                var nbb_cell_id = 4;\n",
       "                var nbb_unformatted_code = \"# Get the list of target names.\\nall_targets = pd.read_csv(\\\"../data/dud-e_targets.csv\\\").target_name.tolist()\\nall_targets = [target.lower() for target in all_targets]\\n\\n# Temporary removal -- bond information not available.\\nall_targets.remove(\\\"aa2ar\\\")\\nall_targets.remove(\\\"drd3\\\")\";\n",
       "                var nbb_formatted_code = \"# Get the list of target names.\\nall_targets = pd.read_csv(\\\"../data/dud-e_targets.csv\\\").target_name.tolist()\\nall_targets = [target.lower() for target in all_targets]\\n\\n# Temporary removal -- bond information not available.\\nall_targets.remove(\\\"aa2ar\\\")\\nall_targets.remove(\\\"drd3\\\")\";\n",
       "                var nbb_cells = Jupyter.notebook.get_cells();\n",
       "                for (var i = 0; i < nbb_cells.length; ++i) {\n",
       "                    if (nbb_cells[i].input_prompt_number == nbb_cell_id) {\n",
       "                        if (nbb_cells[i].get_text() == nbb_unformatted_code) {\n",
       "                             nbb_cells[i].set_text(nbb_formatted_code);\n",
       "                        }\n",
       "                        break;\n",
       "                    }\n",
       "                }\n",
       "            }, 500);\n",
       "            "
      ],
      "text/plain": [
       "<IPython.core.display.Javascript object>"
      ]
     },
     "metadata": {},
     "output_type": "display_data"
    }
   ],
   "source": [
    "# Get the list of target names.\n",
    "all_targets = pd.read_csv(\"../data/dud-e_targets.csv\").target_name.tolist()\n",
    "all_targets = [target.lower() for target in all_targets]\n",
    "\n",
    "# Temporary removal -- bond information not available.\n",
    "all_targets.remove(\"aa2ar\")\n",
    "all_targets.remove(\"drd3\")"
   ]
  },
  {
   "cell_type": "code",
   "execution_count": 5,
   "metadata": {},
   "outputs": [
    {
     "data": {
      "application/javascript": [
       "\n",
       "            setTimeout(function() {\n",
       "                var nbb_cell_id = 5;\n",
       "                var nbb_unformatted_code = \"def get_data(target, cutoff):\\n    # cutoff refers to the cutoff used to filter the protein PDB.\\n    # More details in 00_protein_processing.ipynb.\\n    return pd.read_pickle(f\\\"../data/raw/{cutoff}_{target}.pkl\\\")\\n\\n\\ndef data_to_dict(data):\\n    \\\"\\\"\\\"Convert the Data to the dictionary graph representation.\\\"\\\"\\\"\\n    edge_indices = data.edge_index.numpy()\\n    graph_dict = dict()\\n    # For each vertex in the graph, create a dictionary in graph_dict.\\n    for i in range(data.x.shape[0]):\\n        graph_dict[i] = dict()\\n    # For each edge, record it in graph_dict. In our use case,\\n    # the weight of each bond is \\\"1\\\", although this notebook can be used\\n    # otherwise.\\n    for i in range(len(edge_indices[0])):\\n        graph_dict[edge_indices[0][i]][edge_indices[1][i]] = 1\\n    return graph_dict\";\n",
       "                var nbb_formatted_code = \"def get_data(target, cutoff):\\n    # cutoff refers to the cutoff used to filter the protein PDB.\\n    # More details in 00_protein_processing.ipynb.\\n    return pd.read_pickle(f\\\"../data/raw/{cutoff}_{target}.pkl\\\")\\n\\n\\ndef data_to_dict(data):\\n    \\\"\\\"\\\"Convert the Data to the dictionary graph representation.\\\"\\\"\\\"\\n    edge_indices = data.edge_index.numpy()\\n    graph_dict = dict()\\n    # For each vertex in the graph, create a dictionary in graph_dict.\\n    for i in range(data.x.shape[0]):\\n        graph_dict[i] = dict()\\n    # For each edge, record it in graph_dict. In our use case,\\n    # the weight of each bond is \\\"1\\\", although this notebook can be used\\n    # otherwise.\\n    for i in range(len(edge_indices[0])):\\n        graph_dict[edge_indices[0][i]][edge_indices[1][i]] = 1\\n    return graph_dict\";\n",
       "                var nbb_cells = Jupyter.notebook.get_cells();\n",
       "                for (var i = 0; i < nbb_cells.length; ++i) {\n",
       "                    if (nbb_cells[i].input_prompt_number == nbb_cell_id) {\n",
       "                        if (nbb_cells[i].get_text() == nbb_unformatted_code) {\n",
       "                             nbb_cells[i].set_text(nbb_formatted_code);\n",
       "                        }\n",
       "                        break;\n",
       "                    }\n",
       "                }\n",
       "            }, 500);\n",
       "            "
      ],
      "text/plain": [
       "<IPython.core.display.Javascript object>"
      ]
     },
     "metadata": {},
     "output_type": "display_data"
    }
   ],
   "source": [
    "def get_data(target, cutoff):\n",
    "    # cutoff refers to the cutoff used to filter the protein PDB.\n",
    "    # More details in 00_protein_processing.ipynb.\n",
    "    return pd.read_pickle(f\"../data/raw/{cutoff}_{target}.pkl\")\n",
    "\n",
    "\n",
    "def data_to_dict(data):\n",
    "    \"\"\"Convert the Data to the dictionary graph representation.\"\"\"\n",
    "    edge_indices = data.edge_index.numpy()\n",
    "    graph_dict = dict()\n",
    "    # For each vertex in the graph, create a dictionary in graph_dict.\n",
    "    for i in range(data.x.shape[0]):\n",
    "        graph_dict[i] = dict()\n",
    "    # For each edge, record it in graph_dict. In our use case,\n",
    "    # the weight of each bond is \"1\", although this notebook can be used\n",
    "    # otherwise.\n",
    "    for i in range(len(edge_indices[0])):\n",
    "        graph_dict[edge_indices[0][i]][edge_indices[1][i]] = 1\n",
    "    return graph_dict"
   ]
  },
  {
   "cell_type": "code",
   "execution_count": 6,
   "metadata": {},
   "outputs": [
    {
     "data": {
      "application/javascript": [
       "\n",
       "            setTimeout(function() {\n",
       "                var nbb_cell_id = 6;\n",
       "                var nbb_unformatted_code = \"# Get the dictionary of target graph dictionaries.\\nall_targets_dict = dict(\\n    zip(all_targets, [data_to_dict(get_data(target, 10)) for target in all_targets])\\n)\";\n",
       "                var nbb_formatted_code = \"# Get the dictionary of target graph dictionaries.\\nall_targets_dict = dict(\\n    zip(all_targets, [data_to_dict(get_data(target, 10)) for target in all_targets])\\n)\";\n",
       "                var nbb_cells = Jupyter.notebook.get_cells();\n",
       "                for (var i = 0; i < nbb_cells.length; ++i) {\n",
       "                    if (nbb_cells[i].input_prompt_number == nbb_cell_id) {\n",
       "                        if (nbb_cells[i].get_text() == nbb_unformatted_code) {\n",
       "                             nbb_cells[i].set_text(nbb_formatted_code);\n",
       "                        }\n",
       "                        break;\n",
       "                    }\n",
       "                }\n",
       "            }, 500);\n",
       "            "
      ],
      "text/plain": [
       "<IPython.core.display.Javascript object>"
      ]
     },
     "metadata": {},
     "output_type": "display_data"
    }
   ],
   "source": [
    "# Get the dictionary of target graph dictionaries.\n",
    "all_targets_dict = dict(\n",
    "    zip(all_targets, [data_to_dict(get_data(target, 10)) for target in all_targets])\n",
    ")"
   ]
  },
  {
   "cell_type": "code",
   "execution_count": 7,
   "metadata": {},
   "outputs": [
    {
     "data": {
      "application/javascript": [
       "\n",
       "            setTimeout(function() {\n",
       "                var nbb_cell_id = 7;\n",
       "                var nbb_unformatted_code = \"# Calculate the degree of separatedness for each target graph.\\nprotein_all_distances = dict(\\n    zip(\\n        all_targets,\\n        [get_distances_all(all_targets_dict[target]) for target in all_targets],\\n    )\\n)\";\n",
       "                var nbb_formatted_code = \"# Calculate the degree of separatedness for each target graph.\\nprotein_all_distances = dict(\\n    zip(\\n        all_targets,\\n        [get_distances_all(all_targets_dict[target]) for target in all_targets],\\n    )\\n)\";\n",
       "                var nbb_cells = Jupyter.notebook.get_cells();\n",
       "                for (var i = 0; i < nbb_cells.length; ++i) {\n",
       "                    if (nbb_cells[i].input_prompt_number == nbb_cell_id) {\n",
       "                        if (nbb_cells[i].get_text() == nbb_unformatted_code) {\n",
       "                             nbb_cells[i].set_text(nbb_formatted_code);\n",
       "                        }\n",
       "                        break;\n",
       "                    }\n",
       "                }\n",
       "            }, 500);\n",
       "            "
      ],
      "text/plain": [
       "<IPython.core.display.Javascript object>"
      ]
     },
     "metadata": {},
     "output_type": "display_data"
    }
   ],
   "source": [
    "# Calculate the degree of separatedness for each target graph.\n",
    "protein_all_distances = dict(\n",
    "    zip(\n",
    "        all_targets,\n",
    "        [get_distances_all(all_targets_dict[target]) for target in all_targets],\n",
    "    )\n",
    ")"
   ]
  },
  {
   "cell_type": "markdown",
   "metadata": {},
   "source": [
    "### Application: ligands\n",
    "\n",
    "Repeat a similar process for ligands, which are organized under the target they are tested on."
   ]
  },
  {
   "cell_type": "code",
   "execution_count": 8,
   "metadata": {},
   "outputs": [
    {
     "data": {
      "application/javascript": [
       "\n",
       "            setTimeout(function() {\n",
       "                var nbb_cell_id = 8;\n",
       "                var nbb_unformatted_code = \"def load_ligands(target, sample):\\n    \\\"\\\"\\\"Get the ligand graph dictionaries relating to the target.\\\"\\\"\\\"\\n    target_data_dict = pd.read_pickle(f\\\"../data/raw/{target}_ligand_dict.pkl\\\")\\n    # If sampling, randomly select only\\n    if sample is not None:\\n        selected_ligands = np.random.choice(\\n            list(target_data_dict.keys()), size=sample, replace=False\\n        )\\n    # Repurpose data_to_dict() from the proteins section, since\\n    # ligands are also stored as Data objects.\\n    return {\\n        ligand_code: data_to_dict(ligand_data)\\n        for ligand_code, ligand_data in target_data_dict.items()\\n        if ligand_code in selected_ligands\\n    }\\n\\n\\ndef get_ligand_distances(target, sample=None):\\n    \\\"\\\"\\\"Get vertex-vertex shortest distances for each ligand for the target.\\\"\\\"\\\"\\n    target_data_dict = load_ligands(target, sample)\\n    return {\\n        ligand_code: get_distances_all(ligand_graph_dict)\\n        for ligand_code, ligand_graph_dict in target_data_dict.items()\\n    }\";\n",
       "                var nbb_formatted_code = \"def load_ligands(target, sample):\\n    \\\"\\\"\\\"Get the ligand graph dictionaries relating to the target.\\\"\\\"\\\"\\n    target_data_dict = pd.read_pickle(f\\\"../data/raw/{target}_ligand_dict.pkl\\\")\\n    # If sampling, randomly select only\\n    if sample is not None:\\n        selected_ligands = np.random.choice(\\n            list(target_data_dict.keys()), size=sample, replace=False\\n        )\\n    # Repurpose data_to_dict() from the proteins section, since\\n    # ligands are also stored as Data objects.\\n    return {\\n        ligand_code: data_to_dict(ligand_data)\\n        for ligand_code, ligand_data in target_data_dict.items()\\n        if ligand_code in selected_ligands\\n    }\\n\\n\\ndef get_ligand_distances(target, sample=None):\\n    \\\"\\\"\\\"Get vertex-vertex shortest distances for each ligand for the target.\\\"\\\"\\\"\\n    target_data_dict = load_ligands(target, sample)\\n    return {\\n        ligand_code: get_distances_all(ligand_graph_dict)\\n        for ligand_code, ligand_graph_dict in target_data_dict.items()\\n    }\";\n",
       "                var nbb_cells = Jupyter.notebook.get_cells();\n",
       "                for (var i = 0; i < nbb_cells.length; ++i) {\n",
       "                    if (nbb_cells[i].input_prompt_number == nbb_cell_id) {\n",
       "                        if (nbb_cells[i].get_text() == nbb_unformatted_code) {\n",
       "                             nbb_cells[i].set_text(nbb_formatted_code);\n",
       "                        }\n",
       "                        break;\n",
       "                    }\n",
       "                }\n",
       "            }, 500);\n",
       "            "
      ],
      "text/plain": [
       "<IPython.core.display.Javascript object>"
      ]
     },
     "metadata": {},
     "output_type": "display_data"
    }
   ],
   "source": [
    "def load_ligands(target, sample):\n",
    "    \"\"\"Get the ligand graph dictionaries relating to the target.\"\"\"\n",
    "    target_data_dict = pd.read_pickle(f\"../data/raw/{target}_ligand_dict.pkl\")\n",
    "    # If sampling, randomly select only\n",
    "    if sample is not None:\n",
    "        selected_ligands = np.random.choice(\n",
    "            list(target_data_dict.keys()), size=sample, replace=False\n",
    "        )\n",
    "    # Repurpose data_to_dict() from the proteins section, since\n",
    "    # ligands are also stored as Data objects.\n",
    "    return {\n",
    "        ligand_code: data_to_dict(ligand_data)\n",
    "        for ligand_code, ligand_data in target_data_dict.items()\n",
    "        if ligand_code in selected_ligands\n",
    "    }\n",
    "\n",
    "\n",
    "def get_ligand_distances(target, sample=None):\n",
    "    \"\"\"Get vertex-vertex shortest distances for each ligand for the target.\"\"\"\n",
    "    target_data_dict = load_ligands(target, sample)\n",
    "    return {\n",
    "        ligand_code: get_distances_all(ligand_graph_dict)\n",
    "        for ligand_code, ligand_graph_dict in target_data_dict.items()\n",
    "    }"
   ]
  },
  {
   "cell_type": "code",
   "execution_count": 9,
   "metadata": {},
   "outputs": [
    {
     "name": "stderr",
     "output_type": "stream",
     "text": [
      "100% (100 of 100) |######################| Elapsed Time: 0:09:23 Time:  0:09:23\n"
     ]
    },
    {
     "data": {
      "application/javascript": [
       "\n",
       "            setTimeout(function() {\n",
       "                var nbb_cell_id = 9;\n",
       "                var nbb_unformatted_code = \"# Get vertex-vertex shortest path distances for all ligands.\\nnp.random.seed(1)\\nligand_all_distances = dict()\\nfor target in progressbar(all_targets):\\n    ligand_all_distances[target] = get_ligand_distances(target, sample=400)\";\n",
       "                var nbb_formatted_code = \"# Get vertex-vertex shortest path distances for all ligands.\\nnp.random.seed(1)\\nligand_all_distances = dict()\\nfor target in progressbar(all_targets):\\n    ligand_all_distances[target] = get_ligand_distances(target, sample=400)\";\n",
       "                var nbb_cells = Jupyter.notebook.get_cells();\n",
       "                for (var i = 0; i < nbb_cells.length; ++i) {\n",
       "                    if (nbb_cells[i].input_prompt_number == nbb_cell_id) {\n",
       "                        if (nbb_cells[i].get_text() == nbb_unformatted_code) {\n",
       "                             nbb_cells[i].set_text(nbb_formatted_code);\n",
       "                        }\n",
       "                        break;\n",
       "                    }\n",
       "                }\n",
       "            }, 500);\n",
       "            "
      ],
      "text/plain": [
       "<IPython.core.display.Javascript object>"
      ]
     },
     "metadata": {},
     "output_type": "display_data"
    }
   ],
   "source": [
    "# Get vertex-vertex shortest path distances for all ligands.\n",
    "np.random.seed(1)\n",
    "ligand_all_distances = dict()\n",
    "for target in progressbar(all_targets):\n",
    "    ligand_all_distances[target] = get_ligand_distances(target, sample=400)"
   ]
  },
  {
   "cell_type": "markdown",
   "metadata": {},
   "source": [
    "### Descriptive statistics"
   ]
  },
  {
   "cell_type": "markdown",
   "metadata": {},
   "source": [
    "##### Proteins"
   ]
  },
  {
   "cell_type": "markdown",
   "metadata": {},
   "source": [
    "The below representative example shows the separatedness of vertices from each other in protein graphs, which are generally fractured. Most vertices are isolated from others. This has large implications on learnability of useful vertex representations through graph convolutional networks, and suggests the use of graph power-based methods to increase connectivity. An alternative to increase connectivity is to use a nearest-neighbor based method to determine edges. Currently, edges exist only if a chemical bond does."
   ]
  },
  {
   "cell_type": "code",
   "execution_count": 19,
   "metadata": {},
   "outputs": [
    {
     "data": {
      "text/plain": [
       "{0: inf,\n",
       " 1: 0,\n",
       " 2: 1,\n",
       " 3: inf,\n",
       " 4: inf,\n",
       " 5: inf,\n",
       " 6: inf,\n",
       " 7: inf,\n",
       " 8: inf,\n",
       " 9: inf,\n",
       " 10: inf,\n",
       " 11: inf,\n",
       " 12: inf,\n",
       " 13: inf,\n",
       " 14: inf,\n",
       " 15: inf,\n",
       " 16: inf,\n",
       " 17: inf,\n",
       " 18: inf,\n",
       " 19: inf,\n",
       " 20: inf,\n",
       " 21: inf,\n",
       " 22: inf,\n",
       " 23: inf,\n",
       " 24: inf,\n",
       " 25: inf,\n",
       " 26: inf,\n",
       " 27: inf,\n",
       " 28: inf,\n",
       " 29: inf,\n",
       " 30: inf,\n",
       " 31: inf,\n",
       " 32: inf,\n",
       " 33: inf,\n",
       " 34: inf,\n",
       " 35: inf,\n",
       " 36: inf,\n",
       " 37: inf,\n",
       " 38: inf,\n",
       " 39: inf,\n",
       " 40: inf,\n",
       " 41: inf,\n",
       " 42: inf,\n",
       " 43: inf,\n",
       " 44: inf,\n",
       " 45: inf,\n",
       " 46: inf,\n",
       " 47: inf,\n",
       " 48: inf,\n",
       " 49: inf,\n",
       " 50: inf,\n",
       " 51: inf,\n",
       " 52: inf,\n",
       " 53: inf,\n",
       " 54: inf,\n",
       " 55: inf,\n",
       " 56: inf,\n",
       " 57: inf,\n",
       " 58: inf,\n",
       " 59: inf,\n",
       " 60: inf,\n",
       " 61: inf,\n",
       " 62: inf,\n",
       " 63: inf,\n",
       " 64: inf,\n",
       " 65: inf,\n",
       " 66: inf,\n",
       " 67: inf,\n",
       " 68: inf,\n",
       " 69: inf,\n",
       " 70: inf,\n",
       " 71: inf,\n",
       " 72: inf,\n",
       " 73: inf,\n",
       " 74: inf,\n",
       " 75: inf,\n",
       " 76: inf,\n",
       " 77: inf,\n",
       " 78: inf,\n",
       " 79: inf,\n",
       " 80: inf,\n",
       " 81: inf,\n",
       " 82: inf,\n",
       " 83: inf,\n",
       " 84: inf,\n",
       " 85: inf,\n",
       " 86: inf,\n",
       " 87: inf,\n",
       " 88: inf,\n",
       " 89: inf,\n",
       " 90: inf,\n",
       " 91: inf,\n",
       " 92: inf,\n",
       " 93: inf,\n",
       " 94: inf,\n",
       " 95: inf,\n",
       " 96: inf,\n",
       " 97: inf,\n",
       " 98: inf,\n",
       " 99: inf,\n",
       " 100: inf,\n",
       " 101: inf,\n",
       " 102: inf,\n",
       " 103: inf,\n",
       " 104: inf,\n",
       " 105: inf,\n",
       " 106: inf,\n",
       " 107: inf,\n",
       " 108: inf,\n",
       " 109: inf,\n",
       " 110: inf,\n",
       " 111: inf,\n",
       " 112: inf,\n",
       " 113: inf,\n",
       " 114: inf,\n",
       " 115: inf,\n",
       " 116: inf,\n",
       " 117: inf,\n",
       " 118: inf,\n",
       " 119: inf,\n",
       " 120: inf,\n",
       " 121: inf,\n",
       " 122: inf,\n",
       " 123: inf,\n",
       " 124: inf,\n",
       " 125: inf,\n",
       " 126: inf,\n",
       " 127: inf,\n",
       " 128: inf,\n",
       " 129: inf,\n",
       " 130: inf,\n",
       " 131: inf,\n",
       " 132: inf,\n",
       " 133: inf,\n",
       " 134: inf,\n",
       " 135: inf,\n",
       " 136: inf,\n",
       " 137: inf,\n",
       " 138: inf,\n",
       " 139: inf,\n",
       " 140: inf,\n",
       " 141: inf,\n",
       " 142: inf,\n",
       " 143: inf,\n",
       " 144: inf,\n",
       " 145: inf,\n",
       " 146: inf,\n",
       " 147: inf,\n",
       " 148: inf,\n",
       " 149: inf,\n",
       " 150: inf,\n",
       " 151: inf,\n",
       " 152: inf,\n",
       " 153: inf,\n",
       " 154: inf,\n",
       " 155: inf,\n",
       " 156: inf}"
      ]
     },
     "execution_count": 19,
     "metadata": {},
     "output_type": "execute_result"
    },
    {
     "data": {
      "application/javascript": [
       "\n",
       "            setTimeout(function() {\n",
       "                var nbb_cell_id = 19;\n",
       "                var nbb_unformatted_code = \"protein_all_distances[\\\"pur2\\\"][\\n    1\\n]  # Shortest distance from the second pur2 atom to all others\";\n",
       "                var nbb_formatted_code = \"protein_all_distances[\\\"pur2\\\"][\\n    1\\n]  # Shortest distance from the second pur2 atom to all others\";\n",
       "                var nbb_cells = Jupyter.notebook.get_cells();\n",
       "                for (var i = 0; i < nbb_cells.length; ++i) {\n",
       "                    if (nbb_cells[i].input_prompt_number == nbb_cell_id) {\n",
       "                        if (nbb_cells[i].get_text() == nbb_unformatted_code) {\n",
       "                             nbb_cells[i].set_text(nbb_formatted_code);\n",
       "                        }\n",
       "                        break;\n",
       "                    }\n",
       "                }\n",
       "            }, 500);\n",
       "            "
      ],
      "text/plain": [
       "<IPython.core.display.Javascript object>"
      ]
     },
     "metadata": {},
     "output_type": "display_data"
    }
   ],
   "source": [
    "protein_all_distances[\"pur2\"][\n",
    "    1\n",
    "]  # Shortest distance from the second pur2 atom to all others"
   ]
  },
  {
   "cell_type": "markdown",
   "metadata": {},
   "source": [
    "##### Ligands"
   ]
  },
  {
   "cell_type": "code",
   "execution_count": 11,
   "metadata": {},
   "outputs": [
    {
     "data": {
      "application/javascript": [
       "\n",
       "            setTimeout(function() {\n",
       "                var nbb_cell_id = 11;\n",
       "                var nbb_unformatted_code = \"def get_dos_list(distances_dict):\\n    return np.array([value for subdict in distances_dict for value in subdict.values()])\\n\\n\\ndef get_per_ligand_mean_dos(target):\\n    curr_dict = ligand_all_distances[target]\\n    ligand_means = []\\n    for ligand_code in curr_dict.keys():\\n        ligand_means.append(get_dos_list(curr_dict[ligand_code]).mean())\\n    return ligand_means\";\n",
       "                var nbb_formatted_code = \"def get_dos_list(distances_dict):\\n    return np.array([value for subdict in distances_dict for value in subdict.values()])\\n\\n\\ndef get_per_ligand_mean_dos(target):\\n    curr_dict = ligand_all_distances[target]\\n    ligand_means = []\\n    for ligand_code in curr_dict.keys():\\n        ligand_means.append(get_dos_list(curr_dict[ligand_code]).mean())\\n    return ligand_means\";\n",
       "                var nbb_cells = Jupyter.notebook.get_cells();\n",
       "                for (var i = 0; i < nbb_cells.length; ++i) {\n",
       "                    if (nbb_cells[i].input_prompt_number == nbb_cell_id) {\n",
       "                        if (nbb_cells[i].get_text() == nbb_unformatted_code) {\n",
       "                             nbb_cells[i].set_text(nbb_formatted_code);\n",
       "                        }\n",
       "                        break;\n",
       "                    }\n",
       "                }\n",
       "            }, 500);\n",
       "            "
      ],
      "text/plain": [
       "<IPython.core.display.Javascript object>"
      ]
     },
     "metadata": {},
     "output_type": "display_data"
    }
   ],
   "source": [
    "def get_dos_list(distances_dict):\n",
    "    return np.array([value for subdict in distances_dict for value in subdict.values()])\n",
    "\n",
    "\n",
    "def get_per_ligand_mean_dos(target):\n",
    "    curr_dict = ligand_all_distances[target]\n",
    "    ligand_means = []\n",
    "    for ligand_code in curr_dict.keys():\n",
    "        ligand_means.append(get_dos_list(curr_dict[ligand_code]).mean())\n",
    "    return ligand_means"
   ]
  },
  {
   "cell_type": "code",
   "execution_count": 12,
   "metadata": {},
   "outputs": [
    {
     "name": "stderr",
     "output_type": "stream",
     "text": [
      "100% (100 of 100) |######################| Elapsed Time: 0:00:11 Time:  0:00:11\n"
     ]
    },
    {
     "data": {
      "application/javascript": [
       "\n",
       "            setTimeout(function() {\n",
       "                var nbb_cell_id = 12;\n",
       "                var nbb_unformatted_code = \"all_per_ligand_means = []\\nall_per_target_means = []\\nfor target in progressbar(all_targets):\\n    curr_per_ligand_mean_dos = get_per_ligand_mean_dos(target)\\n    all_per_ligand_means += curr_per_ligand_mean_dos\\n    all_per_target_means.append(np.mean(curr_per_ligand_mean_dos))\";\n",
       "                var nbb_formatted_code = \"all_per_ligand_means = []\\nall_per_target_means = []\\nfor target in progressbar(all_targets):\\n    curr_per_ligand_mean_dos = get_per_ligand_mean_dos(target)\\n    all_per_ligand_means += curr_per_ligand_mean_dos\\n    all_per_target_means.append(np.mean(curr_per_ligand_mean_dos))\";\n",
       "                var nbb_cells = Jupyter.notebook.get_cells();\n",
       "                for (var i = 0; i < nbb_cells.length; ++i) {\n",
       "                    if (nbb_cells[i].input_prompt_number == nbb_cell_id) {\n",
       "                        if (nbb_cells[i].get_text() == nbb_unformatted_code) {\n",
       "                             nbb_cells[i].set_text(nbb_formatted_code);\n",
       "                        }\n",
       "                        break;\n",
       "                    }\n",
       "                }\n",
       "            }, 500);\n",
       "            "
      ],
      "text/plain": [
       "<IPython.core.display.Javascript object>"
      ]
     },
     "metadata": {},
     "output_type": "display_data"
    }
   ],
   "source": [
    "all_per_ligand_means = []\n",
    "all_per_target_means = []\n",
    "for target in progressbar(all_targets):\n",
    "    curr_per_ligand_mean_dos = get_per_ligand_mean_dos(target)\n",
    "    all_per_ligand_means += curr_per_ligand_mean_dos\n",
    "    all_per_target_means.append(np.mean(curr_per_ligand_mean_dos))"
   ]
  },
  {
   "cell_type": "code",
   "execution_count": 13,
   "metadata": {},
   "outputs": [
    {
     "data": {
      "application/javascript": [
       "\n",
       "            setTimeout(function() {\n",
       "                var nbb_cell_id = 13;\n",
       "                var nbb_unformatted_code = \"def plot_histogram(x, title):\\n    n, bins, patches = plt.hist(\\n        x=x, bins=\\\"auto\\\", color=\\\"#0504aa\\\", alpha=0.7, rwidth=0.85\\n    )\\n    plt.grid(axis=\\\"y\\\", alpha=0.75)\\n    plt.xlabel(\\\"DoS\\\")\\n    plt.ylabel(\\\"Frequency\\\")\\n    plt.title(title)\\n    plt.axvline(x=np.mean(x), color=\\\"red\\\", linestyle=\\\"--\\\")\\n    maxfreq = n.max()\\n    plt.ylim(ymax=np.ceil(maxfreq / 10) * 10 if maxfreq % 10 else maxfreq + 10)\";\n",
       "                var nbb_formatted_code = \"def plot_histogram(x, title):\\n    n, bins, patches = plt.hist(\\n        x=x, bins=\\\"auto\\\", color=\\\"#0504aa\\\", alpha=0.7, rwidth=0.85\\n    )\\n    plt.grid(axis=\\\"y\\\", alpha=0.75)\\n    plt.xlabel(\\\"DoS\\\")\\n    plt.ylabel(\\\"Frequency\\\")\\n    plt.title(title)\\n    plt.axvline(x=np.mean(x), color=\\\"red\\\", linestyle=\\\"--\\\")\\n    maxfreq = n.max()\\n    plt.ylim(ymax=np.ceil(maxfreq / 10) * 10 if maxfreq % 10 else maxfreq + 10)\";\n",
       "                var nbb_cells = Jupyter.notebook.get_cells();\n",
       "                for (var i = 0; i < nbb_cells.length; ++i) {\n",
       "                    if (nbb_cells[i].input_prompt_number == nbb_cell_id) {\n",
       "                        if (nbb_cells[i].get_text() == nbb_unformatted_code) {\n",
       "                             nbb_cells[i].set_text(nbb_formatted_code);\n",
       "                        }\n",
       "                        break;\n",
       "                    }\n",
       "                }\n",
       "            }, 500);\n",
       "            "
      ],
      "text/plain": [
       "<IPython.core.display.Javascript object>"
      ]
     },
     "metadata": {},
     "output_type": "display_data"
    }
   ],
   "source": [
    "def plot_histogram(x, title):\n",
    "    n, bins, patches = plt.hist(\n",
    "        x=x, bins=\"auto\", color=\"#0504aa\", alpha=0.7, rwidth=0.85\n",
    "    )\n",
    "    plt.grid(axis=\"y\", alpha=0.75)\n",
    "    plt.xlabel(\"DoS\")\n",
    "    plt.ylabel(\"Frequency\")\n",
    "    plt.title(title)\n",
    "    plt.axvline(x=np.mean(x), color=\"red\", linestyle=\"--\")\n",
    "    maxfreq = n.max()\n",
    "    plt.ylim(ymax=np.ceil(maxfreq / 10) * 10 if maxfreq % 10 else maxfreq + 10)"
   ]
  },
  {
   "cell_type": "code",
   "execution_count": 14,
   "metadata": {},
   "outputs": [
    {
     "data": {
      "image/png": "[encoded data removed]",
      "text/plain": [
       "<Figure size 432x288 with 1 Axes>"
      ]
     },
     "metadata": {
      "needs_background": "light"
     },
     "output_type": "display_data"
    },
    {
     "data": {
      "application/javascript": [
       "\n",
       "            setTimeout(function() {\n",
       "                var nbb_cell_id = 14;\n",
       "                var nbb_unformatted_code = \"plot_histogram(all_per_ligand_means, \\\"Per-ligand mean DoS\\\")\";\n",
       "                var nbb_formatted_code = \"plot_histogram(all_per_ligand_means, \\\"Per-ligand mean DoS\\\")\";\n",
       "                var nbb_cells = Jupyter.notebook.get_cells();\n",
       "                for (var i = 0; i < nbb_cells.length; ++i) {\n",
       "                    if (nbb_cells[i].input_prompt_number == nbb_cell_id) {\n",
       "                        if (nbb_cells[i].get_text() == nbb_unformatted_code) {\n",
       "                             nbb_cells[i].set_text(nbb_formatted_code);\n",
       "                        }\n",
       "                        break;\n",
       "                    }\n",
       "                }\n",
       "            }, 500);\n",
       "            "
      ],
      "text/plain": [
       "<IPython.core.display.Javascript object>"
      ]
     },
     "metadata": {},
     "output_type": "display_data"
    }
   ],
   "source": [
    "plot_histogram(all_per_ligand_means, \"Per-ligand mean DoS\")"
   ]
  },
  {
   "cell_type": "code",
   "execution_count": 15,
   "metadata": {},
   "outputs": [
    {
     "data": {
      "image/png": "[encoded data removed]",
      "text/plain": [
       "<Figure size 432x288 with 1 Axes>"
      ]
     },
     "metadata": {
      "needs_background": "light"
     },
     "output_type": "display_data"
    },
    {
     "data": {
      "application/javascript": [
       "\n",
       "            setTimeout(function() {\n",
       "                var nbb_cell_id = 15;\n",
       "                var nbb_unformatted_code = \"plot_histogram(all_per_target_means, \\\"Per-target mean DoS\\\")\";\n",
       "                var nbb_formatted_code = \"plot_histogram(all_per_target_means, \\\"Per-target mean DoS\\\")\";\n",
       "                var nbb_cells = Jupyter.notebook.get_cells();\n",
       "                for (var i = 0; i < nbb_cells.length; ++i) {\n",
       "                    if (nbb_cells[i].input_prompt_number == nbb_cell_id) {\n",
       "                        if (nbb_cells[i].get_text() == nbb_unformatted_code) {\n",
       "                             nbb_cells[i].set_text(nbb_formatted_code);\n",
       "                        }\n",
       "                        break;\n",
       "                    }\n",
       "                }\n",
       "            }, 500);\n",
       "            "
      ],
      "text/plain": [
       "<IPython.core.display.Javascript object>"
      ]
     },
     "metadata": {},
     "output_type": "display_data"
    }
   ],
   "source": [
    "plot_histogram(all_per_target_means, \"Per-target mean DoS\")"
   ]
  },
  {
   "cell_type": "markdown",
   "metadata": {},
   "source": [
    "The case with ligands differs significantly:\n",
    "1. The \"fracturing\" seen in protein graphs does not exist for ligand graphs, and vertices are generally 6-7 \"hops\" from each other.\n",
    "2. The separatedness of verices is consistent across targets; i.e. the ligands associated with one target do not differ significantly in their separatedness from that of other targets."
   ]
  }
 ],
 "metadata": {
  "kernelspec": {
   "display_name": "Python 3",
   "language": "python",
   "name": "python3"
  },
  "language_info": {
   "codemirror_mode": {
    "name": "ipython",
    "version": 3
   },
   "file_extension": ".py",
   "mimetype": "text/x-python",
   "name": "python",
   "nbconvert_exporter": "python",
   "pygments_lexer": "ipython3",
   "version": "3.8.5"
  }
 },
 "nbformat": 4,
 "nbformat_minor": 4
}
