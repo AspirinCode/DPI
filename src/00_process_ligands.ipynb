{
 "cells": [
  {
   "cell_type": "markdown",
   "metadata": {},
   "source": [
    "### Process ligands\n",
    "\n",
    "For each of the DUD-E targets, process its associated targets (stored in the `.mol2` format).\n",
    "Save each processed ligand in the PyTorch `Data` format."
   ]
  },
  {
   "cell_type": "code",
   "execution_count": 2,
   "metadata": {},
   "outputs": [
    {
     "data": {
      "application/javascript": [
       "\n",
       "            setTimeout(function() {\n",
       "                var nbb_cell_id = 2;\n",
       "                var nbb_unformatted_code = \"import os\\nimport torch\\nimport pickle\\nimport numpy as np\\nimport pandas as pd\\nfrom progressbar import progressbar\\nfrom torch_geometric.data import Data\\nfrom biopandas.mol2 import split_multimol2\";\n",
       "                var nbb_formatted_code = \"import os\\nimport torch\\nimport pickle\\nimport numpy as np\\nimport pandas as pd\\nfrom progressbar import progressbar\\nfrom torch_geometric.data import Data\\nfrom biopandas.mol2 import split_multimol2\";\n",
       "                var nbb_cells = Jupyter.notebook.get_cells();\n",
       "                for (var i = 0; i < nbb_cells.length; ++i) {\n",
       "                    if (nbb_cells[i].input_prompt_number == nbb_cell_id) {\n",
       "                        if (nbb_cells[i].get_text() == nbb_unformatted_code) {\n",
       "                             nbb_cells[i].set_text(nbb_formatted_code);\n",
       "                        }\n",
       "                        break;\n",
       "                    }\n",
       "                }\n",
       "            }, 500);\n",
       "            "
      ],
      "text/plain": [
       "<IPython.core.display.Javascript object>"
      ]
     },
     "metadata": {},
     "output_type": "display_data"
    }
   ],
   "source": [
    "import os\n",
    "import torch\n",
    "import pickle\n",
    "import numpy as np\n",
    "import pandas as pd\n",
    "from progressbar import progressbar\n",
    "from torch_geometric.data import Data\n",
    "from biopandas.mol2 import split_multimol2"
   ]
  },
  {
   "cell_type": "code",
   "execution_count": 3,
   "metadata": {},
   "outputs": [
    {
     "data": {
      "application/javascript": [
       "\n",
       "            setTimeout(function() {\n",
       "                var nbb_cell_id = 3;\n",
       "                var nbb_unformatted_code = \"# We will write each of the ligand Data files to the\\n# \\\"raw\\\" directory.\\nif not os.path.exists(\\\"../data/raw\\\"):\\n    os.makedirs(\\\"../data/raw\\\")\";\n",
       "                var nbb_formatted_code = \"# We will write each of the ligand Data files to the\\n# \\\"raw\\\" directory.\\nif not os.path.exists(\\\"../data/raw\\\"):\\n    os.makedirs(\\\"../data/raw\\\")\";\n",
       "                var nbb_cells = Jupyter.notebook.get_cells();\n",
       "                for (var i = 0; i < nbb_cells.length; ++i) {\n",
       "                    if (nbb_cells[i].input_prompt_number == nbb_cell_id) {\n",
       "                        if (nbb_cells[i].get_text() == nbb_unformatted_code) {\n",
       "                             nbb_cells[i].set_text(nbb_formatted_code);\n",
       "                        }\n",
       "                        break;\n",
       "                    }\n",
       "                }\n",
       "            }, 500);\n",
       "            "
      ],
      "text/plain": [
       "<IPython.core.display.Javascript object>"
      ]
     },
     "metadata": {},
     "output_type": "display_data"
    }
   ],
   "source": [
    "# We will write each of the ligand Data files to the\n",
    "# \"raw\" directory.\n",
    "if not os.path.exists(\"../data/raw\"):\n",
    "    os.makedirs(\"../data/raw\")"
   ]
  },
  {
   "cell_type": "code",
   "execution_count": 4,
   "metadata": {},
   "outputs": [
    {
     "data": {
      "application/javascript": [
       "\n",
       "            setTimeout(function() {\n",
       "                var nbb_cell_id = 4;\n",
       "                var nbb_unformatted_code = \"# Load all of the DUD-E target names.\\nall_targets = pd.read_csv(\\\"../data/dud-e_targets.csv\\\").target_name.tolist()\\nall_targets = [target.lower() for target in all_targets]\";\n",
       "                var nbb_formatted_code = \"# Load all of the DUD-E target names.\\nall_targets = pd.read_csv(\\\"../data/dud-e_targets.csv\\\").target_name.tolist()\\nall_targets = [target.lower() for target in all_targets]\";\n",
       "                var nbb_cells = Jupyter.notebook.get_cells();\n",
       "                for (var i = 0; i < nbb_cells.length; ++i) {\n",
       "                    if (nbb_cells[i].input_prompt_number == nbb_cell_id) {\n",
       "                        if (nbb_cells[i].get_text() == nbb_unformatted_code) {\n",
       "                             nbb_cells[i].set_text(nbb_formatted_code);\n",
       "                        }\n",
       "                        break;\n",
       "                    }\n",
       "                }\n",
       "            }, 500);\n",
       "            "
      ],
      "text/plain": [
       "<IPython.core.display.Javascript object>"
      ]
     },
     "metadata": {},
     "output_type": "display_data"
    }
   ],
   "source": [
    "# Load all of the DUD-E target names.\n",
    "all_targets = pd.read_csv(\"../data/dud-e_targets.csv\").target_name.tolist()\n",
    "all_targets = [target.lower() for target in all_targets]"
   ]
  },
  {
   "cell_type": "code",
   "execution_count": 5,
   "metadata": {},
   "outputs": [
    {
     "data": {
      "application/javascript": [
       "\n",
       "            setTimeout(function() {\n",
       "                var nbb_cell_id = 5;\n",
       "                var nbb_unformatted_code = \"def filter_bonds(bonds, non_h_indices):\\n    \\\"\\\"\\\"Return the bonds between non-hydrogen atoms.\\\"\\\"\\\"\\n    filtered_bonds = [\\n        entry\\n        for entry in bonds\\n        if entry[0] in non_h_indices and entry[1] in non_h_indices\\n    ]\\n    index_mapping = dict(zip(non_h_indices, range(len(non_h_indices))))\\n    return np.array([\\n        [index_mapping[entry[0]], index_mapping[entry[1]]] for entry in filtered_bonds\\n    ])\";\n",
       "                var nbb_formatted_code = \"def filter_bonds(bonds, non_h_indices):\\n    \\\"\\\"\\\"Return the bonds between non-hydrogen atoms.\\\"\\\"\\\"\\n    filtered_bonds = [\\n        entry\\n        for entry in bonds\\n        if entry[0] in non_h_indices and entry[1] in non_h_indices\\n    ]\\n    index_mapping = dict(zip(non_h_indices, range(len(non_h_indices))))\\n    return np.array(\\n        [[index_mapping[entry[0]], index_mapping[entry[1]]] for entry in filtered_bonds]\\n    )\";\n",
       "                var nbb_cells = Jupyter.notebook.get_cells();\n",
       "                for (var i = 0; i < nbb_cells.length; ++i) {\n",
       "                    if (nbb_cells[i].input_prompt_number == nbb_cell_id) {\n",
       "                        if (nbb_cells[i].get_text() == nbb_unformatted_code) {\n",
       "                             nbb_cells[i].set_text(nbb_formatted_code);\n",
       "                        }\n",
       "                        break;\n",
       "                    }\n",
       "                }\n",
       "            }, 500);\n",
       "            "
      ],
      "text/plain": [
       "<IPython.core.display.Javascript object>"
      ]
     },
     "metadata": {},
     "output_type": "display_data"
    }
   ],
   "source": [
    "def filter_bonds(bonds, non_h_indices):\n",
    "    \"\"\"Return the bonds between non-hydrogen atoms.\"\"\"\n",
    "    filtered_bonds = [\n",
    "        entry\n",
    "        for entry in bonds\n",
    "        if entry[0] in non_h_indices and entry[1] in non_h_indices\n",
    "    ]\n",
    "    index_mapping = dict(zip(non_h_indices, range(len(non_h_indices))))\n",
    "    return np.array(\n",
    "        [[index_mapping[entry[0]], index_mapping[entry[1]]] for entry in filtered_bonds]\n",
    "    )"
   ]
  },
  {
   "cell_type": "code",
   "execution_count": 6,
   "metadata": {},
   "outputs": [
    {
     "data": {
      "application/javascript": [
       "\n",
       "            setTimeout(function() {\n",
       "                var nbb_cell_id = 6;\n",
       "                var nbb_unformatted_code = \"def get_distance(coords, atom_a, atom_b):\\n    \\\"\\\"\\\"Get the L2 distance between two atoms.\\\"\\\"\\\"\\n    return np.linalg.norm(coords[atom_a, :] - coords[atom_b, :])\\n\\n\\ndef get_edge_props(bonds, coords):\\n    \\\"\\\"\\\"Get the edge list and edge attributes.\\\"\\\"\\\"\\n    edge_list, sublist_1, sublist_2 = [], [], []\\n    edge_attribs = []\\n    for i in range(bonds.shape[0]):\\n        # Add both \\\"directions\\\" of the bond to the sublists.\\n        sublist_1 += [bonds[i, 0], bonds[i, 1]]\\n        sublist_2 += [bonds[i, 1], bonds[i, 0]]\\n        # Add the distance edge attribute to the list.\\n        dist_list = [get_distance(coords, *bonds[i, 0:2])]\\n        # We append the distance sub-list twice to correspond\\n        # to both directions of the bond.\\n        edge_attribs.append(dist_list)\\n        edge_attribs.append(dist_list)\\n    # Append both sublists to create the edge list.\\n    edge_list.append(sublist_1)\\n    edge_list.append(sublist_2)\\n    return np.array(edge_list).astype(int).tolist(), edge_attribs\";\n",
       "                var nbb_formatted_code = \"def get_distance(coords, atom_a, atom_b):\\n    \\\"\\\"\\\"Get the L2 distance between two atoms.\\\"\\\"\\\"\\n    return np.linalg.norm(coords[atom_a, :] - coords[atom_b, :])\\n\\n\\ndef get_edge_props(bonds, coords):\\n    \\\"\\\"\\\"Get the edge list and edge attributes.\\\"\\\"\\\"\\n    edge_list, sublist_1, sublist_2 = [], [], []\\n    edge_attribs = []\\n    for i in range(bonds.shape[0]):\\n        # Add both \\\"directions\\\" of the bond to the sublists.\\n        sublist_1 += [bonds[i, 0], bonds[i, 1]]\\n        sublist_2 += [bonds[i, 1], bonds[i, 0]]\\n        # Add the distance edge attribute to the list.\\n        dist_list = [get_distance(coords, *bonds[i, 0:2])]\\n        # We append the distance sub-list twice to correspond\\n        # to both directions of the bond.\\n        edge_attribs.append(dist_list)\\n        edge_attribs.append(dist_list)\\n    # Append both sublists to create the edge list.\\n    edge_list.append(sublist_1)\\n    edge_list.append(sublist_2)\\n    return np.array(edge_list).astype(int).tolist(), edge_attribs\";\n",
       "                var nbb_cells = Jupyter.notebook.get_cells();\n",
       "                for (var i = 0; i < nbb_cells.length; ++i) {\n",
       "                    if (nbb_cells[i].input_prompt_number == nbb_cell_id) {\n",
       "                        if (nbb_cells[i].get_text() == nbb_unformatted_code) {\n",
       "                             nbb_cells[i].set_text(nbb_formatted_code);\n",
       "                        }\n",
       "                        break;\n",
       "                    }\n",
       "                }\n",
       "            }, 500);\n",
       "            "
      ],
      "text/plain": [
       "<IPython.core.display.Javascript object>"
      ]
     },
     "metadata": {},
     "output_type": "display_data"
    }
   ],
   "source": [
    "def get_distance(coords, atom_a, atom_b):\n",
    "    \"\"\"Get the L2 distance between two atoms.\"\"\"\n",
    "    return np.linalg.norm(coords[atom_a, :] - coords[atom_b, :])\n",
    "\n",
    "\n",
    "def get_edge_props(bonds, coords):\n",
    "    \"\"\"Get the edge list and edge attributes.\"\"\"\n",
    "    edge_list, sublist_1, sublist_2 = [], [], []\n",
    "    edge_attribs = []\n",
    "    for i in range(bonds.shape[0]):\n",
    "        # Add both \"directions\" of the bond to the sublists.\n",
    "        sublist_1 += [bonds[i, 0], bonds[i, 1]]\n",
    "        sublist_2 += [bonds[i, 1], bonds[i, 0]]\n",
    "        # Add the distance edge attribute to the list.\n",
    "        dist_list = [get_distance(coords, *bonds[i, 0:2])]\n",
    "        # We append the distance sub-list twice to correspond\n",
    "        # to both directions of the bond.\n",
    "        edge_attribs.append(dist_list)\n",
    "        edge_attribs.append(dist_list)\n",
    "    # Append both sublists to create the edge list.\n",
    "    edge_list.append(sublist_1)\n",
    "    edge_list.append(sublist_2)\n",
    "    return np.array(edge_list).astype(int).tolist(), edge_attribs"
   ]
  },
  {
   "cell_type": "code",
   "execution_count": 7,
   "metadata": {},
   "outputs": [
    {
     "data": {
      "application/javascript": [
       "\n",
       "            setTimeout(function() {\n",
       "                var nbb_cell_id = 7;\n",
       "                var nbb_unformatted_code = \"# Dictionary to encode atom element names to integers\\n# before saving into the Data format.\\natom_mapping = {\\n    \\\"Br\\\": 1,\\n    \\\"C\\\": 2,\\n    \\\"Cl\\\": 3,\\n    \\\"F\\\": 4,\\n    \\\"I\\\": 5,\\n    \\\"N\\\": 6,\\n    \\\"O\\\": 7,\\n    \\\"P\\\": 8,\\n    \\\"S\\\": 9,\\n    \\\"Si\\\": 10,\\n    \\\"H\\\": 11,\\n}\";\n",
       "                var nbb_formatted_code = \"# Dictionary to encode atom element names to integers\\n# before saving into the Data format.\\natom_mapping = {\\n    \\\"Br\\\": 1,\\n    \\\"C\\\": 2,\\n    \\\"Cl\\\": 3,\\n    \\\"F\\\": 4,\\n    \\\"I\\\": 5,\\n    \\\"N\\\": 6,\\n    \\\"O\\\": 7,\\n    \\\"P\\\": 8,\\n    \\\"S\\\": 9,\\n    \\\"Si\\\": 10,\\n    \\\"H\\\": 11,\\n}\";\n",
       "                var nbb_cells = Jupyter.notebook.get_cells();\n",
       "                for (var i = 0; i < nbb_cells.length; ++i) {\n",
       "                    if (nbb_cells[i].input_prompt_number == nbb_cell_id) {\n",
       "                        if (nbb_cells[i].get_text() == nbb_unformatted_code) {\n",
       "                             nbb_cells[i].set_text(nbb_formatted_code);\n",
       "                        }\n",
       "                        break;\n",
       "                    }\n",
       "                }\n",
       "            }, 500);\n",
       "            "
      ],
      "text/plain": [
       "<IPython.core.display.Javascript object>"
      ]
     },
     "metadata": {},
     "output_type": "display_data"
    }
   ],
   "source": [
    "# Dictionary to encode atom element names to integers\n",
    "# before saving into the Data format.\n",
    "atom_mapping = {\n",
    "    \"Br\": 1,\n",
    "    \"C\": 2,\n",
    "    \"Cl\": 3,\n",
    "    \"F\": 4,\n",
    "    \"I\": 5,\n",
    "    \"N\": 6,\n",
    "    \"O\": 7,\n",
    "    \"P\": 8,\n",
    "    \"S\": 9,\n",
    "    \"Si\": 10,\n",
    "    \"H\": 11,\n",
    "}"
   ]
  },
  {
   "cell_type": "code",
   "execution_count": 8,
   "metadata": {},
   "outputs": [
    {
     "data": {
      "application/javascript": [
       "\n",
       "            setTimeout(function() {\n",
       "                var nbb_cell_id = 8;\n",
       "                var nbb_unformatted_code = \"def process_ligands(target):\\n    \\\"\\\"\\\"Save the ligands associated with the target to disk.\\\"\\\"\\\"\\n    # Maps each associated ligand's code to whether it interacts\\n    # with the target (1) or not (0).\\n    responses = {}\\n    # The dictionary to be written to disk; maps each associated\\n    # ligand's code to its Data object.\\n    ligand_dict = {}\\n    for fname in [\\\"actives_final.mol2\\\", \\\"decoys_final.mol2\\\"]:\\n        # Split the mol2 file with multiple ligands by ligand.\\n        # This list will be a list of pair sub-lists, the first\\n        # element of which is the ligand code, and the second of which\\n        # is the associated coordinate and bond text.\\n        mol_text = list(split_multimol2(f\\\"../data/unproc/{target}/{fname}\\\"))\\n        ligand_codes = [entry[0] for entry in mol_text]\\n        mol_text = [entry[1] for entry in mol_text]\\n        y = int(fname.startswith(\\\"a\\\"))\\n        # For each ligand, create a Data object.\\n        for i in range(len(mol_text)):\\n            num_atoms = int(mol_text[i][2].split()[0])\\n            # Remove extraneous information from each line of the text.\\n            cleaned_text = [row[:-1] for row in mol_text[i][7:]]\\n            # Split the cleaned text into two.\\n            atoms_coords, bonds = (\\n                [row.split() for row in cleaned_text[:num_atoms]],\\n                [row.split() for row in cleaned_text[(num_atoms + 1) :]],\\n            )\\n            # Split the first half into atom element names, and atom coordinates.\\n            atoms = [row[5].split(\\\".\\\")[0] for row in atoms_coords]\\n            coords = np.array([row[2:5] for row in atoms_coords]).astype(float)\\n            # Process bond information into integers.\\n            bonds = [(np.array(bond[1:3]).astype(int) - 1).tolist() for bond in bonds]\\n            # Filter out Hydrogen atoms from all lists.\\n            non_h_indices = np.where(np.array(atoms) != \\\"H\\\")[0]\\n            atoms = (np.array(atoms)[non_h_indices]).tolist()\\n            atoms = [[atom_mapping[atom]] for atom in atoms]\\n            coords = coords[non_h_indices, :]\\n            bonds = filter_bonds(bonds, non_h_indices)\\n            # Convert the bond list to an edge list, and get the edge attributes.\\n            edge_list, edge_attribs = get_edge_props(bonds, coords)\\n            # Create a Data object out of the ligand information, and add it to\\n            # the ligand dictionary for this target.\\n            ligand_dict[ligand_codes[i]] = Data(\\n                x=torch.tensor(atoms),\\n                edge_index=torch.LongTensor(edge_list),\\n                edge_attr=torch.tensor(edge_attribs),\\n                y=torch.tensor([[y]]),\\n                ligand_code=ligand_codes[i],\\n                target=target,\\n            )\\n            responses[ligand_codes[i]] = y\\n\\n    with open(f\\\"../data/raw/{target}_ligand_dict.pkl\\\", \\\"wb\\\") as f:\\n        pickle.dump(ligand_dict, f)\\n    return responses\";\n",
       "                var nbb_formatted_code = \"def process_ligands(target):\\n    \\\"\\\"\\\"Save the ligands associated with the target to disk.\\\"\\\"\\\"\\n    # Maps each associated ligand's code to whether it interacts\\n    # with the target (1) or not (0).\\n    responses = {}\\n    # The dictionary to be written to disk; maps each associated\\n    # ligand's code to its Data object.\\n    ligand_dict = {}\\n    for fname in [\\\"actives_final.mol2\\\", \\\"decoys_final.mol2\\\"]:\\n        # Split the mol2 file with multiple ligands by ligand.\\n        # This list will be a list of pair sub-lists, the first\\n        # element of which is the ligand code, and the second of which\\n        # is the associated coordinate and bond text.\\n        mol_text = list(split_multimol2(f\\\"../data/unproc/{target}/{fname}\\\"))\\n        ligand_codes = [entry[0] for entry in mol_text]\\n        mol_text = [entry[1] for entry in mol_text]\\n        y = int(fname.startswith(\\\"a\\\"))\\n        # For each ligand, create a Data object.\\n        for i in range(len(mol_text)):\\n            num_atoms = int(mol_text[i][2].split()[0])\\n            # Remove extraneous information from each line of the text.\\n            cleaned_text = [row[:-1] for row in mol_text[i][7:]]\\n            # Split the cleaned text into two.\\n            atoms_coords, bonds = (\\n                [row.split() for row in cleaned_text[:num_atoms]],\\n                [row.split() for row in cleaned_text[(num_atoms + 1) :]],\\n            )\\n            # Split the first half into atom element names, and atom coordinates.\\n            atoms = [row[5].split(\\\".\\\")[0] for row in atoms_coords]\\n            coords = np.array([row[2:5] for row in atoms_coords]).astype(float)\\n            # Process bond information into integers.\\n            bonds = [(np.array(bond[1:3]).astype(int) - 1).tolist() for bond in bonds]\\n            # Filter out Hydrogen atoms from all lists.\\n            non_h_indices = np.where(np.array(atoms) != \\\"H\\\")[0]\\n            atoms = (np.array(atoms)[non_h_indices]).tolist()\\n            atoms = [[atom_mapping[atom]] for atom in atoms]\\n            coords = coords[non_h_indices, :]\\n            bonds = filter_bonds(bonds, non_h_indices)\\n            # Convert the bond list to an edge list, and get the edge attributes.\\n            edge_list, edge_attribs = get_edge_props(bonds, coords)\\n            # Create a Data object out of the ligand information, and add it to\\n            # the ligand dictionary for this target.\\n            ligand_dict[ligand_codes[i]] = Data(\\n                x=torch.tensor(atoms),\\n                edge_index=torch.LongTensor(edge_list),\\n                edge_attr=torch.tensor(edge_attribs),\\n                y=torch.tensor([[y]]),\\n                ligand_code=ligand_codes[i],\\n                target=target,\\n            )\\n            responses[ligand_codes[i]] = y\\n\\n    with open(f\\\"../data/raw/{target}_ligand_dict.pkl\\\", \\\"wb\\\") as f:\\n        pickle.dump(ligand_dict, f)\\n    return responses\";\n",
       "                var nbb_cells = Jupyter.notebook.get_cells();\n",
       "                for (var i = 0; i < nbb_cells.length; ++i) {\n",
       "                    if (nbb_cells[i].input_prompt_number == nbb_cell_id) {\n",
       "                        if (nbb_cells[i].get_text() == nbb_unformatted_code) {\n",
       "                             nbb_cells[i].set_text(nbb_formatted_code);\n",
       "                        }\n",
       "                        break;\n",
       "                    }\n",
       "                }\n",
       "            }, 500);\n",
       "            "
      ],
      "text/plain": [
       "<IPython.core.display.Javascript object>"
      ]
     },
     "metadata": {},
     "output_type": "display_data"
    }
   ],
   "source": [
    "def process_ligands(target):\n",
    "    \"\"\"Save the ligands associated with the target to disk.\"\"\"\n",
    "    # Maps each associated ligand's code to whether it interacts\n",
    "    # with the target (1) or not (0).\n",
    "    responses = {}\n",
    "    # The dictionary to be written to disk; maps each associated\n",
    "    # ligand's code to its Data object.\n",
    "    ligand_dict = {}\n",
    "    for fname in [\"actives_final.mol2\", \"decoys_final.mol2\"]:\n",
    "        # Split the mol2 file with multiple ligands by ligand.\n",
    "        # This list will be a list of pair sub-lists, the first\n",
    "        # element of which is the ligand code, and the second of which\n",
    "        # is the associated coordinate and bond text.\n",
    "        mol_text = list(split_multimol2(f\"../data/unproc/{target}/{fname}\"))\n",
    "        ligand_codes = [entry[0] for entry in mol_text]\n",
    "        mol_text = [entry[1] for entry in mol_text]\n",
    "        y = int(fname.startswith(\"a\"))\n",
    "        # For each ligand, create a Data object.\n",
    "        for i in range(len(mol_text)):\n",
    "            num_atoms = int(mol_text[i][2].split()[0])\n",
    "            # Remove extraneous information from each line of the text.\n",
    "            cleaned_text = [row[:-1] for row in mol_text[i][7:]]\n",
    "            # Split the cleaned text into two.\n",
    "            atoms_coords, bonds = (\n",
    "                [row.split() for row in cleaned_text[:num_atoms]],\n",
    "                [row.split() for row in cleaned_text[(num_atoms + 1) :]],\n",
    "            )\n",
    "            # Split the first half into atom element names, and atom coordinates.\n",
    "            atoms = [row[5].split(\".\")[0] for row in atoms_coords]\n",
    "            coords = np.array([row[2:5] for row in atoms_coords]).astype(float)\n",
    "            # Process bond information into integers.\n",
    "            bonds = [(np.array(bond[1:3]).astype(int) - 1).tolist() for bond in bonds]\n",
    "            # Filter out Hydrogen atoms from all lists.\n",
    "            non_h_indices = np.where(np.array(atoms) != \"H\")[0]\n",
    "            atoms = (np.array(atoms)[non_h_indices]).tolist()\n",
    "            atoms = [[atom_mapping[atom]] for atom in atoms]\n",
    "            coords = coords[non_h_indices, :]\n",
    "            bonds = filter_bonds(bonds, non_h_indices)\n",
    "            # Convert the bond list to an edge list, and get the edge attributes.\n",
    "            edge_list, edge_attribs = get_edge_props(bonds, coords)\n",
    "            # Create a Data object out of the ligand information, and add it to\n",
    "            # the ligand dictionary for this target.\n",
    "            ligand_dict[ligand_codes[i]] = Data(\n",
    "                x=torch.tensor(atoms),\n",
    "                edge_index=torch.LongTensor(edge_list),\n",
    "                edge_attr=torch.tensor(edge_attribs),\n",
    "                y=torch.tensor([[y]]),\n",
    "                ligand_code=ligand_codes[i],\n",
    "                target=target,\n",
    "            )\n",
    "            responses[ligand_codes[i]] = y\n",
    "\n",
    "    # Save the dictionary of ligand Data objects to disk.\n",
    "    with open(f\"../data/raw/{target}_ligand_dict.pkl\", \"wb\") as f:\n",
    "        pickle.dump(ligand_dict, f)\n",
    "    # Return the dictionary of responses, to be integrated into\n",
    "    # a larger dictionary.\n",
    "    return responses"
   ]
  },
  {
   "cell_type": "code",
   "execution_count": 10,
   "metadata": {},
   "outputs": [
    {
     "data": {
      "application/javascript": [
       "\n",
       "            setTimeout(function() {\n",
       "                var nbb_cell_id = 10;\n",
       "                var nbb_unformatted_code = \"def process_all_targets(all_targets):\\n    \\\"\\\"\\\"Save the ligands associated with all targets to disk.\\\"\\\"\\\"\\n    ligand_responses = dict()\\n    for target in progressbar(all_targets):\\n        ligand_responses[target] = process_ligands(target)\\n\\n    with open(\\\"../data/raw/ligand_responses.pkl\\\", \\\"wb\\\") as f:\\n        pickle.dump(ligand_responses, f)\";\n",
       "                var nbb_formatted_code = \"def process_all_targets(all_targets):\\n    \\\"\\\"\\\"Save the ligands associated with all targets to disk.\\\"\\\"\\\"\\n    ligand_responses = dict()\\n    for target in progressbar(all_targets):\\n        ligand_responses[target] = process_ligands(target)\\n\\n    with open(\\\"../data/raw/ligand_responses.pkl\\\", \\\"wb\\\") as f:\\n        pickle.dump(ligand_responses, f)\";\n",
       "                var nbb_cells = Jupyter.notebook.get_cells();\n",
       "                for (var i = 0; i < nbb_cells.length; ++i) {\n",
       "                    if (nbb_cells[i].input_prompt_number == nbb_cell_id) {\n",
       "                        if (nbb_cells[i].get_text() == nbb_unformatted_code) {\n",
       "                             nbb_cells[i].set_text(nbb_formatted_code);\n",
       "                        }\n",
       "                        break;\n",
       "                    }\n",
       "                }\n",
       "            }, 500);\n",
       "            "
      ],
      "text/plain": [
       "<IPython.core.display.Javascript object>"
      ]
     },
     "metadata": {},
     "output_type": "display_data"
    }
   ],
   "source": [
    "def process_all_targets(all_targets):\n",
    "    \"\"\"Save the ligands associated with all targets to disk.\"\"\"\n",
    "    # The dictionary of all target-ligand responses.\n",
    "    ligand_responses = dict()\n",
    "    for target in progressbar(all_targets):\n",
    "        ligand_responses[target] = process_ligands(target)\n",
    "\n",
    "    with open(\"../data/raw/ligand_responses.pkl\", \"wb\") as f:\n",
    "        pickle.dump(ligand_responses, f)"
   ]
  },
  {
   "cell_type": "code",
   "execution_count": 11,
   "metadata": {
    "scrolled": false
   },
   "outputs": [
    {
     "name": "stderr",
     "output_type": "stream",
     "text": [
      "100% (102 of 102) |######################| Elapsed Time: 0:40:36 Time:  0:40:36\n"
     ]
    },
    {
     "data": {
      "application/javascript": [
       "\n",
       "            setTimeout(function() {\n",
       "                var nbb_cell_id = 11;\n",
       "                var nbb_unformatted_code = \"process_all_targets(all_targets)\";\n",
       "                var nbb_formatted_code = \"process_all_targets(all_targets)\";\n",
       "                var nbb_cells = Jupyter.notebook.get_cells();\n",
       "                for (var i = 0; i < nbb_cells.length; ++i) {\n",
       "                    if (nbb_cells[i].input_prompt_number == nbb_cell_id) {\n",
       "                        if (nbb_cells[i].get_text() == nbb_unformatted_code) {\n",
       "                             nbb_cells[i].set_text(nbb_formatted_code);\n",
       "                        }\n",
       "                        break;\n",
       "                    }\n",
       "                }\n",
       "            }, 500);\n",
       "            "
      ],
      "text/plain": [
       "<IPython.core.display.Javascript object>"
      ]
     },
     "metadata": {},
     "output_type": "display_data"
    }
   ],
   "source": [
    "process_all_targets(all_targets)"
   ]
  }
 ],
 "metadata": {
  "kernelspec": {
   "display_name": "Python 3",
   "language": "python",
   "name": "python3"
  },
  "language_info": {
   "codemirror_mode": {
    "name": "ipython",
    "version": 3
   },
   "file_extension": ".py",
   "mimetype": "text/x-python",
   "name": "python",
   "nbconvert_exporter": "python",
   "pygments_lexer": "ipython3",
   "version": "3.8.5"
  }
 },
 "nbformat": 4,
 "nbformat_minor": 4
}
